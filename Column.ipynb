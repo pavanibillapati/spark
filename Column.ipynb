{
 "cells": [
  {
   "cell_type": "code",
   "execution_count": 0,
   "metadata": {
    "application/vnd.databricks.v1+cell": {
     "cellMetadata": {
      "byteLimit": 2048000,
      "rowLimit": 10000
     },
     "inputWidgets": {},
     "nuid": "2f12346f-0b30-46ff-bd41-b47985c293de",
     "showTitle": false,
     "title": ""
    }
   },
   "outputs": [
    {
     "output_type": "stream",
     "name": "stdout",
     "output_type": "stream",
     "text": [
      "Out[1]: pyspark.sql.column.Column"
     ]
    }
   ],
   "source": [
    "from pyspark.sql.functions import lit\n",
    "\n",
    "col1 = lit('abc')\n",
    "\n",
    "type(col1)"
   ]
  },
  {
   "cell_type": "code",
   "execution_count": 0,
   "metadata": {
    "application/vnd.databricks.v1+cell": {
     "cellMetadata": {
      "byteLimit": 2048000,
      "rowLimit": 10000
     },
     "inputWidgets": {},
     "nuid": "4de7e338-8ef0-4525-910c-4f2bed95a7f5",
     "showTitle": false,
     "title": ""
    }
   },
   "outputs": [
    {
     "output_type": "stream",
     "name": "stdout",
     "output_type": "stream",
     "text": [
      "+------+----+------+\n|  name| age|salary|\n+------+----+------+\n|Maheer|Male|  2000|\n|   Leo|Male|  3000|\n+------+----+------+\n\n"
     ]
    }
   ],
   "source": [
    "data = (['Maheer', 'Male', 2000],\n",
    "        ['Leo', 'Male', 3000])\n",
    "\n",
    "schema = ('name', 'age', 'salary')\n",
    "\n",
    "df = spark.createDataFrame(data, schema)\n",
    "\n",
    "df.show()"
   ]
  },
  {
   "cell_type": "code",
   "execution_count": 0,
   "metadata": {
    "application/vnd.databricks.v1+cell": {
     "cellMetadata": {
      "byteLimit": 2048000,
      "rowLimit": 10000
     },
     "inputWidgets": {},
     "nuid": "04c5a68e-34b4-43cd-b16e-1760e38b3edb",
     "showTitle": false,
     "title": ""
    }
   },
   "outputs": [
    {
     "output_type": "stream",
     "name": "stdout",
     "output_type": "stream",
     "text": [
      "+------+----+------+-----------+\n|  name| age|salary|     newcol|\n+------+----+------+-----------+\n|Maheer|Male|  2000|newcolvalue|\n|   Leo|Male|  3000|newcolvalue|\n+------+----+------+-----------+\n\nroot\n |-- name: string (nullable = true)\n |-- age: string (nullable = true)\n |-- salary: long (nullable = true)\n |-- newcol: string (nullable = false)\n\n"
     ]
    }
   ],
   "source": [
    "from pyspark.sql.functions import lit\n",
    "\n",
    "df = df.withColumn('newcol', lit('newcolvalue'))\n",
    "\n",
    "df.show()\n",
    "\n",
    "df.printSchema()"
   ]
  },
  {
   "cell_type": "code",
   "execution_count": 0,
   "metadata": {
    "application/vnd.databricks.v1+cell": {
     "cellMetadata": {
      "byteLimit": 2048000,
      "rowLimit": 10000
     },
     "inputWidgets": {},
     "nuid": "b6e55b83-ea85-4684-a70e-cff140254af6",
     "showTitle": false,
     "title": ""
    }
   },
   "outputs": [
    {
     "output_type": "stream",
     "name": "stdout",
     "output_type": "stream",
     "text": [
      "+------+\n|  name|\n+------+\n|Maheer|\n|   Leo|\n+------+\n\n"
     ]
    }
   ],
   "source": [
    "df.select(df.name).show()"
   ]
  },
  {
   "cell_type": "code",
   "execution_count": 0,
   "metadata": {
    "application/vnd.databricks.v1+cell": {
     "cellMetadata": {
      "byteLimit": 2048000,
      "rowLimit": 10000
     },
     "inputWidgets": {},
     "nuid": "c9eadefa-d532-4808-bc1b-69809dc337ec",
     "showTitle": false,
     "title": ""
    }
   },
   "outputs": [
    {
     "output_type": "stream",
     "name": "stdout",
     "output_type": "stream",
     "text": [
      "+------+\n|  name|\n+------+\n|Maheer|\n|   Leo|\n+------+\n\n"
     ]
    }
   ],
   "source": [
    "df.select(df['name']).show()"
   ]
  },
  {
   "cell_type": "code",
   "execution_count": 0,
   "metadata": {
    "application/vnd.databricks.v1+cell": {
     "cellMetadata": {
      "byteLimit": 2048000,
      "rowLimit": 10000
     },
     "inputWidgets": {},
     "nuid": "81919fee-46bb-4932-913c-b83a4c453fe9",
     "showTitle": false,
     "title": ""
    }
   },
   "outputs": [
    {
     "output_type": "stream",
     "name": "stdout",
     "output_type": "stream",
     "text": [
      "+------+\n|  name|\n+------+\n|Maheer|\n|   Leo|\n+------+\n\n"
     ]
    }
   ],
   "source": [
    "from pyspark.sql.functions import col\n",
    "\n",
    "df.select(col('name')).show()"
   ]
  },
  {
   "cell_type": "code",
   "execution_count": 0,
   "metadata": {
    "application/vnd.databricks.v1+cell": {
     "cellMetadata": {
      "byteLimit": 2048000,
      "rowLimit": 10000
     },
     "inputWidgets": {},
     "nuid": "b5c086fb-7fee-471b-a677-602918acf661",
     "showTitle": false,
     "title": ""
    }
   },
   "outputs": [
    {
     "output_type": "stream",
     "name": "stdout",
     "output_type": "stream",
     "text": [
      "+------+------+------+--------------+\n|  name|gender|salary|         props|\n+------+------+------+--------------+\n|Maheer|  Male|  2000|{black, brown}|\n|   Leo|  Male|  3000|{brown, brown}|\n+------+------+------+--------------+\n\nroot\n |-- name: string (nullable = true)\n |-- gender: string (nullable = true)\n |-- salary: integer (nullable = true)\n |-- props: struct (nullable = true)\n |    |-- hair: string (nullable = true)\n |    |-- eye: string (nullable = true)\n\n"
     ]
    }
   ],
   "source": [
    "from pyspark.sql.types import StructField, StructType, StringType, IntegerType\n",
    "from pyspark.sql.functions import col\n",
    "\n",
    "data = (['Maheer', 'Male', 2000, ('black', 'brown')],\n",
    "        ['Leo', 'Male', 3000,  ('brown', 'brown')])\n",
    "\n",
    "props_type = StructType([\\\n",
    "                                StructField('hair', StringType()),\n",
    "                                StructField('eye', StringType())\n",
    "                            ])\n",
    "\n",
    "schema = StructType([\\\n",
    "                        StructField('name', StringType()),\n",
    "                        StructField('gender', StringType()),\n",
    "                        StructField('salary', IntegerType()),\n",
    "                        StructField('props', props_type)                        \n",
    "                    ])\n",
    "\n",
    "df = spark.createDataFrame(data, schema)\n",
    "\n",
    "df.show()\n",
    "df.printSchema()"
   ]
  },
  {
   "cell_type": "code",
   "execution_count": 0,
   "metadata": {
    "application/vnd.databricks.v1+cell": {
     "cellMetadata": {
      "byteLimit": 2048000,
      "rowLimit": 10000
     },
     "inputWidgets": {},
     "nuid": "8660b273-fb1f-4f52-8840-63485a9e13b2",
     "showTitle": false,
     "title": ""
    }
   },
   "outputs": [
    {
     "output_type": "stream",
     "name": "stdout",
     "output_type": "stream",
     "text": [
      "+---------+\n|props.eye|\n+---------+\n|    brown|\n|    brown|\n+---------+\n\n"
     ]
    }
   ],
   "source": [
    "df.select(df.props.eye).show()"
   ]
  },
  {
   "cell_type": "code",
   "execution_count": 0,
   "metadata": {
    "application/vnd.databricks.v1+cell": {
     "cellMetadata": {
      "byteLimit": 2048000,
      "rowLimit": 10000
     },
     "inputWidgets": {},
     "nuid": "d23639e9-f784-4daa-acb3-c41825330427",
     "showTitle": false,
     "title": ""
    }
   },
   "outputs": [
    {
     "output_type": "stream",
     "name": "stdout",
     "output_type": "stream",
     "text": [
      "+-----+\n|  eye|\n+-----+\n|brown|\n|brown|\n+-----+\n\n"
     ]
    }
   ],
   "source": [
    "df.select(df['props.eye']).show()"
   ]
  },
  {
   "cell_type": "code",
   "execution_count": 0,
   "metadata": {
    "application/vnd.databricks.v1+cell": {
     "cellMetadata": {
      "byteLimit": 2048000,
      "rowLimit": 10000
     },
     "inputWidgets": {},
     "nuid": "591f7e49-3797-4e98-b128-c35643fa8c00",
     "showTitle": false,
     "title": ""
    }
   },
   "outputs": [
    {
     "output_type": "stream",
     "name": "stdout",
     "output_type": "stream",
     "text": [
      "+-----+\n|  eye|\n+-----+\n|brown|\n|brown|\n+-----+\n\n"
     ]
    }
   ],
   "source": [
    "df.select(col('props.eye')).show()"
   ]
  },
  {
   "cell_type": "code",
   "execution_count": 0,
   "metadata": {
    "application/vnd.databricks.v1+cell": {
     "cellMetadata": {},
     "inputWidgets": {},
     "nuid": "7c4dbddd-4844-41f3-83d3-61ec9ea89ce4",
     "showTitle": false,
     "title": ""
    }
   },
   "outputs": [],
   "source": []
  }
 ],
 "metadata": {
  "application/vnd.databricks.v1+notebook": {
   "dashboards": [],
   "language": "python",
   "notebookMetadata": {
    "pythonIndentUnit": 4
   },
   "notebookName": "Column",
   "widgets": {}
  }
 },
 "nbformat": 4,
 "nbformat_minor": 0
}
