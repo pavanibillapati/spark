{
 "cells": [
  {
   "cell_type": "code",
   "execution_count": 1,
   "id": "91844254",
   "metadata": {},
   "outputs": [],
   "source": [
    "from pyspark.sql import SparkSession"
   ]
  },
  {
   "cell_type": "code",
   "execution_count": 2,
   "id": "c35bd81d",
   "metadata": {},
   "outputs": [],
   "source": [
    "spark = SparkSession.builder.appName('dataframe').getOrCreate()"
   ]
  },
  {
   "cell_type": "code",
   "execution_count": 5,
   "id": "84dc504e",
   "metadata": {},
   "outputs": [],
   "source": [
    "df = spark.read.csv(r\"C:\\Users\\pavan\\OneDrive\\Desktop\\prep\\datasets\\test1.csv\", header= True, inferSchema = True)"
   ]
  },
  {
   "cell_type": "code",
   "execution_count": 6,
   "id": "df85e651",
   "metadata": {},
   "outputs": [
    {
     "name": "stdout",
     "output_type": "stream",
     "text": [
      "+----+-------+----+\n",
      "| Id |   Name| Age|\n",
      "+----+-------+----+\n",
      "|   1|   john|  22|\n",
      "|   2|Stephen|  22|\n",
      "|   3|  Stacy|  24|\n",
      "|   4|   paul|  23|\n",
      "|   5|   NULL|  32|\n",
      "|   6|    Joe|NULL|\n",
      "|NULL|   NULL|  45|\n",
      "|   8|   jack|NULL|\n",
      "+----+-------+----+\n",
      "\n"
     ]
    }
   ],
   "source": [
    "df.show()"
   ]
  },
  {
   "cell_type": "code",
   "execution_count": 7,
   "id": "d11e2e70",
   "metadata": {},
   "outputs": [
    {
     "name": "stdout",
     "output_type": "stream",
     "text": [
      "+---+-------+---+\n",
      "|Id |   Name|Age|\n",
      "+---+-------+---+\n",
      "|  1|   john| 22|\n",
      "|  2|Stephen| 22|\n",
      "|  3|  Stacy| 24|\n",
      "|  4|   paul| 23|\n",
      "+---+-------+---+\n",
      "\n"
     ]
    }
   ],
   "source": [
    "##Condition\n",
    "#names of people less than age 25\n",
    "\n",
    "df.filter(\"Age<25\").show()"
   ]
  },
  {
   "cell_type": "code",
   "execution_count": 10,
   "id": "1cc7f405",
   "metadata": {},
   "outputs": [
    {
     "name": "stdout",
     "output_type": "stream",
     "text": [
      "+-------+---+\n",
      "|   Name|Age|\n",
      "+-------+---+\n",
      "|   john| 22|\n",
      "|Stephen| 22|\n",
      "|  Stacy| 24|\n",
      "|   paul| 23|\n",
      "+-------+---+\n",
      "\n"
     ]
    }
   ],
   "source": [
    "# displaying only specified columns after filtering\n",
    "\n",
    "df.filter(df['Age'] < 25).select(['Name','Age']).show()"
   ]
  },
  {
   "cell_type": "code",
   "execution_count": 12,
   "id": "b2d68922",
   "metadata": {},
   "outputs": [
    {
     "name": "stdout",
     "output_type": "stream",
     "text": [
      "+---+-------+---+\n",
      "|Id |   Name|Age|\n",
      "+---+-------+---+\n",
      "|  1|   john| 22|\n",
      "|  2|Stephen| 22|\n",
      "|  3|  Stacy| 24|\n",
      "|  4|   paul| 23|\n",
      "|  5|   NULL| 32|\n",
      "+---+-------+---+\n",
      "\n"
     ]
    }
   ],
   "source": [
    "#multiple conditions using and\n",
    "df.filter((df['Age'] > 20) & (df['Age'] < 35)).show()"
   ]
  },
  {
   "cell_type": "code",
   "execution_count": 13,
   "id": "956dfe11",
   "metadata": {},
   "outputs": [
    {
     "name": "stdout",
     "output_type": "stream",
     "text": [
      "+----+----+---+\n",
      "| Id |Name|Age|\n",
      "+----+----+---+\n",
      "|NULL|NULL| 45|\n",
      "+----+----+---+\n",
      "\n"
     ]
    }
   ],
   "source": [
    "#multiple conditions using or\n",
    "df.filter((df['Age'] < 20) | (df['Age'] > 35)).show()\n"
   ]
  },
  {
   "cell_type": "code",
   "execution_count": 14,
   "id": "f5262ccd",
   "metadata": {},
   "outputs": [
    {
     "name": "stdout",
     "output_type": "stream",
     "text": [
      "+----+-------+---+\n",
      "| Id |   Name|Age|\n",
      "+----+-------+---+\n",
      "|   1|   john| 22|\n",
      "|   2|Stephen| 22|\n",
      "|   3|  Stacy| 24|\n",
      "|   4|   paul| 23|\n",
      "|   5|   NULL| 32|\n",
      "|NULL|   NULL| 45|\n",
      "+----+-------+---+\n",
      "\n"
     ]
    }
   ],
   "source": [
    "#not operation\n",
    "df.filter(~(df['Age'] < 20) | (df['Age'] > 35)).show()"
   ]
  },
  {
   "cell_type": "code",
   "execution_count": null,
   "id": "a486f7c5",
   "metadata": {},
   "outputs": [],
   "source": []
  }
 ],
 "metadata": {
  "kernelspec": {
   "display_name": "Python 3 (ipykernel)",
   "language": "python",
   "name": "python3"
  },
  "language_info": {
   "codemirror_mode": {
    "name": "ipython",
    "version": 3
   },
   "file_extension": ".py",
   "mimetype": "text/x-python",
   "name": "python",
   "nbconvert_exporter": "python",
   "pygments_lexer": "ipython3",
   "version": "3.10.9"
  }
 },
 "nbformat": 4,
 "nbformat_minor": 5
}
