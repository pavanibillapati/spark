{
 "cells": [
  {
   "cell_type": "code",
   "execution_count": 0,
   "metadata": {
    "application/vnd.databricks.v1+cell": {
     "cellMetadata": {
      "byteLimit": 2048000,
      "rowLimit": 10000
     },
     "inputWidgets": {},
     "nuid": "18a3183f-e8eb-493e-86a9-df6d1cbe41a3",
     "showTitle": false,
     "title": ""
    }
   },
   "outputs": [
    {
     "output_type": "stream",
     "name": "stdout",
     "output_type": "stream",
     "text": [
      "+---+------+------+------+----+\n| Id|  Name|Gender|Salary|Dept|\n+---+------+------+------+----+\n|  1|Maheer|     M|  5000|  IT|\n|  2|Ayesha|     F|  5000|  HR|\n|  1|Mahesh|     M|  5000|  CS|\n|  1|Govind|     M|  5000|  HR|\n|  1|  Rita|     F|  5000|  CS|\n|  1|   Asi|     M|  5000|  CS|\n+---+------+------+------+----+\n\n"
     ]
    }
   ],
   "source": [
    "data = [(1, 'Maheer', 'M', 5000, 'IT'),\\\n",
    "        (2, 'Ayesha', 'F', 5000, 'HR'),\\\n",
    "        (1, 'Mahesh', 'M', 5000, 'CS'),\\\n",
    "        (1, 'Govind', 'M', 5000, 'HR'),\\\n",
    "        (1, 'Rita', 'F', 5000, 'CS'),\\\n",
    "        (1, 'Asi', 'M', 5000, 'CS')]\n",
    "\n",
    "schema = ('Id','Name', 'Gender', 'Salary', 'Dept')\n",
    "\n",
    "df = spark.createDataFrame(data, schema)\n",
    "df.show()"
   ]
  },
  {
   "cell_type": "code",
   "execution_count": 0,
   "metadata": {
    "application/vnd.databricks.v1+cell": {
     "cellMetadata": {
      "byteLimit": 2048000,
      "rowLimit": 10000
     },
     "inputWidgets": {},
     "nuid": "d5a5318c-f60b-4496-9964-a260b88cc157",
     "showTitle": false,
     "title": ""
    }
   },
   "outputs": [
    {
     "output_type": "stream",
     "name": "stdout",
     "output_type": "stream",
     "text": [
      "+----+-----+\n|Dept|count|\n+----+-----+\n|  IT|    1|\n|  HR|    2|\n|  CS|    3|\n+----+-----+\n\n"
     ]
    }
   ],
   "source": [
    "df.groupBy('Dept').count().show()"
   ]
  },
  {
   "cell_type": "code",
   "execution_count": 0,
   "metadata": {
    "application/vnd.databricks.v1+cell": {
     "cellMetadata": {
      "byteLimit": 2048000,
      "rowLimit": 10000
     },
     "inputWidgets": {},
     "nuid": "7ee983af-fa69-446e-81bf-20b9dd979372",
     "showTitle": false,
     "title": ""
    }
   },
   "outputs": [
    {
     "output_type": "stream",
     "name": "stdout",
     "output_type": "stream",
     "text": [
      "Out[6]: pyspark.sql.group.GroupedData"
     ]
    }
   ],
   "source": [
    "type(df.groupBy('Dept'))"
   ]
  },
  {
   "cell_type": "code",
   "execution_count": 0,
   "metadata": {
    "application/vnd.databricks.v1+cell": {
     "cellMetadata": {
      "byteLimit": 2048000,
      "rowLimit": 10000
     },
     "inputWidgets": {},
     "nuid": "390b2e07-ca8e-4a16-8465-93979138384c",
     "showTitle": false,
     "title": ""
    }
   },
   "outputs": [
    {
     "output_type": "stream",
     "name": "stdout",
     "output_type": "stream",
     "text": [
      "+----+-----------+\n|Dept|min(Salary)|\n+----+-----------+\n|  IT|       5000|\n|  HR|       5000|\n|  CS|       5000|\n+----+-----------+\n\n"
     ]
    }
   ],
   "source": [
    "df.groupBy(df.Dept).min('Salary').show()"
   ]
  },
  {
   "cell_type": "code",
   "execution_count": 0,
   "metadata": {
    "application/vnd.databricks.v1+cell": {
     "cellMetadata": {
      "byteLimit": 2048000,
      "rowLimit": 10000
     },
     "inputWidgets": {},
     "nuid": "d6b98668-1361-4165-b63f-137cd7ea6a2b",
     "showTitle": false,
     "title": ""
    }
   },
   "outputs": [
    {
     "output_type": "stream",
     "name": "stdout",
     "output_type": "stream",
     "text": [
      "+----+-------+-----------+\n|Dept|min(Id)|min(Salary)|\n+----+-------+-----------+\n|  IT|      1|       5000|\n|  HR|      1|       5000|\n|  CS|      1|       5000|\n+----+-------+-----------+\n\n"
     ]
    }
   ],
   "source": [
    "df.groupBy(df.Dept).min().show()\n",
    "#since column name is not provided, it performs min operation on all integer columns"
   ]
  },
  {
   "cell_type": "code",
   "execution_count": 0,
   "metadata": {
    "application/vnd.databricks.v1+cell": {
     "cellMetadata": {
      "byteLimit": 2048000,
      "rowLimit": 10000
     },
     "inputWidgets": {},
     "nuid": "258376fe-3692-4259-8a41-e28bd7f473e7",
     "showTitle": false,
     "title": ""
    }
   },
   "outputs": [
    {
     "output_type": "stream",
     "name": "stdout",
     "output_type": "stream",
     "text": [
      "+----+------+-----+\n|Dept|Gender|count|\n+----+------+-----+\n|  IT|     M|    1|\n|  HR|     F|    1|\n|  CS|     M|    2|\n|  HR|     M|    1|\n|  CS|     F|    1|\n+----+------+-----+\n\n"
     ]
    }
   ],
   "source": [
    "df.groupBy('Dept', 'Gender').count().show()"
   ]
  },
  {
   "cell_type": "code",
   "execution_count": 0,
   "metadata": {
    "application/vnd.databricks.v1+cell": {
     "cellMetadata": {
      "byteLimit": 2048000,
      "rowLimit": 10000
     },
     "inputWidgets": {},
     "nuid": "008909b1-2a22-42a6-89c5-fca218067dcc",
     "showTitle": false,
     "title": ""
    }
   },
   "outputs": [
    {
     "output_type": "stream",
     "name": "stdout",
     "output_type": "stream",
     "text": [
      "Help on method agg in module pyspark.sql.group:\n\nagg(*exprs: Union[pyspark.sql.column.Column, Dict[str, str]]) -> pyspark.sql.dataframe.DataFrame method of pyspark.sql.group.GroupedData instance\n    Compute aggregates and returns the result as a :class:`DataFrame`.\n    \n    The available aggregate functions can be:\n    \n    1. built-in aggregation functions, such as `avg`, `max`, `min`, `sum`, `count`\n    \n    2. group aggregate pandas UDFs, created with :func:`pyspark.sql.functions.pandas_udf`\n    \n       .. note:: There is no partial aggregation with group aggregate UDFs, i.e.,\n           a full shuffle is required. Also, all the data of a group will be loaded into\n           memory, so the user should be aware of the potential OOM risk if data is skewed\n           and certain groups are too large to fit in memory.\n    \n       .. seealso:: :func:`pyspark.sql.functions.pandas_udf`\n    \n    If ``exprs`` is a single :class:`dict` mapping from string to string, then the key\n    is the column to perform aggregation on, and the value is the aggregate function.\n    \n    Alternatively, ``exprs`` can also be a list of aggregate :class:`Column` expressions.\n    \n    .. versionadded:: 1.3.0\n    \n    .. versionchanged:: 3.4.0\n        Support Spark Connect.\n    \n    Parameters\n    ----------\n    exprs : dict\n        a dict mapping from column name (string) to aggregate functions (string),\n        or a list of :class:`Column`.\n    \n    Notes\n    -----\n    Built-in aggregation functions and group aggregate pandas UDFs cannot be mixed\n    in a single call to this function.\n    \n    Examples\n    --------\n    >>> from pyspark.sql import functions as F\n    >>> from pyspark.sql.functions import pandas_udf, PandasUDFType\n    >>> df = spark.createDataFrame(\n    ...      [(2, \"Alice\"), (3, \"Alice\"), (5, \"Bob\"), (10, \"Bob\")], [\"age\", \"name\"])\n    >>> df.show()\n    +---+-----+\n    |age| name|\n    +---+-----+\n    |  2|Alice|\n    |  3|Alice|\n    |  5|  Bob|\n    | 10|  Bob|\n    +---+-----+\n    \n    Group-by name, and count each group.\n    \n    >>> df.groupBy(df.name).agg({\"*\": \"count\"}).sort(\"name\").show()  # doctest: +SKIP\n    +-----+--------+\n    | name|count(1)|\n    +-----+--------+\n    |Alice|       2|\n    |  Bob|       2|\n    +-----+--------+\n    \n    Group-by name, and calculate the minimum age.\n    \n    >>> df.groupBy(df.name).agg(F.min(df.age)).sort(\"name\").show()\n    +-----+--------+\n    | name|min(age)|\n    +-----+--------+\n    |Alice|       2|\n    |  Bob|       5|\n    +-----+--------+\n    \n    Same as above but uses pandas UDF.\n    \n    >>> @pandas_udf('int', PandasUDFType.GROUPED_AGG)  # doctest: +SKIP\n    ... def min_udf(v):\n    ...     return v.min()\n    ...\n    >>> df.groupBy(df.name).agg(min_udf(df.age)).sort(\"name\").show()  # doctest: +SKIP\n    +-----+------------+\n    | name|min_udf(age)|\n    +-----+------------+\n    |Alice|           2|\n    |  Bob|           5|\n    +-----+------------+\n\n"
     ]
    }
   ],
   "source": [
    "help(df.groupBy('dept').agg)"
   ]
  },
  {
   "cell_type": "code",
   "execution_count": 0,
   "metadata": {
    "application/vnd.databricks.v1+cell": {
     "cellMetadata": {
      "byteLimit": 2048000,
      "rowLimit": 10000
     },
     "inputWidgets": {},
     "nuid": "10d41cec-7e89-42f1-be49-a1e9800b8e0e",
     "showTitle": false,
     "title": ""
    }
   },
   "outputs": [
    {
     "output_type": "stream",
     "name": "stdout",
     "output_type": "stream",
     "text": [
      "Help on function count in module pyspark.sql.functions:\n\ncount(col: 'ColumnOrName') -> pyspark.sql.column.Column\n    Aggregate function: returns the number of items in a group.\n    \n    .. versionadded:: 1.3.0\n    \n    .. versionchanged:: 3.4.0\n        Support Spark Connect.\n    \n    Parameters\n    ----------\n    col : :class:`~pyspark.sql.Column` or str\n        target column to compute on.\n    \n    Returns\n    -------\n    :class:`~pyspark.sql.Column`\n        column for computed results.\n    \n    Examples\n    --------\n    Count by all columns (start), and by a column that does not count ``None``.\n    \n    >>> df = spark.createDataFrame([(None,), (\"a\",), (\"b\",), (\"c\",)], schema=[\"alphabets\"])\n    >>> df.select(count(expr(\"*\")), count(df.alphabets)).show()\n    +--------+----------------+\n    |count(1)|count(alphabets)|\n    +--------+----------------+\n    |       4|               3|\n    +--------+----------------+\n\n"
     ]
    }
   ],
   "source": [
    "# We can apply multiple aggregation functions at a time using agg()\n",
    "\n",
    "from pyspark.sql.functions import count, min, max\n",
    "\n",
    "help(count)"
   ]
  },
  {
   "cell_type": "code",
   "execution_count": 0,
   "metadata": {
    "application/vnd.databricks.v1+cell": {
     "cellMetadata": {
      "byteLimit": 2048000,
      "rowLimit": 10000
     },
     "inputWidgets": {},
     "nuid": "600c3572-f78f-4855-8aee-e3881a8548c4",
     "showTitle": false,
     "title": ""
    }
   },
   "outputs": [
    {
     "output_type": "stream",
     "name": "stdout",
     "output_type": "stream",
     "text": [
      "+----+------------------+-------------+-------------+\n|Dept|count of employees|Min of Salary|Max of Salary|\n+----+------------------+-------------+-------------+\n|  IT|                 1|         5000|         5000|\n|  HR|                 2|         5000|         5000|\n|  CS|                 3|         5000|         5000|\n+----+------------------+-------------+-------------+\n\n"
     ]
    }
   ],
   "source": [
    "df.groupBy('Dept').agg(count('*').alias('count of employees'),\\\n",
    "                        min('Salary').alias('Min of Salary'),\\\n",
    "                        max('Salary').alias('Max of Salary')).show()"
   ]
  },
  {
   "cell_type": "code",
   "execution_count": 0,
   "metadata": {
    "application/vnd.databricks.v1+cell": {
     "cellMetadata": {},
     "inputWidgets": {},
     "nuid": "46ece4ed-9f69-414a-8a36-392fddec792c",
     "showTitle": false,
     "title": ""
    }
   },
   "outputs": [],
   "source": []
  }
 ],
 "metadata": {
  "application/vnd.databricks.v1+notebook": {
   "dashboards": [],
   "environmentMetadata": null,
   "language": "python",
   "notebookMetadata": {
    "pythonIndentUnit": 4
   },
   "notebookName": "GroupBy",
   "widgets": {}
  }
 },
 "nbformat": 4,
 "nbformat_minor": 0
}
