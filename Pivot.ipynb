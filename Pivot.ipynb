{
 "cells": [
  {
   "cell_type": "code",
   "execution_count": 0,
   "metadata": {
    "application/vnd.databricks.v1+cell": {
     "cellMetadata": {
      "byteLimit": 2048000,
      "rowLimit": 10000
     },
     "inputWidgets": {},
     "nuid": "95c93c10-b5b0-4e3e-b2a8-97f998e77076",
     "showTitle": false,
     "title": ""
    }
   },
   "outputs": [
    {
     "output_type": "stream",
     "name": "stdout",
     "output_type": "stream",
     "text": [
      "+---+--------+------+---+\n| Id|    Name|Gender|Dep|\n+---+--------+------+---+\n|  1|  Maheer|  Male| IT|\n|  2|    wafa|  Male| IT|\n|  3|    Assi|FeMale| HR|\n|  4|     Anu|FeMale| IT|\n|  5|  Shakti|FeMale| IT|\n|  6| Pradeep|  Male| HR|\n|  7|Sarfaraj|  Male| HR|\n|  8|  Ayesha|FeMale| IT|\n+---+--------+------+---+\n\n+---+------+-----+\n|Dep|Gender|count|\n+---+------+-----+\n| IT|  Male|    2|\n| HR|FeMale|    1|\n| IT|FeMale|    3|\n| HR|  Male|    2|\n+---+------+-----+\n\n+---+------+----+\n|Dep|FeMale|Male|\n+---+------+----+\n| HR|     1|   2|\n| IT|     3|   2|\n+---+------+----+\n\n"
     ]
    }
   ],
   "source": [
    "data = [(1, 'Maheer','Male', 'IT'), \n",
    "        (2, 'wafa','Male', 'IT'), \n",
    "        (3, 'Assi','FeMale', 'HR'), \n",
    "        (4, 'Anu','FeMale', 'IT'), \n",
    "        (5, 'Shakti', 'FeMale','IT'), \n",
    "        (6, 'Pradeep', 'Male','HR'),\n",
    "        (7, 'Sarfaraj', 'Male','HR'), \n",
    "        (8, 'Ayesha', 'FeMale','IT')]\n",
    "\n",
    "schema = ['Id', 'Name', 'Gender','Dep']\n",
    "\n",
    "df = spark.createDataFrame(data, schema)\n",
    "df.show()\n",
    "\n",
    "df.groupBy('Dep','Gender').count().show()\n",
    "\n",
    "df.groupBy('Dep').pivot('Gender').count().show()"
   ]
  },
  {
   "cell_type": "code",
   "execution_count": 0,
   "metadata": {
    "application/vnd.databricks.v1+cell": {
     "cellMetadata": {
      "byteLimit": 2048000,
      "rowLimit": 10000
     },
     "inputWidgets": {},
     "nuid": "53057c2b-7767-4fed-b633-f76a321ab113",
     "showTitle": false,
     "title": ""
    }
   },
   "outputs": [
    {
     "output_type": "stream",
     "name": "stdout",
     "output_type": "stream",
     "text": [
      "+---+----+\n|Dep|Male|\n+---+----+\n| HR|   2|\n| IT|   2|\n+---+----+\n\n+---+----+------+\n|Dep|Male|FeMale|\n+---+----+------+\n| HR|   2|     1|\n| IT|   2|     3|\n+---+----+------+\n\n"
     ]
    }
   ],
   "source": [
    "df.groupBy('Dep').pivot('Gender', ['Male']).count().show()\n",
    "df.groupBy('Dep').pivot('Gender', ['Male','FeMale']).count().show()"
   ]
  },
  {
   "cell_type": "code",
   "execution_count": 0,
   "metadata": {
    "application/vnd.databricks.v1+cell": {
     "cellMetadata": {},
     "inputWidgets": {},
     "nuid": "8b95eb14-0a80-45d8-96a7-42109320811d",
     "showTitle": false,
     "title": ""
    }
   },
   "outputs": [],
   "source": []
  }
 ],
 "metadata": {
  "application/vnd.databricks.v1+notebook": {
   "dashboards": [],
   "environmentMetadata": null,
   "language": "python",
   "notebookMetadata": {
    "pythonIndentUnit": 4
   },
   "notebookName": "Pivot",
   "widgets": {}
  }
 },
 "nbformat": 4,
 "nbformat_minor": 0
}
