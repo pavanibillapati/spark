{
 "cells": [
  {
   "cell_type": "code",
   "execution_count": 1,
   "id": "059ef18c",
   "metadata": {},
   "outputs": [],
   "source": [
    "from pyspark.sql import SparkSession"
   ]
  },
  {
   "cell_type": "code",
   "execution_count": 2,
   "id": "21be6d7c",
   "metadata": {},
   "outputs": [],
   "source": [
    "spark = SparkSession.builder.appName('Practise').getOrCreate()"
   ]
  },
  {
   "cell_type": "code",
   "execution_count": 3,
   "id": "83246d0c",
   "metadata": {},
   "outputs": [],
   "source": [
    "df = spark.read.csv(r\"C:\\Users\\pavan\\OneDrive\\Desktop\\prep\\datasets\\test1.csv\",header = True,inferSchema = True)"
   ]
  },
  {
   "cell_type": "code",
   "execution_count": 4,
   "id": "4f78d7a9",
   "metadata": {},
   "outputs": [
    {
     "name": "stdout",
     "output_type": "stream",
     "text": [
      "+----+-------+----+\n",
      "| Id |   Name| Age|\n",
      "+----+-------+----+\n",
      "|   1|   john|  22|\n",
      "|   2|Stephen|  22|\n",
      "|   3|  Stacy|  24|\n",
      "|   4|   paul|  23|\n",
      "|   5|   NULL|  32|\n",
      "|   6|    Joe|NULL|\n",
      "|NULL|   NULL|  45|\n",
      "|   8|   jack|NULL|\n",
      "+----+-------+----+\n",
      "\n"
     ]
    }
   ],
   "source": [
    "df.show()"
   ]
  },
  {
   "cell_type": "code",
   "execution_count": 5,
   "id": "196fe461",
   "metadata": {},
   "outputs": [
    {
     "name": "stdout",
     "output_type": "stream",
     "text": [
      "+----+----+\n",
      "| Id | Age|\n",
      "+----+----+\n",
      "|   1|  22|\n",
      "|   2|  22|\n",
      "|   3|  24|\n",
      "|   4|  23|\n",
      "|   5|  32|\n",
      "|   6|NULL|\n",
      "|NULL|  45|\n",
      "|   8|NULL|\n",
      "+----+----+\n",
      "\n"
     ]
    }
   ],
   "source": [
    "#drop columns\n",
    "\n",
    "df.drop('Name').show()"
   ]
  },
  {
   "cell_type": "code",
   "execution_count": 6,
   "id": "c9fe63a5",
   "metadata": {},
   "outputs": [
    {
     "name": "stdout",
     "output_type": "stream",
     "text": [
      "+---+-------+---+\n",
      "|Id |   Name|Age|\n",
      "+---+-------+---+\n",
      "|  1|   john| 22|\n",
      "|  2|Stephen| 22|\n",
      "|  3|  Stacy| 24|\n",
      "|  4|   paul| 23|\n",
      "+---+-------+---+\n",
      "\n"
     ]
    }
   ],
   "source": [
    "#drop specific rows with na values\n",
    "\n",
    "df.na.drop().show()"
   ]
  },
  {
   "cell_type": "code",
   "execution_count": 7,
   "id": "4394d100",
   "metadata": {},
   "outputs": [
    {
     "name": "stdout",
     "output_type": "stream",
     "text": [
      "+----+-------+----+\n",
      "| Id |   Name| Age|\n",
      "+----+-------+----+\n",
      "|   1|   john|  22|\n",
      "|   2|Stephen|  22|\n",
      "|   3|  Stacy|  24|\n",
      "|   4|   paul|  23|\n",
      "|   5|   NULL|  32|\n",
      "|   6|    Joe|NULL|\n",
      "|NULL|   NULL|  45|\n",
      "|   8|   jack|NULL|\n",
      "+----+-------+----+\n",
      "\n"
     ]
    }
   ],
   "source": [
    "#options in na.drop\n",
    "#1. how\n",
    "\n",
    "# all ->  deletes rows only if all columns of a row has nulls\n",
    "df.na.drop(how='all').show()"
   ]
  },
  {
   "cell_type": "code",
   "execution_count": 8,
   "id": "fb68fd9a",
   "metadata": {},
   "outputs": [
    {
     "name": "stdout",
     "output_type": "stream",
     "text": [
      "+---+-------+---+\n",
      "|Id |   Name|Age|\n",
      "+---+-------+---+\n",
      "|  1|   john| 22|\n",
      "|  2|Stephen| 22|\n",
      "|  3|  Stacy| 24|\n",
      "|  4|   paul| 23|\n",
      "+---+-------+---+\n",
      "\n"
     ]
    }
   ],
   "source": [
    "#any ->deletes rows if atleast any of column in a row has null values\n",
    "\n",
    "df.na.drop(how='any').show()"
   ]
  },
  {
   "cell_type": "code",
   "execution_count": 9,
   "id": "e82326b6",
   "metadata": {},
   "outputs": [
    {
     "name": "stdout",
     "output_type": "stream",
     "text": [
      "+---+-------+----+\n",
      "|Id |   Name| Age|\n",
      "+---+-------+----+\n",
      "|  1|   john|  22|\n",
      "|  2|Stephen|  22|\n",
      "|  3|  Stacy|  24|\n",
      "|  4|   paul|  23|\n",
      "|  5|   NULL|  32|\n",
      "|  6|    Joe|NULL|\n",
      "|  8|   jack|NULL|\n",
      "+---+-------+----+\n",
      "\n"
     ]
    }
   ],
   "source": [
    "#2. Threshold - atleast mentioned num of nulls has to there for a row to be deleted\n",
    "\n",
    "df.na.drop(how='any', thresh=2).show()"
   ]
  },
  {
   "cell_type": "code",
   "execution_count": 10,
   "id": "84abc53b",
   "metadata": {},
   "outputs": [
    {
     "name": "stdout",
     "output_type": "stream",
     "text": [
      "+----+-------+----+\n",
      "| Id |   Name| Age|\n",
      "+----+-------+----+\n",
      "|   1|   john|  22|\n",
      "|   2|Stephen|  22|\n",
      "|   3|  Stacy|  24|\n",
      "|   4|   paul|  23|\n",
      "|   5|   NULL|  32|\n",
      "|   6|    Joe|NULL|\n",
      "|NULL|   NULL|  45|\n",
      "|   8|   jack|NULL|\n",
      "+----+-------+----+\n",
      "\n"
     ]
    }
   ],
   "source": [
    "df.na.drop(how='any', thresh=1).show()"
   ]
  },
  {
   "cell_type": "code",
   "execution_count": 11,
   "id": "61bf1cf3",
   "metadata": {},
   "outputs": [
    {
     "name": "stdout",
     "output_type": "stream",
     "text": [
      "+----+-------+---+\n",
      "| Id |   Name|Age|\n",
      "+----+-------+---+\n",
      "|   1|   john| 22|\n",
      "|   2|Stephen| 22|\n",
      "|   3|  Stacy| 24|\n",
      "|   4|   paul| 23|\n",
      "|   5|   NULL| 32|\n",
      "|NULL|   NULL| 45|\n",
      "+----+-------+---+\n",
      "\n"
     ]
    }
   ],
   "source": [
    "#subset - whereever null value for specified column is available it would be deleted\n",
    "\n",
    "df.na.drop(how='any', subset=['Age']).show()"
   ]
  },
  {
   "cell_type": "code",
   "execution_count": 12,
   "id": "e4fd62b5",
   "metadata": {},
   "outputs": [
    {
     "name": "stdout",
     "output_type": "stream",
     "text": [
      "+----+--------------+----+\n",
      "| Id |          Name| Age|\n",
      "+----+--------------+----+\n",
      "|   1|          john|  22|\n",
      "|   2|       Stephen|  22|\n",
      "|   3|         Stacy|  24|\n",
      "|   4|          paul|  23|\n",
      "|   5|Missing Values|  32|\n",
      "|   6|           Joe|NULL|\n",
      "|NULL|Missing Values|  45|\n",
      "|   8|          jack|NULL|\n",
      "+----+--------------+----+\n",
      "\n"
     ]
    }
   ],
   "source": [
    "#Filling missing values\n",
    "\n",
    "df.na.fill('Missing Values').show()\n",
    "\n",
    "# here since Age & Id is an integer it's not replaced by 'Missing value' term"
   ]
  },
  {
   "cell_type": "code",
   "execution_count": 13,
   "id": "adf95ade",
   "metadata": {},
   "outputs": [
    {
     "name": "stdout",
     "output_type": "stream",
     "text": [
      "+----+-------+---+\n",
      "| Id |   Name|Age|\n",
      "+----+-------+---+\n",
      "|   1|   john| 22|\n",
      "|   2|Stephen| 22|\n",
      "|   3|  Stacy| 24|\n",
      "|   4|   paul| 23|\n",
      "|   5|   NULL| 32|\n",
      "|   6|    Joe|  0|\n",
      "|NULL|   NULL| 45|\n",
      "|   8|   jack|  0|\n",
      "+----+-------+---+\n",
      "\n"
     ]
    }
   ],
   "source": [
    "#Filling missing values in specific column\n",
    "\n",
    "df.na.fill(0,'Age').show()"
   ]
  },
  {
   "cell_type": "code",
   "execution_count": 14,
   "id": "c52391e3",
   "metadata": {},
   "outputs": [
    {
     "name": "stdout",
     "output_type": "stream",
     "text": [
      "+----+--------------+----+\n",
      "| Id |          Name| Age|\n",
      "+----+--------------+----+\n",
      "|   1|          john|  22|\n",
      "|   2|       Stephen|  22|\n",
      "|   3|         Stacy|  24|\n",
      "|   4|          paul|  23|\n",
      "|   5|Missing Values|  32|\n",
      "|   6|           Joe|NULL|\n",
      "|NULL|Missing Values|  45|\n",
      "|   8|          jack|NULL|\n",
      "+----+--------------+----+\n",
      "\n"
     ]
    }
   ],
   "source": [
    "df.na.fill('Missing Values',['Name','Age']).show()\n",
    "\n",
    "# here since age is an integer it's not replaced by 'Missing value' term"
   ]
  },
  {
   "cell_type": "code",
   "execution_count": 15,
   "id": "8ebdd54e",
   "metadata": {},
   "outputs": [
    {
     "name": "stdout",
     "output_type": "stream",
     "text": [
      "+----+-------+----+\n",
      "| Id |   Name| Age|\n",
      "+----+-------+----+\n",
      "|   1|   john|  22|\n",
      "|   2|Stephen|  22|\n",
      "|   3|  Stacy|  24|\n",
      "|   4|   paul|  23|\n",
      "|   5|   NULL|  32|\n",
      "|   6|    Joe|NULL|\n",
      "|NULL|   NULL|  45|\n",
      "|   8|   jack|NULL|\n",
      "+----+-------+----+\n",
      "\n"
     ]
    }
   ],
   "source": [
    "df.show()"
   ]
  },
  {
   "cell_type": "code",
   "execution_count": 16,
   "id": "80be138a",
   "metadata": {},
   "outputs": [
    {
     "data": {
      "text/plain": [
       "[('Id ', 'int'), ('Name', 'string'), ('Age', 'int')]"
      ]
     },
     "execution_count": 16,
     "metadata": {},
     "output_type": "execute_result"
    }
   ],
   "source": [
    "df.dtypes"
   ]
  },
  {
   "cell_type": "code",
   "execution_count": 23,
   "id": "e0e24ae7",
   "metadata": {},
   "outputs": [],
   "source": [
    "# replace with mean using imputer\n",
    "#worked for Age but not working for Id - saying column not available and Name - since its string type\n",
    "\n",
    "from pyspark.ml.feature import Imputer\n",
    "\n",
    "imputer = Imputer(\n",
    "    inputCols = ['Name'],\n",
    "    outputCols = [\"{}_imputed\".format(c) for c in [ 'Name']]\n",
    "    ).setStrategy(\"mode\")"
   ]
  },
  {
   "cell_type": "code",
   "execution_count": 24,
   "id": "05981848",
   "metadata": {},
   "outputs": [
    {
     "ename": "IllegalArgumentException",
     "evalue": "requirement failed: Column Name must be of type numeric but was actually of type string.",
     "output_type": "error",
     "traceback": [
      "\u001b[1;31m---------------------------------------------------------------------------\u001b[0m",
      "\u001b[1;31mIllegalArgumentException\u001b[0m                  Traceback (most recent call last)",
      "Cell \u001b[1;32mIn[24], line 3\u001b[0m\n\u001b[0;32m      1\u001b[0m \u001b[38;5;66;03m#Add imputation cols to df\u001b[39;00m\n\u001b[1;32m----> 3\u001b[0m \u001b[43mimputer\u001b[49m\u001b[38;5;241;43m.\u001b[39;49m\u001b[43mfit\u001b[49m\u001b[43m(\u001b[49m\u001b[43mdf\u001b[49m\u001b[43m)\u001b[49m\u001b[38;5;241m.\u001b[39mtransform(df)\u001b[38;5;241m.\u001b[39mshow()\n",
      "File \u001b[1;32m~\\anaconda3\\lib\\site-packages\\pyspark\\ml\\base.py:205\u001b[0m, in \u001b[0;36mEstimator.fit\u001b[1;34m(self, dataset, params)\u001b[0m\n\u001b[0;32m    203\u001b[0m         \u001b[38;5;28;01mreturn\u001b[39;00m \u001b[38;5;28mself\u001b[39m\u001b[38;5;241m.\u001b[39mcopy(params)\u001b[38;5;241m.\u001b[39m_fit(dataset)\n\u001b[0;32m    204\u001b[0m     \u001b[38;5;28;01melse\u001b[39;00m:\n\u001b[1;32m--> 205\u001b[0m         \u001b[38;5;28;01mreturn\u001b[39;00m \u001b[38;5;28;43mself\u001b[39;49m\u001b[38;5;241;43m.\u001b[39;49m\u001b[43m_fit\u001b[49m\u001b[43m(\u001b[49m\u001b[43mdataset\u001b[49m\u001b[43m)\u001b[49m\n\u001b[0;32m    206\u001b[0m \u001b[38;5;28;01melse\u001b[39;00m:\n\u001b[0;32m    207\u001b[0m     \u001b[38;5;28;01mraise\u001b[39;00m \u001b[38;5;167;01mTypeError\u001b[39;00m(\n\u001b[0;32m    208\u001b[0m         \u001b[38;5;124m\"\u001b[39m\u001b[38;5;124mParams must be either a param map or a list/tuple of param maps, \u001b[39m\u001b[38;5;124m\"\u001b[39m\n\u001b[0;32m    209\u001b[0m         \u001b[38;5;124m\"\u001b[39m\u001b[38;5;124mbut got \u001b[39m\u001b[38;5;132;01m%s\u001b[39;00m\u001b[38;5;124m.\u001b[39m\u001b[38;5;124m\"\u001b[39m \u001b[38;5;241m%\u001b[39m \u001b[38;5;28mtype\u001b[39m(params)\n\u001b[0;32m    210\u001b[0m     )\n",
      "File \u001b[1;32m~\\anaconda3\\lib\\site-packages\\pyspark\\ml\\wrapper.py:381\u001b[0m, in \u001b[0;36mJavaEstimator._fit\u001b[1;34m(self, dataset)\u001b[0m\n\u001b[0;32m    380\u001b[0m \u001b[38;5;28;01mdef\u001b[39;00m \u001b[38;5;21m_fit\u001b[39m(\u001b[38;5;28mself\u001b[39m, dataset: DataFrame) \u001b[38;5;241m-\u001b[39m\u001b[38;5;241m>\u001b[39m JM:\n\u001b[1;32m--> 381\u001b[0m     java_model \u001b[38;5;241m=\u001b[39m \u001b[38;5;28;43mself\u001b[39;49m\u001b[38;5;241;43m.\u001b[39;49m\u001b[43m_fit_java\u001b[49m\u001b[43m(\u001b[49m\u001b[43mdataset\u001b[49m\u001b[43m)\u001b[49m\n\u001b[0;32m    382\u001b[0m     model \u001b[38;5;241m=\u001b[39m \u001b[38;5;28mself\u001b[39m\u001b[38;5;241m.\u001b[39m_create_model(java_model)\n\u001b[0;32m    383\u001b[0m     \u001b[38;5;28;01mreturn\u001b[39;00m \u001b[38;5;28mself\u001b[39m\u001b[38;5;241m.\u001b[39m_copyValues(model)\n",
      "File \u001b[1;32m~\\anaconda3\\lib\\site-packages\\pyspark\\ml\\wrapper.py:378\u001b[0m, in \u001b[0;36mJavaEstimator._fit_java\u001b[1;34m(self, dataset)\u001b[0m\n\u001b[0;32m    375\u001b[0m \u001b[38;5;28;01massert\u001b[39;00m \u001b[38;5;28mself\u001b[39m\u001b[38;5;241m.\u001b[39m_java_obj \u001b[38;5;129;01mis\u001b[39;00m \u001b[38;5;129;01mnot\u001b[39;00m \u001b[38;5;28;01mNone\u001b[39;00m\n\u001b[0;32m    377\u001b[0m \u001b[38;5;28mself\u001b[39m\u001b[38;5;241m.\u001b[39m_transfer_params_to_java()\n\u001b[1;32m--> 378\u001b[0m \u001b[38;5;28;01mreturn\u001b[39;00m \u001b[38;5;28;43mself\u001b[39;49m\u001b[38;5;241;43m.\u001b[39;49m\u001b[43m_java_obj\u001b[49m\u001b[38;5;241;43m.\u001b[39;49m\u001b[43mfit\u001b[49m\u001b[43m(\u001b[49m\u001b[43mdataset\u001b[49m\u001b[38;5;241;43m.\u001b[39;49m\u001b[43m_jdf\u001b[49m\u001b[43m)\u001b[49m\n",
      "File \u001b[1;32m~\\anaconda3\\lib\\site-packages\\py4j\\java_gateway.py:1322\u001b[0m, in \u001b[0;36mJavaMember.__call__\u001b[1;34m(self, *args)\u001b[0m\n\u001b[0;32m   1316\u001b[0m command \u001b[38;5;241m=\u001b[39m proto\u001b[38;5;241m.\u001b[39mCALL_COMMAND_NAME \u001b[38;5;241m+\u001b[39m\\\n\u001b[0;32m   1317\u001b[0m     \u001b[38;5;28mself\u001b[39m\u001b[38;5;241m.\u001b[39mcommand_header \u001b[38;5;241m+\u001b[39m\\\n\u001b[0;32m   1318\u001b[0m     args_command \u001b[38;5;241m+\u001b[39m\\\n\u001b[0;32m   1319\u001b[0m     proto\u001b[38;5;241m.\u001b[39mEND_COMMAND_PART\n\u001b[0;32m   1321\u001b[0m answer \u001b[38;5;241m=\u001b[39m \u001b[38;5;28mself\u001b[39m\u001b[38;5;241m.\u001b[39mgateway_client\u001b[38;5;241m.\u001b[39msend_command(command)\n\u001b[1;32m-> 1322\u001b[0m return_value \u001b[38;5;241m=\u001b[39m \u001b[43mget_return_value\u001b[49m\u001b[43m(\u001b[49m\n\u001b[0;32m   1323\u001b[0m \u001b[43m    \u001b[49m\u001b[43manswer\u001b[49m\u001b[43m,\u001b[49m\u001b[43m \u001b[49m\u001b[38;5;28;43mself\u001b[39;49m\u001b[38;5;241;43m.\u001b[39;49m\u001b[43mgateway_client\u001b[49m\u001b[43m,\u001b[49m\u001b[43m \u001b[49m\u001b[38;5;28;43mself\u001b[39;49m\u001b[38;5;241;43m.\u001b[39;49m\u001b[43mtarget_id\u001b[49m\u001b[43m,\u001b[49m\u001b[43m \u001b[49m\u001b[38;5;28;43mself\u001b[39;49m\u001b[38;5;241;43m.\u001b[39;49m\u001b[43mname\u001b[49m\u001b[43m)\u001b[49m\n\u001b[0;32m   1325\u001b[0m \u001b[38;5;28;01mfor\u001b[39;00m temp_arg \u001b[38;5;129;01min\u001b[39;00m temp_args:\n\u001b[0;32m   1326\u001b[0m     \u001b[38;5;28;01mif\u001b[39;00m \u001b[38;5;28mhasattr\u001b[39m(temp_arg, \u001b[38;5;124m\"\u001b[39m\u001b[38;5;124m_detach\u001b[39m\u001b[38;5;124m\"\u001b[39m):\n",
      "File \u001b[1;32m~\\anaconda3\\lib\\site-packages\\pyspark\\errors\\exceptions\\captured.py:185\u001b[0m, in \u001b[0;36mcapture_sql_exception.<locals>.deco\u001b[1;34m(*a, **kw)\u001b[0m\n\u001b[0;32m    181\u001b[0m converted \u001b[38;5;241m=\u001b[39m convert_exception(e\u001b[38;5;241m.\u001b[39mjava_exception)\n\u001b[0;32m    182\u001b[0m \u001b[38;5;28;01mif\u001b[39;00m \u001b[38;5;129;01mnot\u001b[39;00m \u001b[38;5;28misinstance\u001b[39m(converted, UnknownException):\n\u001b[0;32m    183\u001b[0m     \u001b[38;5;66;03m# Hide where the exception came from that shows a non-Pythonic\u001b[39;00m\n\u001b[0;32m    184\u001b[0m     \u001b[38;5;66;03m# JVM exception message.\u001b[39;00m\n\u001b[1;32m--> 185\u001b[0m     \u001b[38;5;28;01mraise\u001b[39;00m converted \u001b[38;5;28;01mfrom\u001b[39;00m \u001b[38;5;28mNone\u001b[39m\n\u001b[0;32m    186\u001b[0m \u001b[38;5;28;01melse\u001b[39;00m:\n\u001b[0;32m    187\u001b[0m     \u001b[38;5;28;01mraise\u001b[39;00m\n",
      "\u001b[1;31mIllegalArgumentException\u001b[0m: requirement failed: Column Name must be of type numeric but was actually of type string."
     ]
    }
   ],
   "source": [
    "#Add imputation cols to df\n",
    "\n",
    "imputer.fit(df).transform(df).show()"
   ]
  },
  {
   "cell_type": "code",
   "execution_count": null,
   "id": "d81bca75",
   "metadata": {},
   "outputs": [],
   "source": [
    "df.show()"
   ]
  },
  {
   "cell_type": "code",
   "execution_count": null,
   "id": "b472f606",
   "metadata": {},
   "outputs": [],
   "source": []
  }
 ],
 "metadata": {
  "kernelspec": {
   "display_name": "Python 3 (ipykernel)",
   "language": "python",
   "name": "python3"
  },
  "language_info": {
   "codemirror_mode": {
    "name": "ipython",
    "version": 3
   },
   "file_extension": ".py",
   "mimetype": "text/x-python",
   "name": "python",
   "nbconvert_exporter": "python",
   "pygments_lexer": "ipython3",
   "version": "3.10.9"
  }
 },
 "nbformat": 4,
 "nbformat_minor": 5
}
