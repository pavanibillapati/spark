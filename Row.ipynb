{
 "cells": [
  {
   "cell_type": "code",
   "execution_count": 0,
   "metadata": {
    "application/vnd.databricks.v1+cell": {
     "cellMetadata": {
      "byteLimit": 2048000,
      "rowLimit": 10000
     },
     "inputWidgets": {},
     "nuid": "cfbaa69a-7e98-43a6-954e-82f125731ab2",
     "showTitle": false,
     "title": ""
    }
   },
   "outputs": [
    {
     "output_type": "stream",
     "name": "stdout",
     "output_type": "stream",
     "text": [
      "maheer 2000\n"
     ]
    }
   ],
   "source": [
    "from pyspark.sql import Row\n",
    "\n",
    "row = Row(name = 'maheer', salary = 2000)\n",
    "\n",
    "print(row[0] + ' ' + str(row[1]))"
   ]
  },
  {
   "cell_type": "code",
   "execution_count": 0,
   "metadata": {
    "application/vnd.databricks.v1+cell": {
     "cellMetadata": {
      "byteLimit": 2048000,
      "rowLimit": 10000
     },
     "inputWidgets": {},
     "nuid": "1c2bf3a0-ebda-4df6-875d-e4a53c35b2b4",
     "showTitle": false,
     "title": ""
    }
   },
   "outputs": [
    {
     "output_type": "stream",
     "name": "stdout",
     "output_type": "stream",
     "text": [
      "maheer 2000\n"
     ]
    }
   ],
   "source": [
    "print(row.name + ' ' + str(row.salary))"
   ]
  },
  {
   "cell_type": "code",
   "execution_count": 0,
   "metadata": {
    "application/vnd.databricks.v1+cell": {
     "cellMetadata": {
      "byteLimit": 2048000,
      "rowLimit": 10000
     },
     "inputWidgets": {},
     "nuid": "ea89e28e-7c4d-4413-9a21-f2c3df067156",
     "showTitle": false,
     "title": ""
    }
   },
   "outputs": [
    {
     "output_type": "stream",
     "name": "stdout",
     "output_type": "stream",
     "text": [
      "+------+------+\n|  name|salary|\n+------+------+\n|maheer|  2000|\n|  wafa|  3000|\n+------+------+\n\n"
     ]
    }
   ],
   "source": [
    "from pyspark.sql import Row\n",
    "\n",
    "row1 = Row(name = 'maheer', salary = 2000)\n",
    "row2 = Row(name = 'wafa', salary = 3000)\n",
    "\n",
    "data = [row1, row2]\n",
    "\n",
    "df = spark.createDataFrame(data)\n",
    "df.show()"
   ]
  },
  {
   "cell_type": "code",
   "execution_count": 0,
   "metadata": {
    "application/vnd.databricks.v1+cell": {
     "cellMetadata": {
      "byteLimit": 2048000,
      "rowLimit": 10000
     },
     "inputWidgets": {},
     "nuid": "241c9a74-4b97-4a1b-89b7-4d9947352116",
     "showTitle": false,
     "title": ""
    }
   },
   "outputs": [
    {
     "output_type": "stream",
     "name": "stdout",
     "output_type": "stream",
     "text": [
      "+------+------+\n|  name|salary|\n+------+------+\n|maheer|  2000|\n|  wafa|  3000|\n+------+------+\n\n"
     ]
    }
   ],
   "source": [
    "df = spark.createDataFrame([row1, row2])\n",
    "df.show()"
   ]
  },
  {
   "cell_type": "code",
   "execution_count": 0,
   "metadata": {
    "application/vnd.databricks.v1+cell": {
     "cellMetadata": {
      "byteLimit": 2048000,
      "rowLimit": 10000
     },
     "inputWidgets": {},
     "nuid": "4ca10c4c-366a-4cb8-a244-d5868f5320f5",
     "showTitle": false,
     "title": ""
    }
   },
   "outputs": [
    {
     "output_type": "stream",
     "name": "stdout",
     "output_type": "stream",
     "text": [
      "Maheer\n20\nwafa\n30\n+------+---+\n|  name|age|\n+------+---+\n|Maheer| 20|\n|  wafa| 30|\n+------+---+\n\n"
     ]
    }
   ],
   "source": [
    "Person = Row('name', 'age')\n",
    "\n",
    "person1 = Person('Maheer', 20)\n",
    "person2 = Person('wafa', 30)\n",
    "\n",
    "print(person1.name)\n",
    "print(person1.age)\n",
    "print(person2.name)\n",
    "print(person2.age)\n",
    "\n",
    "df = spark.createDataFrame([person1, person2])\n",
    "df.show()\n"
   ]
  },
  {
   "cell_type": "code",
   "execution_count": 0,
   "metadata": {
    "application/vnd.databricks.v1+cell": {
     "cellMetadata": {
      "byteLimit": 2048000,
      "rowLimit": 10000
     },
     "inputWidgets": {},
     "nuid": "6b2b156f-3162-489a-af72-6b850e4d5070",
     "showTitle": false,
     "title": ""
    }
   },
   "outputs": [
    {
     "output_type": "stream",
     "name": "stdout",
     "output_type": "stream",
     "text": [
      "+------+--------------+\n|  name|   properities|\n+------+--------------+\n|Maheer|{black, brown}|\n|  wafa|{brown, brown}|\n+------+--------------+\n\nroot\n |-- name: string (nullable = true)\n |-- properities: struct (nullable = true)\n |    |-- hair: string (nullable = true)\n |    |-- eye: string (nullable = true)\n\n"
     ]
    }
   ],
   "source": [
    "data = [Row(name= 'Maheer',properities = Row(hair = 'black', eye = 'brown')), \n",
    "        Row(name= 'wafa',properities = Row(hair = 'brown', eye = 'brown'))]\n",
    "\n",
    "df = spark.createDataFrame(data)\n",
    "\n",
    "df.show()\n",
    "df.printSchema()"
   ]
  },
  {
   "cell_type": "code",
   "execution_count": 0,
   "metadata": {
    "application/vnd.databricks.v1+cell": {
     "cellMetadata": {},
     "inputWidgets": {},
     "nuid": "6eae90e0-d931-4a01-a198-186386939b5d",
     "showTitle": false,
     "title": ""
    }
   },
   "outputs": [],
   "source": []
  }
 ],
 "metadata": {
  "application/vnd.databricks.v1+notebook": {
   "dashboards": [],
   "language": "python",
   "notebookMetadata": {
    "pythonIndentUnit": 4
   },
   "notebookName": "Row",
   "widgets": {}
  }
 },
 "nbformat": 4,
 "nbformat_minor": 0
}
