{
 "cells": [
  {
   "cell_type": "code",
   "execution_count": 0,
   "metadata": {
    "application/vnd.databricks.v1+cell": {
     "cellMetadata": {
      "byteLimit": 2048000,
      "rowLimit": 10000
     },
     "inputWidgets": {},
     "nuid": "b76661a0-d08f-4445-a2f5-2515c9f1512d",
     "showTitle": false,
     "title": ""
    }
   },
   "outputs": [
    {
     "output_type": "stream",
     "name": "stdout",
     "output_type": "stream",
     "text": [
      "+---+----------+------+\n| id|      Name|salary|\n+---+----------+------+\n|  1| {john, e}| 23000|\n|  2|{meher, L}| 45000|\n+---+----------+------+\n\nroot\n |-- id: integer (nullable = true)\n |-- Name: struct (nullable = true)\n |    |-- firstname: string (nullable = true)\n |    |-- Lastname: string (nullable = true)\n |-- salary: integer (nullable = true)\n\n"
     ]
    }
   ],
   "source": [
    "from pyspark.sql.types import StructType, StructField, IntegerType, StringType\n",
    "\n",
    "data = [(1, ('john','e'), 23000),(2,('meher', 'L'), 45000)]\n",
    "\n",
    "structName = StructType([StructField('firstname', StringType()), StructField('Lastname',StringType())])\n",
    "\n",
    "schema = StructType(\n",
    "                    [\n",
    "                        StructField('id', IntegerType()),\n",
    "                        StructField('Name', structName), \n",
    "                        StructField('salary', IntegerType())\n",
    "                    ]\n",
    "                    )\n",
    "\n",
    "df = spark.createDataFrame(data, schema)\n",
    "\n",
    "df.show()\n",
    "\n",
    "df.printSchema()"
   ]
  },
  {
   "cell_type": "code",
   "execution_count": 0,
   "metadata": {
    "application/vnd.databricks.v1+cell": {
     "cellMetadata": {},
     "inputWidgets": {},
     "nuid": "734ffb53-98ab-4413-b4be-7d37c0d11a5e",
     "showTitle": false,
     "title": ""
    }
   },
   "outputs": [],
   "source": []
  }
 ],
 "metadata": {
  "application/vnd.databricks.v1+notebook": {
   "dashboards": [],
   "language": "python",
   "notebookMetadata": {
    "pythonIndentUnit": 4
   },
   "notebookName": "StructTypeStructfield",
   "widgets": {}
  }
 },
 "nbformat": 4,
 "nbformat_minor": 0
}
