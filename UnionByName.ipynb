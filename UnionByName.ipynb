{
 "cells": [
  {
   "cell_type": "code",
   "execution_count": 0,
   "metadata": {
    "application/vnd.databricks.v1+cell": {
     "cellMetadata": {
      "byteLimit": 2048000,
      "rowLimit": 10000
     },
     "inputWidgets": {},
     "nuid": "27bec5d4-162a-4ff8-a708-9928a499cca0",
     "showTitle": false,
     "title": ""
    }
   },
   "outputs": [
    {
     "output_type": "stream",
     "name": "stdout",
     "output_type": "stream",
     "text": [
      "+---+------+---+\n| Id|  Name|Age|\n+---+------+---+\n|  1|Maheer| 30|\n+---+------+---+\n\n+---+------+------+\n| Id|  Name|Salary|\n+---+------+------+\n|  1|Maheer| 43000|\n+---+------+------+\n\n"
     ]
    }
   ],
   "source": [
    "data1 = [(1,'Maheer', 30)]\n",
    "schema1 = ('Id', 'Name', 'Age')\n",
    "\n",
    "data2 = [(1,'Maheer', 43000)]\n",
    "schema2 = ('Id', 'Name', 'Salary')\n",
    "\n",
    "df1 = spark.createDataFrame(data1, schema1)\n",
    "df1.show()\n",
    "\n",
    "df2 = spark.createDataFrame(data2, schema2)\n",
    "df2.show()"
   ]
  },
  {
   "cell_type": "code",
   "execution_count": 0,
   "metadata": {
    "application/vnd.databricks.v1+cell": {
     "cellMetadata": {
      "byteLimit": 2048000,
      "rowLimit": 10000
     },
     "inputWidgets": {},
     "nuid": "e77fca63-feff-42f8-ac2e-dd0053404e65",
     "showTitle": false,
     "title": ""
    }
   },
   "outputs": [
    {
     "output_type": "stream",
     "name": "stdout",
     "output_type": "stream",
     "text": [
      "+---+------+-----+\n| Id|  Name|  Age|\n+---+------+-----+\n|  1|Maheer|   30|\n|  1|Maheer|43000|\n+---+------+-----+\n\n"
     ]
    }
   ],
   "source": [
    "df1.union(df2).show()"
   ]
  },
  {
   "cell_type": "code",
   "execution_count": 0,
   "metadata": {
    "application/vnd.databricks.v1+cell": {
     "cellMetadata": {
      "byteLimit": 2048000,
      "rowLimit": 10000
     },
     "inputWidgets": {},
     "nuid": "954a123a-8425-475b-978a-d09740139c25",
     "showTitle": false,
     "title": ""
    }
   },
   "outputs": [
    {
     "output_type": "stream",
     "name": "stdout",
     "output_type": "stream",
     "text": [
      "+---+------+----+------+\n| Id|  Name| Age|Salary|\n+---+------+----+------+\n|  1|Maheer|  30|  null|\n|  1|Maheer|null| 43000|\n+---+------+----+------+\n\n"
     ]
    }
   ],
   "source": [
    "df1.unionByName(allowMissingColumns=True, other = df2).show()"
   ]
  },
  {
   "cell_type": "code",
   "execution_count": 0,
   "metadata": {
    "application/vnd.databricks.v1+cell": {
     "cellMetadata": {},
     "inputWidgets": {},
     "nuid": "79c2d387-ad07-41d3-9643-3efe7ad81428",
     "showTitle": false,
     "title": ""
    }
   },
   "outputs": [],
   "source": []
  }
 ],
 "metadata": {
  "application/vnd.databricks.v1+notebook": {
   "dashboards": [],
   "environmentMetadata": null,
   "language": "python",
   "notebookMetadata": {
    "pythonIndentUnit": 4
   },
   "notebookName": "UnionByName",
   "widgets": {}
  }
 },
 "nbformat": 4,
 "nbformat_minor": 0
}
