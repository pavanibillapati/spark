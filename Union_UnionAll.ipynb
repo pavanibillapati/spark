{
 "cells": [
  {
   "cell_type": "code",
   "execution_count": 0,
   "metadata": {
    "application/vnd.databricks.v1+cell": {
     "cellMetadata": {
      "byteLimit": 2048000,
      "rowLimit": 10000
     },
     "inputWidgets": {},
     "nuid": "68ad4aeb-c10c-43ba-b812-7b266a2c887f",
     "showTitle": false,
     "title": ""
    }
   },
   "outputs": [
    {
     "output_type": "stream",
     "name": "stdout",
     "output_type": "stream",
     "text": [
      "+---+------+------+\n| Id|  Name|Gender|\n+---+------+------+\n|  1|Maheer|  Male|\n|  2|  wafa|  Male|\n|  3|   asi|FeMale|\n+---+------+------+\n\n+---+------+------+\n| Id|  Name|Gender|\n+---+------+------+\n|  4|Ayesha|FeMale|\n|  5|zainab|FeMale|\n|  6|Zohair|  Male|\n|  1|Maheer|  Male|\n+---+------+------+\n\n"
     ]
    }
   ],
   "source": [
    "data1 = [(1, 'Maheer', 'Male'), (2, 'wafa', 'Male'), (3, 'asi', 'FeMale')]\n",
    "schema1 = ('Id','Name', 'Gender')\n",
    "\n",
    "data2 = [(4, 'Ayesha', 'FeMale'), (5, 'zainab', 'FeMale'), (6, 'Zohair', 'Male'), (1, 'Maheer', 'Male')]\n",
    "schema2 = ('Id','Name', 'Gender')\n",
    "\n",
    "df1 = spark.createDataFrame(data1, schema1)\n",
    "df1.show()\n",
    "\n",
    "df2 = spark.createDataFrame(data2, schema2)\n",
    "df2.show()"
   ]
  },
  {
   "cell_type": "code",
   "execution_count": 0,
   "metadata": {
    "application/vnd.databricks.v1+cell": {
     "cellMetadata": {
      "byteLimit": 2048000,
      "rowLimit": 10000
     },
     "inputWidgets": {},
     "nuid": "0a1e6f11-9bc1-44dd-9225-f597e2526661",
     "showTitle": false,
     "title": ""
    }
   },
   "outputs": [
    {
     "output_type": "stream",
     "name": "stdout",
     "output_type": "stream",
     "text": [
      "+---+------+------+\n| Id|  Name|Gender|\n+---+------+------+\n|  1|Maheer|  Male|\n|  2|  wafa|  Male|\n|  3|   asi|FeMale|\n|  4|Ayesha|FeMale|\n|  5|zainab|FeMale|\n|  6|Zohair|  Male|\n|  1|Maheer|  Male|\n+---+------+------+\n\n"
     ]
    }
   ],
   "source": [
    "newDf = df1.union(df2)\n",
    "\n",
    "newDf.show()"
   ]
  },
  {
   "cell_type": "code",
   "execution_count": 0,
   "metadata": {
    "application/vnd.databricks.v1+cell": {
     "cellMetadata": {
      "byteLimit": 2048000,
      "rowLimit": 10000
     },
     "inputWidgets": {},
     "nuid": "cc1d3154-535b-4166-b94a-a0037237c47f",
     "showTitle": false,
     "title": ""
    }
   },
   "outputs": [
    {
     "output_type": "stream",
     "name": "stdout",
     "output_type": "stream",
     "text": [
      "Help on method unionAll in module pyspark.sql.dataframe:\n\nunionAll(other: 'DataFrame') -> 'DataFrame' method of pyspark.sql.dataframe.DataFrame instance\n    Return a new :class:`DataFrame` containing union of rows in this and another\n    :class:`DataFrame`.\n    \n    .. versionadded:: 1.3.0\n    \n    .. versionchanged:: 3.4.0\n        Support Spark Connect.\n    \n    Parameters\n    ----------\n    other : :class:`DataFrame`\n        Another :class:`DataFrame` that needs to be combined\n    \n    Returns\n    -------\n    :class:`DataFrame`\n        Combined DataFrame\n    \n    Notes\n    -----\n    This is equivalent to `UNION ALL` in SQL. To do a SQL-style set union\n    (that does deduplication of elements), use this function followed by :func:`distinct`.\n    \n    Also as standard in SQL, this function resolves columns by position (not by name).\n    \n    :func:`unionAll` is an alias to :func:`union`\n    \n    See Also\n    --------\n    DataFrame.union\n\n"
     ]
    }
   ],
   "source": [
    "help(df1.unionAll)"
   ]
  },
  {
   "cell_type": "code",
   "execution_count": 0,
   "metadata": {
    "application/vnd.databricks.v1+cell": {
     "cellMetadata": {
      "byteLimit": 2048000,
      "rowLimit": 10000
     },
     "inputWidgets": {},
     "nuid": "1907947a-b9e1-47cf-8d11-3f6a71a6fa3b",
     "showTitle": false,
     "title": ""
    }
   },
   "outputs": [
    {
     "output_type": "stream",
     "name": "stdout",
     "output_type": "stream",
     "text": [
      "+---+------+------+\n| Id|  Name|Gender|\n+---+------+------+\n|  1|Maheer|  Male|\n|  2|  wafa|  Male|\n|  3|   asi|FeMale|\n|  4|Ayesha|FeMale|\n|  5|zainab|FeMale|\n|  6|Zohair|  Male|\n+---+------+------+\n\n"
     ]
    }
   ],
   "source": [
    "    newDf.distinct().show()"
   ]
  },
  {
   "cell_type": "code",
   "execution_count": 0,
   "metadata": {
    "application/vnd.databricks.v1+cell": {
     "cellMetadata": {},
     "inputWidgets": {},
     "nuid": "b8638d11-50ad-4222-8f23-c9fba49e138b",
     "showTitle": false,
     "title": ""
    }
   },
   "outputs": [],
   "source": []
  }
 ],
 "metadata": {
  "application/vnd.databricks.v1+notebook": {
   "dashboards": [],
   "environmentMetadata": null,
   "language": "python",
   "notebookMetadata": {
    "pythonIndentUnit": 4
   },
   "notebookName": "Union_UnionAll",
   "widgets": {}
  }
 },
 "nbformat": 4,
 "nbformat_minor": 0
}
