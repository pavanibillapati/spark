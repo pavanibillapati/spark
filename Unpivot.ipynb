{
 "cells": [
  {
   "cell_type": "code",
   "execution_count": 0,
   "metadata": {
    "application/vnd.databricks.v1+cell": {
     "cellMetadata": {
      "byteLimit": 2048000,
      "rowLimit": 10000
     },
     "inputWidgets": {},
     "nuid": "3442acc0-d25c-4121-8054-e39ad7ddbfe4",
     "showTitle": false,
     "title": ""
    }
   },
   "outputs": [
    {
     "output_type": "stream",
     "name": "stdout",
     "output_type": "stream",
     "text": [
      "+-------+----+------+\n|    dep|male|female|\n+-------+----+------+\n|     IT|   8|     5|\n|Payroll|   3|     2|\n|     HR|   2|     4|\n+-------+----+------+\n\n"
     ]
    }
   ],
   "source": [
    "data = [('IT', 8, 5),\\\n",
    "        ('Payroll', 3, 2),\\\n",
    "        ('HR', 2, 4)]\n",
    "\n",
    "schema = ['dep', 'male', 'female']\n",
    "\n",
    "df = spark.createDataFrame(data, schema)\n",
    "df.show()"
   ]
  },
  {
   "cell_type": "code",
   "execution_count": 0,
   "metadata": {
    "application/vnd.databricks.v1+cell": {
     "cellMetadata": {
      "byteLimit": 2048000,
      "rowLimit": 10000
     },
     "inputWidgets": {},
     "nuid": "e19ab138-4035-4fa9-9ed7-112173b613a9",
     "showTitle": false,
     "title": ""
    }
   },
   "outputs": [
    {
     "output_type": "stream",
     "name": "stdout",
     "output_type": "stream",
     "text": [
      "+-------+------+-----+\n|    dep|gender|count|\n+-------+------+-----+\n|     IT|  male|    8|\n|     IT|female|    5|\n|Payroll|  male|    3|\n|Payroll|female|    2|\n|     HR|  male|    2|\n|     HR|female|    4|\n+-------+------+-----+\n\n"
     ]
    }
   ],
   "source": [
    "from pyspark.sql.functions import expr\n",
    "unpivot_df = df.select('dep', expr(\"stack(2, 'male', male, 'female', female) as (gender, count)\"))\n",
    "\n",
    "unpivot_df.show()"
   ]
  },
  {
   "cell_type": "code",
   "execution_count": 0,
   "metadata": {
    "application/vnd.databricks.v1+cell": {
     "cellMetadata": {
      "byteLimit": 2048000,
      "rowLimit": 10000
     },
     "inputWidgets": {},
     "nuid": "32bf40a4-e48d-4ba1-8af2-2b8d5d413162",
     "showTitle": false,
     "title": ""
    }
   },
   "outputs": [
    {
     "output_type": "stream",
     "name": "stdout",
     "output_type": "stream",
     "text": [
      "+-------+------+-----+\n|    dep|gender|count|\n+-------+------+-----+\n|     IT|  male|    8|\n|     IT|female|    5|\n|Payroll|  male|    3|\n|Payroll|female|    2|\n|     HR|  male|    2|\n|     HR|female|    4|\n+-------+------+-----+\n\n"
     ]
    }
   ],
   "source": [
    "unpivot_df = df.select('dep', expr(\"stack(2, 'male', male, 'female', female) as (gender, count)\"))\n",
    "\n",
    "unpivot_df.show()"
   ]
  },
  {
   "cell_type": "code",
   "execution_count": 0,
   "metadata": {
    "application/vnd.databricks.v1+cell": {
     "cellMetadata": {
      "byteLimit": 2048000,
      "rowLimit": 10000
     },
     "inputWidgets": {},
     "nuid": "392a6926-e063-4159-83fb-5f1fb4184c40",
     "showTitle": false,
     "title": ""
    }
   },
   "outputs": [
    {
     "output_type": "stream",
     "name": "stdout",
     "output_type": "stream",
     "text": [
      "+-------+------+-----+\n|    dep|gender|count|\n+-------+------+-----+\n|     IT|     M|    8|\n|     IT|     F|    5|\n|Payroll|     M|    3|\n|Payroll|     F|    2|\n|     HR|     M|    2|\n|     HR|     F|    4|\n+-------+------+-----+\n\n"
     ]
    }
   ],
   "source": [
    "unpivot_df = df.select('dep',expr(\"Stack(2, 'M', male, 'F', female) as (gender, count)\"))\n",
    "\n",
    "unpivot_df.show()"
   ]
  },
  {
   "cell_type": "code",
   "execution_count": 0,
   "metadata": {
    "application/vnd.databricks.v1+cell": {
     "cellMetadata": {},
     "inputWidgets": {},
     "nuid": "0b0f21fb-ac1c-4d5e-846c-9d77ec47a49c",
     "showTitle": false,
     "title": ""
    }
   },
   "outputs": [],
   "source": []
  }
 ],
 "metadata": {
  "application/vnd.databricks.v1+notebook": {
   "dashboards": [],
   "environmentMetadata": null,
   "language": "python",
   "notebookMetadata": {
    "pythonIndentUnit": 4
   },
   "notebookName": "Unpivot",
   "widgets": {}
  }
 },
 "nbformat": 4,
 "nbformat_minor": 0
}
