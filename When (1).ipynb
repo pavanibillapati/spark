{
 "cells": [
  {
   "cell_type": "code",
   "execution_count": 0,
   "metadata": {
    "application/vnd.databricks.v1+cell": {
     "cellMetadata": {
      "byteLimit": 2048000,
      "rowLimit": 10000
     },
     "inputWidgets": {},
     "nuid": "2d9a34a7-06f7-4dd3-9c13-a1587f34bc84",
     "showTitle": false,
     "title": ""
    }
   },
   "outputs": [
    {
     "output_type": "stream",
     "name": "stdout",
     "output_type": "stream",
     "text": [
      "+---+----+------+------+\n| id|name|gender|salary|\n+---+----+------+------+\n|  1|hary|     M| 32000|\n|  2|wafa|      | 20000|\n|  3|mary|     F| 35000|\n+---+----+------+------+\n\n"
     ]
    }
   ],
   "source": [
    "data = [(1, 'hary', 'M',32000), (2, 'wafa', '',20000), (3, 'mary', 'F',35000)]\n",
    "schema = ('id', 'name', 'gender', 'salary')\n",
    "\n",
    "df = spark.createDataFrame(data, schema)\n",
    "\n",
    "df.show()"
   ]
  },
  {
   "cell_type": "code",
   "execution_count": 0,
   "metadata": {
    "application/vnd.databricks.v1+cell": {
     "cellMetadata": {
      "byteLimit": 2048000,
      "rowLimit": 10000
     },
     "inputWidgets": {},
     "nuid": "8aad9362-91c3-48a5-9f9c-ee3ee46bb051",
     "showTitle": false,
     "title": ""
    }
   },
   "outputs": [
    {
     "output_type": "stream",
     "name": "stdout",
     "output_type": "stream",
     "text": [
      "+---+----+-------+\n| id|name| gender|\n+---+----+-------+\n|  1|hary|   Male|\n|  2|wafa|unknown|\n|  3|mary| Female|\n+---+----+-------+\n\n"
     ]
    }
   ],
   "source": [
    "\n",
    "from pyspark.sql.functions import when\n",
    "df1 = df.select(df.id, df.name, when(condition = df.gender == 'M', value = 'Male')\\\n",
    "                          .when(condition = df.gender == 'F', value = 'Female')\\\n",
    "                          .otherwise('unknown')\\\n",
    "                          .alias('gender'))\n",
    "\n",
    "df1.show()"
   ]
  },
  {
   "cell_type": "code",
   "execution_count": 0,
   "metadata": {
    "application/vnd.databricks.v1+cell": {
     "cellMetadata": {},
     "inputWidgets": {},
     "nuid": "517317ed-8551-40b5-8718-29d206a887dd",
     "showTitle": false,
     "title": ""
    }
   },
   "outputs": [],
   "source": []
  }
 ],
 "metadata": {
  "application/vnd.databricks.v1+notebook": {
   "dashboards": [],
   "language": "python",
   "notebookMetadata": {
    "pythonIndentUnit": 4
   },
   "notebookName": "When",
   "widgets": {}
  }
 },
 "nbformat": 4,
 "nbformat_minor": 0
}
