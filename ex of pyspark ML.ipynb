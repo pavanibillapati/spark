{
 "cells": [
  {
   "cell_type": "code",
   "execution_count": 1,
   "id": "3ede32ac",
   "metadata": {},
   "outputs": [],
   "source": [
    "from pyspark.sql import SparkSession\n",
    "\n",
    "spark = SparkSession.builder.appName(\"Mlb\").getOrCreate()"
   ]
  },
  {
   "cell_type": "code",
   "execution_count": 2,
   "id": "44603e37",
   "metadata": {},
   "outputs": [],
   "source": [
    "df = spark.read.csv(r\"C:\\Users\\pavan\\OneDrive\\Desktop\\prep\\datasets\\test3.csv\", header = True, inferSchema = True)"
   ]
  },
  {
   "cell_type": "code",
   "execution_count": 3,
   "id": "7de327d6",
   "metadata": {},
   "outputs": [
    {
     "name": "stdout",
     "output_type": "stream",
     "text": [
      "+-------+---+----------+------+\n",
      "|   Name|Age|Experience|Salary|\n",
      "+-------+---+----------+------+\n",
      "|   john| 31|        10| 10000|\n",
      "|Stephen| 30|         8|  5000|\n",
      "|  Stacy| 29|         4|  4000|\n",
      "|   paul| 24|         3|  3000|\n",
      "|  Krish| 21|         1| 20000|\n",
      "|    Joe| 23|         2| 10000|\n",
      "|Stephen| 22|         2|  5000|\n",
      "|   jack| 19|         1| 10000|\n",
      "|  Krish| 20|         2|  8000|\n",
      "+-------+---+----------+------+\n",
      "\n"
     ]
    }
   ],
   "source": [
    "df.show()"
   ]
  },
  {
   "cell_type": "code",
   "execution_count": 4,
   "id": "183cddf0",
   "metadata": {},
   "outputs": [
    {
     "data": {
      "text/plain": [
       "<bound method DataFrame.printSchema of DataFrame[Name: string, Age: int, Experience: int, Salary: int]>"
      ]
     },
     "execution_count": 4,
     "metadata": {},
     "output_type": "execute_result"
    }
   ],
   "source": [
    "df.printSchema"
   ]
  },
  {
   "cell_type": "code",
   "execution_count": 5,
   "id": "3b7388c4",
   "metadata": {},
   "outputs": [
    {
     "data": {
      "text/plain": [
       "['Name', 'Age', 'Experience', 'Salary']"
      ]
     },
     "execution_count": 5,
     "metadata": {},
     "output_type": "execute_result"
    }
   ],
   "source": [
    "df.columns"
   ]
  },
  {
   "cell_type": "markdown",
   "id": "caaaa10d",
   "metadata": {},
   "source": [
    "[Age,Experience] ---> new feature --> independent feature"
   ]
  },
  {
   "cell_type": "code",
   "execution_count": 6,
   "id": "60d3efb3",
   "metadata": {},
   "outputs": [],
   "source": [
    "from pyspark.ml.feature import VectorAssembler\n",
    "featureassembler = VectorAssembler(inputCols = ['Age', 'Experience'], outputCol=\"Independent Feature\")"
   ]
  },
  {
   "cell_type": "code",
   "execution_count": 8,
   "id": "ed342490",
   "metadata": {},
   "outputs": [],
   "source": [
    "output = featureassembler.transform(df)"
   ]
  },
  {
   "cell_type": "code",
   "execution_count": 9,
   "id": "a9ddf45c",
   "metadata": {},
   "outputs": [
    {
     "name": "stdout",
     "output_type": "stream",
     "text": [
      "+-------+---+----------+------+-------------------+\n",
      "|   Name|Age|Experience|Salary|Independent Feature|\n",
      "+-------+---+----------+------+-------------------+\n",
      "|   john| 31|        10| 10000|        [31.0,10.0]|\n",
      "|Stephen| 30|         8|  5000|         [30.0,8.0]|\n",
      "|  Stacy| 29|         4|  4000|         [29.0,4.0]|\n",
      "|   paul| 24|         3|  3000|         [24.0,3.0]|\n",
      "|  Krish| 21|         1| 20000|         [21.0,1.0]|\n",
      "|    Joe| 23|         2| 10000|         [23.0,2.0]|\n",
      "|Stephen| 22|         2|  5000|         [22.0,2.0]|\n",
      "|   jack| 19|         1| 10000|         [19.0,1.0]|\n",
      "|  Krish| 20|         2|  8000|         [20.0,2.0]|\n",
      "+-------+---+----------+------+-------------------+\n",
      "\n"
     ]
    }
   ],
   "source": [
    "output.show()"
   ]
  },
  {
   "cell_type": "code",
   "execution_count": 10,
   "id": "09bf3ca0",
   "metadata": {},
   "outputs": [
    {
     "data": {
      "text/plain": [
       "['Name', 'Age', 'Experience', 'Salary', 'Independent Feature']"
      ]
     },
     "execution_count": 10,
     "metadata": {},
     "output_type": "execute_result"
    }
   ],
   "source": [
    "output.columns"
   ]
  },
  {
   "cell_type": "code",
   "execution_count": 13,
   "id": "965b8d53",
   "metadata": {},
   "outputs": [],
   "source": [
    "finalised_data = output.select(['Independent feature', 'Salary'])"
   ]
  },
  {
   "cell_type": "code",
   "execution_count": 16,
   "id": "87bc268f",
   "metadata": {},
   "outputs": [
    {
     "name": "stdout",
     "output_type": "stream",
     "text": [
      "+-------------------+------+\n",
      "|Independent feature|Salary|\n",
      "+-------------------+------+\n",
      "|        [31.0,10.0]| 10000|\n",
      "|         [30.0,8.0]|  5000|\n",
      "|         [29.0,4.0]|  4000|\n",
      "|         [24.0,3.0]|  3000|\n",
      "|         [21.0,1.0]| 20000|\n",
      "|         [23.0,2.0]| 10000|\n",
      "|         [22.0,2.0]|  5000|\n",
      "|         [19.0,1.0]| 10000|\n",
      "|         [20.0,2.0]|  8000|\n",
      "+-------------------+------+\n",
      "\n"
     ]
    }
   ],
   "source": [
    "finalised_data.show()"
   ]
  },
  {
   "cell_type": "code",
   "execution_count": 19,
   "id": "53a1b4e7",
   "metadata": {},
   "outputs": [],
   "source": [
    "from pyspark.ml.regression import LinearRegression\n",
    "\n",
    "#train_test_split\n",
    "train_data,test_data = finalised_data.randomSplit([0.75,0.25])\n",
    "regressor = LinearRegression(featuresCol = \"Independent feature\", labelCol = 'Salary')\n",
    "regressor = regressor.fit(train_data)"
   ]
  },
  {
   "cell_type": "code",
   "execution_count": 23,
   "id": "998e06db",
   "metadata": {},
   "outputs": [
    {
     "data": {
      "text/plain": [
       "DenseVector([2214.2857, -3597.1897])"
      ]
     },
     "execution_count": 23,
     "metadata": {},
     "output_type": "execute_result"
    }
   ],
   "source": [
    "#coefficeints\n",
    "regressor.coefficients"
   ]
  },
  {
   "cell_type": "code",
   "execution_count": 22,
   "id": "62a405cc",
   "metadata": {},
   "outputs": [
    {
     "data": {
      "text/plain": [
       "-27158.07962528605"
      ]
     },
     "execution_count": 22,
     "metadata": {},
     "output_type": "execute_result"
    }
   ],
   "source": [
    "regressor.intercept"
   ]
  },
  {
   "cell_type": "code",
   "execution_count": 25,
   "id": "efad1eb7",
   "metadata": {},
   "outputs": [],
   "source": [
    "##Prediction\n",
    "pred_results = regressor.evaluate(test_data)"
   ]
  },
  {
   "cell_type": "code",
   "execution_count": 26,
   "id": "eabd5115",
   "metadata": {},
   "outputs": [
    {
     "name": "stdout",
     "output_type": "stream",
     "text": [
      "+-------------------+------+------------------+\n",
      "|Independent feature|Salary|        prediction|\n",
      "+-------------------+------+------------------+\n",
      "|         [22.0,2.0]|  5000|14361.826697891902|\n",
      "|         [23.0,2.0]| 10000|16576.112412177255|\n",
      "|         [24.0,3.0]|  3000|15193.208430912742|\n",
      "|         [29.0,4.0]|  4000| 22667.44730678963|\n",
      "+-------------------+------+------------------+\n",
      "\n"
     ]
    }
   ],
   "source": [
    "pred_results.predictions.show()"
   ]
  },
  {
   "cell_type": "code",
   "execution_count": null,
   "id": "f1ff624c",
   "metadata": {},
   "outputs": [],
   "source": [
    "pred_results"
   ]
  }
 ],
 "metadata": {
  "kernelspec": {
   "display_name": "Python 3 (ipykernel)",
   "language": "python",
   "name": "python3"
  },
  "language_info": {
   "codemirror_mode": {
    "name": "ipython",
    "version": 3
   },
   "file_extension": ".py",
   "mimetype": "text/x-python",
   "name": "python",
   "nbconvert_exporter": "python",
   "pygments_lexer": "ipython3",
   "version": "3.10.9"
  }
 },
 "nbformat": 4,
 "nbformat_minor": 5
}
