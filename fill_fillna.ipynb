{
 "cells": [
  {
   "cell_type": "code",
   "execution_count": 0,
   "metadata": {
    "application/vnd.databricks.v1+cell": {
     "cellMetadata": {
      "byteLimit": 2048000,
      "rowLimit": 10000
     },
     "inputWidgets": {},
     "nuid": "854b69d6-d6d2-45d2-8ca7-541445eb0aec",
     "showTitle": false,
     "title": ""
    }
   },
   "outputs": [
    {
     "output_type": "stream",
     "name": "stdout",
     "output_type": "stream",
     "text": [
      "+---+------+------+------+----+\n| Id|  name|gender|Salary| dep|\n+---+------+------+------+----+\n|  1|Maheer|  male|  1000|null|\n|  2|   Asi|Female|  2000|  IT|\n|  3|  abcd|  null|  1000|  HR|\n+---+------+------+------+----+\n\nroot\n |-- Id: long (nullable = true)\n |-- name: string (nullable = true)\n |-- gender: string (nullable = true)\n |-- Salary: long (nullable = true)\n |-- dep: string (nullable = true)\n\n"
     ]
    }
   ],
   "source": [
    "data = [(1, 'Maheer', 'male', 1000, None), (2, 'Asi', 'Female', 2000, 'IT'), (3, 'abcd', None, 1000, 'HR')]\n",
    "schema = ['Id', 'name', 'gender', 'Salary', 'dep']\n",
    "\n",
    "df = spark.createDataFrame(data, schema)\n",
    "df.show()\n",
    "df.printSchema()"
   ]
  },
  {
   "cell_type": "code",
   "execution_count": 0,
   "metadata": {
    "application/vnd.databricks.v1+cell": {
     "cellMetadata": {
      "byteLimit": 2048000,
      "rowLimit": 10000
     },
     "inputWidgets": {},
     "nuid": "67fd1bec-bb76-4167-929c-07cd568f749f",
     "showTitle": false,
     "title": ""
    }
   },
   "outputs": [
    {
     "output_type": "stream",
     "name": "stdout",
     "output_type": "stream",
     "text": [
      "+---+------+-------+------+-------+\n| Id|  name| gender|Salary|    dep|\n+---+------+-------+------+-------+\n|  1|Maheer|   male|  1000|unknown|\n|  2|   Asi| Female|  2000|     IT|\n|  3|  abcd|unknown|  1000|     HR|\n+---+------+-------+------+-------+\n\n"
     ]
    }
   ],
   "source": [
    "df.fillna('unknown').show()"
   ]
  },
  {
   "cell_type": "code",
   "execution_count": 0,
   "metadata": {
    "application/vnd.databricks.v1+cell": {
     "cellMetadata": {
      "byteLimit": 2048000,
      "rowLimit": 10000
     },
     "inputWidgets": {},
     "nuid": "f929d67c-efff-4367-80ca-8da14bd7c5bb",
     "showTitle": false,
     "title": ""
    }
   },
   "outputs": [
    {
     "output_type": "stream",
     "name": "stdout",
     "output_type": "stream",
     "text": [
      "+---+------+------+------+-------+\n| Id|  name|gender|Salary|    dep|\n+---+------+------+------+-------+\n|  1|Maheer|  male|  1000|unknown|\n|  2|   Asi|Female|  2000|     IT|\n|  3|  abcd|  null|  1000|     HR|\n+---+------+------+------+-------+\n\n"
     ]
    }
   ],
   "source": [
    "df.fillna('unknown', subset = ['dep']).show()"
   ]
  },
  {
   "cell_type": "code",
   "execution_count": 0,
   "metadata": {
    "application/vnd.databricks.v1+cell": {
     "cellMetadata": {
      "byteLimit": 2048000,
      "rowLimit": 10000
     },
     "inputWidgets": {},
     "nuid": "1f62c4b4-7820-4ed3-a9a3-5909fab52915",
     "showTitle": false,
     "title": ""
    }
   },
   "outputs": [
    {
     "output_type": "stream",
     "name": "stdout",
     "output_type": "stream",
     "text": [
      "+---+------+-------+------+----+\n| Id|  name| gender|Salary| dep|\n+---+------+-------+------+----+\n|  1|Maheer|   male|  1000|null|\n|  2|   Asi| Female|  2000|  IT|\n|  3|  abcd|unknown|  1000|  HR|\n+---+------+-------+------+----+\n\n"
     ]
    }
   ],
   "source": [
    "df.na.fill('unknown', ['gender']).show()"
   ]
  },
  {
   "cell_type": "code",
   "execution_count": 0,
   "metadata": {
    "application/vnd.databricks.v1+cell": {
     "cellMetadata": {},
     "inputWidgets": {},
     "nuid": "6466de1a-20be-4a04-91f8-34ca9f35c52e",
     "showTitle": false,
     "title": ""
    }
   },
   "outputs": [],
   "source": []
  }
 ],
 "metadata": {
  "application/vnd.databricks.v1+notebook": {
   "dashboards": [],
   "environmentMetadata": null,
   "language": "python",
   "notebookMetadata": {
    "pythonIndentUnit": 4
   },
   "notebookName": "fill_fillna",
   "widgets": {}
  }
 },
 "nbformat": 4,
 "nbformat_minor": 0
}
