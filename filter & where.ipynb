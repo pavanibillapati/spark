{
 "cells": [
  {
   "cell_type": "code",
   "execution_count": 0,
   "metadata": {
    "application/vnd.databricks.v1+cell": {
     "cellMetadata": {
      "byteLimit": 2048000,
      "rowLimit": 10000
     },
     "inputWidgets": {},
     "nuid": "4ed16e99-4c61-4c69-8ea7-4fad0298a618",
     "showTitle": false,
     "title": ""
    }
   },
   "outputs": [
    {
     "output_type": "stream",
     "name": "stdout",
     "output_type": "stream",
     "text": [
      "+---+------+------+------+\n| id|  name|salary|gender|\n+---+------+------+------+\n|  1|maheer| 20000|     M|\n|  2|mahesh| 24000|     M|\n|  3|   asi| 18000|     F|\n+---+------+------+------+\n\n"
     ]
    }
   ],
   "source": [
    "data = [(1, 'maheer', 20000, 'M'), (2, 'mahesh', 24000, 'M'), (3, 'asi', 18000, 'F')]\n",
    "schema = ('id', 'name', 'salary', 'gender')\n",
    "\n",
    "df = spark.createDataFrame(data, schema)\n",
    "\n",
    "df.show()"
   ]
  },
  {
   "cell_type": "code",
   "execution_count": 0,
   "metadata": {
    "application/vnd.databricks.v1+cell": {
     "cellMetadata": {
      "byteLimit": 2048000,
      "rowLimit": 10000
     },
     "inputWidgets": {},
     "nuid": "d0d2794b-fe78-48ff-91e0-3315df14f652",
     "showTitle": false,
     "title": ""
    }
   },
   "outputs": [
    {
     "output_type": "stream",
     "name": "stdout",
     "output_type": "stream",
     "text": [
      "+---+------+------+------+\n| id|  name|salary|gender|\n+---+------+------+------+\n|  1|maheer| 20000|     M|\n|  2|mahesh| 24000|     M|\n+---+------+------+------+\n\n"
     ]
    }
   ],
   "source": [
    "df.filter(df.gender == 'M').show()"
   ]
  },
  {
   "cell_type": "code",
   "execution_count": 0,
   "metadata": {
    "application/vnd.databricks.v1+cell": {
     "cellMetadata": {
      "byteLimit": 2048000,
      "rowLimit": 10000
     },
     "inputWidgets": {},
     "nuid": "e26935ca-f4c3-494c-8a99-4db14beab773",
     "showTitle": false,
     "title": ""
    }
   },
   "outputs": [
    {
     "output_type": "stream",
     "name": "stdout",
     "output_type": "stream",
     "text": [
      "+---+------+------+------+\n| id|  name|salary|gender|\n+---+------+------+------+\n|  1|maheer| 20000|     M|\n|  2|mahesh| 24000|     M|\n+---+------+------+------+\n\n"
     ]
    }
   ],
   "source": [
    "df.filter(\"gender == 'M'\").show()"
   ]
  },
  {
   "cell_type": "code",
   "execution_count": 0,
   "metadata": {
    "application/vnd.databricks.v1+cell": {
     "cellMetadata": {
      "byteLimit": 2048000,
      "rowLimit": 10000
     },
     "inputWidgets": {},
     "nuid": "21994166-6cd1-466a-a063-2e93556f2a66",
     "showTitle": false,
     "title": ""
    }
   },
   "outputs": [
    {
     "output_type": "stream",
     "name": "stdout",
     "output_type": "stream",
     "text": [
      "+---+------+------+------+\n| id|  name|salary|gender|\n+---+------+------+------+\n|  1|maheer| 20000|     M|\n|  2|mahesh| 24000|     M|\n+---+------+------+------+\n\n"
     ]
    }
   ],
   "source": [
    "df.where(\"gender == 'M'\").show()"
   ]
  },
  {
   "cell_type": "code",
   "execution_count": 0,
   "metadata": {
    "application/vnd.databricks.v1+cell": {
     "cellMetadata": {
      "byteLimit": 2048000,
      "rowLimit": 10000
     },
     "inputWidgets": {},
     "nuid": "f0ccc414-1c8c-4f59-8f60-6cc618ca7dda",
     "showTitle": false,
     "title": ""
    }
   },
   "outputs": [
    {
     "output_type": "stream",
     "name": "stdout",
     "output_type": "stream",
     "text": [
      "+---+------+------+------+\n| id|  name|salary|gender|\n+---+------+------+------+\n|  1|maheer| 20000|     M|\n|  2|mahesh| 24000|     M|\n+---+------+------+------+\n\n"
     ]
    }
   ],
   "source": [
    "df.where(df.gender == 'M').show()"
   ]
  },
  {
   "cell_type": "code",
   "execution_count": 0,
   "metadata": {
    "application/vnd.databricks.v1+cell": {
     "cellMetadata": {
      "byteLimit": 2048000,
      "rowLimit": 10000
     },
     "inputWidgets": {},
     "nuid": "a9f901e5-ab1a-4452-ae49-0b22059ec5e4",
     "showTitle": false,
     "title": ""
    }
   },
   "outputs": [
    {
     "output_type": "stream",
     "name": "stdout",
     "output_type": "stream",
     "text": [
      "+---+------+------+------+\n| id|  name|salary|gender|\n+---+------+------+------+\n|  2|mahesh| 24000|     M|\n+---+------+------+------+\n\n"
     ]
    }
   ],
   "source": [
    "df.where((df.gender == 'M') & (df.salary > 20000)).show()"
   ]
  },
  {
   "cell_type": "code",
   "execution_count": 0,
   "metadata": {
    "application/vnd.databricks.v1+cell": {
     "cellMetadata": {},
     "inputWidgets": {},
     "nuid": "add570c4-5a1e-43ec-ab5b-f87aef54440d",
     "showTitle": false,
     "title": ""
    }
   },
   "outputs": [],
   "source": []
  }
 ],
 "metadata": {
  "application/vnd.databricks.v1+notebook": {
   "dashboards": [],
   "environmentMetadata": null,
   "language": "python",
   "notebookMetadata": {
    "pythonIndentUnit": 4
   },
   "notebookName": "filter & where",
   "widgets": {}
  }
 },
 "nbformat": 4,
 "nbformat_minor": 0
}
