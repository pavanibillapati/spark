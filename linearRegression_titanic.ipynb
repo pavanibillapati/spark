{
 "cells": [
  {
   "cell_type": "code",
   "execution_count": 1,
   "id": "7b38fe5d",
   "metadata": {},
   "outputs": [],
   "source": [
    "from pyspark.sql import SparkSession"
   ]
  },
  {
   "cell_type": "code",
   "execution_count": 2,
   "id": "7a8f5cf9",
   "metadata": {},
   "outputs": [],
   "source": [
    "spark = SparkSession.builder.appName('dataframe').getOrCreate()"
   ]
  },
  {
   "cell_type": "code",
   "execution_count": 3,
   "id": "d15dadb6",
   "metadata": {},
   "outputs": [
    {
     "data": {
      "text/html": [
       "\n",
       "            <div>\n",
       "                <p><b>SparkSession - in-memory</b></p>\n",
       "                \n",
       "        <div>\n",
       "            <p><b>SparkContext</b></p>\n",
       "\n",
       "            <p><a href=\"http://172.19.54.31:4043\">Spark UI</a></p>\n",
       "\n",
       "            <dl>\n",
       "              <dt>Version</dt>\n",
       "                <dd><code>v3.5.0</code></dd>\n",
       "              <dt>Master</dt>\n",
       "                <dd><code>local[*]</code></dd>\n",
       "              <dt>AppName</dt>\n",
       "                <dd><code>dataframe</code></dd>\n",
       "            </dl>\n",
       "        </div>\n",
       "        \n",
       "            </div>\n",
       "        "
      ],
      "text/plain": [
       "<pyspark.sql.session.SparkSession at 0x1e87b52e2f0>"
      ]
     },
     "execution_count": 3,
     "metadata": {},
     "output_type": "execute_result"
    }
   ],
   "source": [
    "spark"
   ]
  },
  {
   "cell_type": "code",
   "execution_count": 4,
   "id": "55113b24",
   "metadata": {},
   "outputs": [],
   "source": [
    "df = spark.read.csv(r\"C:\\Users\\pavan\\OneDrive\\Desktop\\prep\\datasets\\titanic\\train.csv\",header = True, inferSchema = True)"
   ]
  },
  {
   "cell_type": "code",
   "execution_count": 5,
   "id": "a26bb35b",
   "metadata": {},
   "outputs": [
    {
     "data": {
      "text/plain": [
       "[Row(PassengerId=1, Survived=0, Pclass=3, Name='Braund, Mr. Owen Harris', Sex='male', Age=22.0, SibSp=1, Parch=0, Ticket='A/5 21171', Fare=7.25, Cabin=None, Embarked='S'),\n",
       " Row(PassengerId=2, Survived=1, Pclass=1, Name='Cumings, Mrs. John Bradley (Florence Briggs Thayer)', Sex='female', Age=38.0, SibSp=1, Parch=0, Ticket='PC 17599', Fare=71.2833, Cabin='C85', Embarked='C'),\n",
       " Row(PassengerId=3, Survived=1, Pclass=3, Name='Heikkinen, Miss. Laina', Sex='female', Age=26.0, SibSp=0, Parch=0, Ticket='STON/O2. 3101282', Fare=7.925, Cabin=None, Embarked='S')]"
      ]
     },
     "execution_count": 5,
     "metadata": {},
     "output_type": "execute_result"
    }
   ],
   "source": [
    "df.head(3)"
   ]
  },
  {
   "cell_type": "code",
   "execution_count": 6,
   "id": "55a47ee7",
   "metadata": {},
   "outputs": [
    {
     "name": "stdout",
     "output_type": "stream",
     "text": [
      "+-----------+--------+------+--------------------+------+----+-----+-----+----------------+-------+-----+--------+\n",
      "|PassengerId|Survived|Pclass|                Name|   Sex| Age|SibSp|Parch|          Ticket|   Fare|Cabin|Embarked|\n",
      "+-----------+--------+------+--------------------+------+----+-----+-----+----------------+-------+-----+--------+\n",
      "|          1|       0|     3|Braund, Mr. Owen ...|  male|22.0|    1|    0|       A/5 21171|   7.25| NULL|       S|\n",
      "|          2|       1|     1|Cumings, Mrs. Joh...|female|38.0|    1|    0|        PC 17599|71.2833|  C85|       C|\n",
      "|          3|       1|     3|Heikkinen, Miss. ...|female|26.0|    0|    0|STON/O2. 3101282|  7.925| NULL|       S|\n",
      "|          4|       1|     1|Futrelle, Mrs. Ja...|female|35.0|    1|    0|          113803|   53.1| C123|       S|\n",
      "|          5|       0|     3|Allen, Mr. Willia...|  male|35.0|    0|    0|          373450|   8.05| NULL|       S|\n",
      "|          6|       0|     3|    Moran, Mr. James|  male|NULL|    0|    0|          330877| 8.4583| NULL|       Q|\n",
      "|          7|       0|     1|McCarthy, Mr. Tim...|  male|54.0|    0|    0|           17463|51.8625|  E46|       S|\n",
      "|          8|       0|     3|Palsson, Master. ...|  male| 2.0|    3|    1|          349909| 21.075| NULL|       S|\n",
      "|          9|       1|     3|Johnson, Mrs. Osc...|female|27.0|    0|    2|          347742|11.1333| NULL|       S|\n",
      "|         10|       1|     2|Nasser, Mrs. Nich...|female|14.0|    1|    0|          237736|30.0708| NULL|       C|\n",
      "|         11|       1|     3|Sandstrom, Miss. ...|female| 4.0|    1|    1|         PP 9549|   16.7|   G6|       S|\n",
      "|         12|       1|     1|Bonnell, Miss. El...|female|58.0|    0|    0|          113783|  26.55| C103|       S|\n",
      "|         13|       0|     3|Saundercock, Mr. ...|  male|20.0|    0|    0|       A/5. 2151|   8.05| NULL|       S|\n",
      "|         14|       0|     3|Andersson, Mr. An...|  male|39.0|    1|    5|          347082| 31.275| NULL|       S|\n",
      "|         15|       0|     3|Vestrom, Miss. Hu...|female|14.0|    0|    0|          350406| 7.8542| NULL|       S|\n",
      "|         16|       1|     2|Hewlett, Mrs. (Ma...|female|55.0|    0|    0|          248706|   16.0| NULL|       S|\n",
      "|         17|       0|     3|Rice, Master. Eugene|  male| 2.0|    4|    1|          382652| 29.125| NULL|       Q|\n",
      "|         18|       1|     2|Williams, Mr. Cha...|  male|NULL|    0|    0|          244373|   13.0| NULL|       S|\n",
      "|         19|       0|     3|Vander Planke, Mr...|female|31.0|    1|    0|          345763|   18.0| NULL|       S|\n",
      "|         20|       1|     3|Masselmani, Mrs. ...|female|NULL|    0|    0|            2649|  7.225| NULL|       C|\n",
      "+-----------+--------+------+--------------------+------+----+-----+-----+----------------+-------+-----+--------+\n",
      "only showing top 20 rows\n",
      "\n"
     ]
    }
   ],
   "source": [
    "df.show()"
   ]
  },
  {
   "cell_type": "code",
   "execution_count": 7,
   "id": "b6bfa7dd",
   "metadata": {},
   "outputs": [
    {
     "data": {
      "text/plain": [
       "[('PassengerId', 'int'),\n",
       " ('Survived', 'int'),\n",
       " ('Pclass', 'int'),\n",
       " ('Name', 'string'),\n",
       " ('Sex', 'string'),\n",
       " ('Age', 'double'),\n",
       " ('SibSp', 'int'),\n",
       " ('Parch', 'int'),\n",
       " ('Ticket', 'string'),\n",
       " ('Fare', 'double'),\n",
       " ('Cabin', 'string'),\n",
       " ('Embarked', 'string')]"
      ]
     },
     "execution_count": 7,
     "metadata": {},
     "output_type": "execute_result"
    }
   ],
   "source": [
    "df.dtypes"
   ]
  },
  {
   "cell_type": "code",
   "execution_count": 8,
   "id": "e235f392",
   "metadata": {},
   "outputs": [
    {
     "name": "stdout",
     "output_type": "stream",
     "text": [
      "root\n",
      " |-- PassengerId: integer (nullable = true)\n",
      " |-- Survived: integer (nullable = true)\n",
      " |-- Pclass: integer (nullable = true)\n",
      " |-- Name: string (nullable = true)\n",
      " |-- Sex: string (nullable = true)\n",
      " |-- Age: double (nullable = true)\n",
      " |-- SibSp: integer (nullable = true)\n",
      " |-- Parch: integer (nullable = true)\n",
      " |-- Ticket: string (nullable = true)\n",
      " |-- Fare: double (nullable = true)\n",
      " |-- Cabin: string (nullable = true)\n",
      " |-- Embarked: string (nullable = true)\n",
      "\n"
     ]
    }
   ],
   "source": [
    "df.printSchema()"
   ]
  },
  {
   "cell_type": "code",
   "execution_count": 9,
   "id": "7baa02ae",
   "metadata": {},
   "outputs": [
    {
     "data": {
      "text/plain": [
       "<bound method DataFrame.describe of DataFrame[PassengerId: int, Survived: int, Pclass: int, Name: string, Sex: string, Age: double, SibSp: int, Parch: int, Ticket: string, Fare: double, Cabin: string, Embarked: string]>"
      ]
     },
     "execution_count": 9,
     "metadata": {},
     "output_type": "execute_result"
    }
   ],
   "source": [
    "df.describe"
   ]
  },
  {
   "cell_type": "code",
   "execution_count": 10,
   "id": "4f04e658",
   "metadata": {},
   "outputs": [],
   "source": [
    "df1 = spark.read.option('header','true').csv(r\"C:\\Users\\pavan\\OneDrive\\Desktop\\prep\\datasets\\titanic\\train.csv\")"
   ]
  },
  {
   "cell_type": "code",
   "execution_count": 11,
   "id": "a6336c8b",
   "metadata": {},
   "outputs": [
    {
     "name": "stdout",
     "output_type": "stream",
     "text": [
      "+-----------+--------+------+--------------------+------+----+-----+-----+----------------+-------+-----+--------+\n",
      "|PassengerId|Survived|Pclass|                Name|   Sex| Age|SibSp|Parch|          Ticket|   Fare|Cabin|Embarked|\n",
      "+-----------+--------+------+--------------------+------+----+-----+-----+----------------+-------+-----+--------+\n",
      "|          1|       0|     3|Braund, Mr. Owen ...|  male|  22|    1|    0|       A/5 21171|   7.25| NULL|       S|\n",
      "|          2|       1|     1|Cumings, Mrs. Joh...|female|  38|    1|    0|        PC 17599|71.2833|  C85|       C|\n",
      "|          3|       1|     3|Heikkinen, Miss. ...|female|  26|    0|    0|STON/O2. 3101282|  7.925| NULL|       S|\n",
      "|          4|       1|     1|Futrelle, Mrs. Ja...|female|  35|    1|    0|          113803|   53.1| C123|       S|\n",
      "|          5|       0|     3|Allen, Mr. Willia...|  male|  35|    0|    0|          373450|   8.05| NULL|       S|\n",
      "|          6|       0|     3|    Moran, Mr. James|  male|NULL|    0|    0|          330877| 8.4583| NULL|       Q|\n",
      "|          7|       0|     1|McCarthy, Mr. Tim...|  male|  54|    0|    0|           17463|51.8625|  E46|       S|\n",
      "|          8|       0|     3|Palsson, Master. ...|  male|   2|    3|    1|          349909| 21.075| NULL|       S|\n",
      "|          9|       1|     3|Johnson, Mrs. Osc...|female|  27|    0|    2|          347742|11.1333| NULL|       S|\n",
      "|         10|       1|     2|Nasser, Mrs. Nich...|female|  14|    1|    0|          237736|30.0708| NULL|       C|\n",
      "|         11|       1|     3|Sandstrom, Miss. ...|female|   4|    1|    1|         PP 9549|   16.7|   G6|       S|\n",
      "|         12|       1|     1|Bonnell, Miss. El...|female|  58|    0|    0|          113783|  26.55| C103|       S|\n",
      "|         13|       0|     3|Saundercock, Mr. ...|  male|  20|    0|    0|       A/5. 2151|   8.05| NULL|       S|\n",
      "|         14|       0|     3|Andersson, Mr. An...|  male|  39|    1|    5|          347082| 31.275| NULL|       S|\n",
      "|         15|       0|     3|Vestrom, Miss. Hu...|female|  14|    0|    0|          350406| 7.8542| NULL|       S|\n",
      "|         16|       1|     2|Hewlett, Mrs. (Ma...|female|  55|    0|    0|          248706|     16| NULL|       S|\n",
      "|         17|       0|     3|Rice, Master. Eugene|  male|   2|    4|    1|          382652| 29.125| NULL|       Q|\n",
      "|         18|       1|     2|Williams, Mr. Cha...|  male|NULL|    0|    0|          244373|     13| NULL|       S|\n",
      "|         19|       0|     3|Vander Planke, Mr...|female|  31|    1|    0|          345763|     18| NULL|       S|\n",
      "|         20|       1|     3|Masselmani, Mrs. ...|female|NULL|    0|    0|            2649|  7.225| NULL|       C|\n",
      "+-----------+--------+------+--------------------+------+----+-----+-----+----------------+-------+-----+--------+\n",
      "only showing top 20 rows\n",
      "\n"
     ]
    }
   ],
   "source": [
    "df1.show()"
   ]
  },
  {
   "cell_type": "code",
   "execution_count": 12,
   "id": "42c6b654",
   "metadata": {},
   "outputs": [
    {
     "data": {
      "text/plain": [
       "[('PassengerId', 'string'),\n",
       " ('Survived', 'string'),\n",
       " ('Pclass', 'string'),\n",
       " ('Name', 'string'),\n",
       " ('Sex', 'string'),\n",
       " ('Age', 'string'),\n",
       " ('SibSp', 'string'),\n",
       " ('Parch', 'string'),\n",
       " ('Ticket', 'string'),\n",
       " ('Fare', 'string'),\n",
       " ('Cabin', 'string'),\n",
       " ('Embarked', 'string')]"
      ]
     },
     "execution_count": 12,
     "metadata": {},
     "output_type": "execute_result"
    }
   ],
   "source": [
    "df1.dtypes"
   ]
  },
  {
   "cell_type": "code",
   "execution_count": 13,
   "id": "bace35fb",
   "metadata": {},
   "outputs": [
    {
     "name": "stdout",
     "output_type": "stream",
     "text": [
      "root\n",
      " |-- PassengerId: string (nullable = true)\n",
      " |-- Survived: string (nullable = true)\n",
      " |-- Pclass: string (nullable = true)\n",
      " |-- Name: string (nullable = true)\n",
      " |-- Sex: string (nullable = true)\n",
      " |-- Age: string (nullable = true)\n",
      " |-- SibSp: string (nullable = true)\n",
      " |-- Parch: string (nullable = true)\n",
      " |-- Ticket: string (nullable = true)\n",
      " |-- Fare: string (nullable = true)\n",
      " |-- Cabin: string (nullable = true)\n",
      " |-- Embarked: string (nullable = true)\n",
      "\n"
     ]
    }
   ],
   "source": [
    "df1.printSchema()"
   ]
  },
  {
   "cell_type": "code",
   "execution_count": 14,
   "id": "949c9e22",
   "metadata": {},
   "outputs": [
    {
     "data": {
      "text/plain": [
       "pyspark.sql.dataframe.DataFrame"
      ]
     },
     "execution_count": 14,
     "metadata": {},
     "output_type": "execute_result"
    }
   ],
   "source": [
    "type(df1)"
   ]
  },
  {
   "cell_type": "code",
   "execution_count": 15,
   "id": "44a04e82",
   "metadata": {},
   "outputs": [
    {
     "data": {
      "text/plain": [
       "['PassengerId',\n",
       " 'Survived',\n",
       " 'Pclass',\n",
       " 'Name',\n",
       " 'Sex',\n",
       " 'Age',\n",
       " 'SibSp',\n",
       " 'Parch',\n",
       " 'Ticket',\n",
       " 'Fare',\n",
       " 'Cabin',\n",
       " 'Embarked']"
      ]
     },
     "execution_count": 15,
     "metadata": {},
     "output_type": "execute_result"
    }
   ],
   "source": [
    "df1.columns"
   ]
  },
  {
   "cell_type": "code",
   "execution_count": 16,
   "id": "c7280e35",
   "metadata": {},
   "outputs": [
    {
     "name": "stdout",
     "output_type": "stream",
     "text": [
      "+--------------------+\n",
      "|                Name|\n",
      "+--------------------+\n",
      "|Braund, Mr. Owen ...|\n",
      "|Cumings, Mrs. Joh...|\n",
      "|Heikkinen, Miss. ...|\n",
      "|Futrelle, Mrs. Ja...|\n",
      "|Allen, Mr. Willia...|\n",
      "|    Moran, Mr. James|\n",
      "|McCarthy, Mr. Tim...|\n",
      "|Palsson, Master. ...|\n",
      "|Johnson, Mrs. Osc...|\n",
      "|Nasser, Mrs. Nich...|\n",
      "|Sandstrom, Miss. ...|\n",
      "|Bonnell, Miss. El...|\n",
      "|Saundercock, Mr. ...|\n",
      "|Andersson, Mr. An...|\n",
      "|Vestrom, Miss. Hu...|\n",
      "|Hewlett, Mrs. (Ma...|\n",
      "|Rice, Master. Eugene|\n",
      "|Williams, Mr. Cha...|\n",
      "|Vander Planke, Mr...|\n",
      "|Masselmani, Mrs. ...|\n",
      "+--------------------+\n",
      "only showing top 20 rows\n",
      "\n"
     ]
    }
   ],
   "source": [
    "df.select('Name').show()"
   ]
  },
  {
   "cell_type": "code",
   "execution_count": 17,
   "id": "2a3a6862",
   "metadata": {},
   "outputs": [
    {
     "name": "stdout",
     "output_type": "stream",
     "text": [
      "+--------------------+----+\n",
      "|                Name| Age|\n",
      "+--------------------+----+\n",
      "|Braund, Mr. Owen ...|22.0|\n",
      "|Cumings, Mrs. Joh...|38.0|\n",
      "|Heikkinen, Miss. ...|26.0|\n",
      "|Futrelle, Mrs. Ja...|35.0|\n",
      "|Allen, Mr. Willia...|35.0|\n",
      "|    Moran, Mr. James|NULL|\n",
      "|McCarthy, Mr. Tim...|54.0|\n",
      "|Palsson, Master. ...| 2.0|\n",
      "|Johnson, Mrs. Osc...|27.0|\n",
      "|Nasser, Mrs. Nich...|14.0|\n",
      "|Sandstrom, Miss. ...| 4.0|\n",
      "|Bonnell, Miss. El...|58.0|\n",
      "|Saundercock, Mr. ...|20.0|\n",
      "|Andersson, Mr. An...|39.0|\n",
      "|Vestrom, Miss. Hu...|14.0|\n",
      "|Hewlett, Mrs. (Ma...|55.0|\n",
      "|Rice, Master. Eugene| 2.0|\n",
      "|Williams, Mr. Cha...|NULL|\n",
      "|Vander Planke, Mr...|31.0|\n",
      "|Masselmani, Mrs. ...|NULL|\n",
      "+--------------------+----+\n",
      "only showing top 20 rows\n",
      "\n"
     ]
    }
   ],
   "source": [
    "df.select(['Name','Age']).show()"
   ]
  },
  {
   "cell_type": "code",
   "execution_count": 18,
   "id": "7be4886e",
   "metadata": {},
   "outputs": [
    {
     "data": {
      "text/plain": [
       "DataFrame[summary: string, PassengerId: string, Survived: string, Pclass: string, Name: string, Sex: string, Age: string, SibSp: string, Parch: string, Ticket: string, Fare: string, Cabin: string, Embarked: string]"
      ]
     },
     "execution_count": 18,
     "metadata": {},
     "output_type": "execute_result"
    }
   ],
   "source": [
    "df.describe()"
   ]
  },
  {
   "cell_type": "code",
   "execution_count": 19,
   "id": "8ed467e0",
   "metadata": {
    "scrolled": true
   },
   "outputs": [
    {
     "name": "stdout",
     "output_type": "stream",
     "text": [
      "+-------+-----------------+-------------------+------------------+--------------------+------+------------------+------------------+-------------------+------------------+-----------------+-----+--------+\n",
      "|summary|      PassengerId|           Survived|            Pclass|                Name|   Sex|               Age|             SibSp|              Parch|            Ticket|             Fare|Cabin|Embarked|\n",
      "+-------+-----------------+-------------------+------------------+--------------------+------+------------------+------------------+-------------------+------------------+-----------------+-----+--------+\n",
      "|  count|              891|                891|               891|                 891|   891|               714|               891|                891|               891|              891|  204|     889|\n",
      "|   mean|            446.0| 0.3838383838383838| 2.308641975308642|                NULL|  NULL| 29.69911764705882|0.5230078563411896|0.38159371492704824|260318.54916792738| 32.2042079685746| NULL|    NULL|\n",
      "| stddev|257.3538420152301|0.48659245426485753|0.8360712409770491|                NULL|  NULL|14.526497332334035|1.1027434322934315| 0.8060572211299488|471609.26868834975|49.69342859718089| NULL|    NULL|\n",
      "|    min|                1|                  0|                 1|\"Andersson, Mr. A...|female|              0.42|                 0|                  0|            110152|              0.0|  A10|       C|\n",
      "|    max|              891|                  1|                 3|van Melkebeke, Mr...|  male|              80.0|                 8|                  6|         WE/P 5735|         512.3292|    T|       S|\n",
      "+-------+-----------------+-------------------+------------------+--------------------+------+------------------+------------------+-------------------+------------------+-----------------+-----+--------+\n",
      "\n"
     ]
    }
   ],
   "source": [
    "df.describe().show()"
   ]
  },
  {
   "cell_type": "code",
   "execution_count": 20,
   "id": "8dcaf392",
   "metadata": {},
   "outputs": [
    {
     "data": {
      "text/plain": [
       "[('Survived', 'int'),\n",
       " ('Pclass', 'int'),\n",
       " ('Name', 'string'),\n",
       " ('Sex', 'string'),\n",
       " ('Age', 'double'),\n",
       " ('SibSp', 'int'),\n",
       " ('Parch', 'int'),\n",
       " ('Ticket', 'string'),\n",
       " ('Fare', 'double'),\n",
       " ('Cabin', 'string'),\n",
       " ('Embarked', 'string')]"
      ]
     },
     "execution_count": 20,
     "metadata": {},
     "output_type": "execute_result"
    }
   ],
   "source": [
    "df.drop('PassengerId').dtypes"
   ]
  },
  {
   "cell_type": "code",
   "execution_count": 21,
   "id": "42f1dc36",
   "metadata": {},
   "outputs": [],
   "source": [
    "df = df.select(['Age','Pclass','Ticket','Survived'])"
   ]
  },
  {
   "cell_type": "code",
   "execution_count": 22,
   "id": "e3efff1b",
   "metadata": {},
   "outputs": [
    {
     "name": "stdout",
     "output_type": "stream",
     "text": [
      "+----+------+----------------+--------+\n",
      "| Age|Pclass|          Ticket|Survived|\n",
      "+----+------+----------------+--------+\n",
      "|22.0|     3|       A/5 21171|       0|\n",
      "|38.0|     1|        PC 17599|       1|\n",
      "|26.0|     3|STON/O2. 3101282|       1|\n",
      "|35.0|     1|          113803|       1|\n",
      "|35.0|     3|          373450|       0|\n",
      "|NULL|     3|          330877|       0|\n",
      "|54.0|     1|           17463|       0|\n",
      "| 2.0|     3|          349909|       0|\n",
      "|27.0|     3|          347742|       1|\n",
      "|14.0|     2|          237736|       1|\n",
      "| 4.0|     3|         PP 9549|       1|\n",
      "|58.0|     1|          113783|       1|\n",
      "|20.0|     3|       A/5. 2151|       0|\n",
      "|39.0|     3|          347082|       0|\n",
      "|14.0|     3|          350406|       0|\n",
      "|55.0|     2|          248706|       1|\n",
      "| 2.0|     3|          382652|       0|\n",
      "|NULL|     2|          244373|       1|\n",
      "|31.0|     3|          345763|       0|\n",
      "|NULL|     3|            2649|       1|\n",
      "+----+------+----------------+--------+\n",
      "only showing top 20 rows\n",
      "\n"
     ]
    }
   ],
   "source": [
    "df.show()"
   ]
  },
  {
   "cell_type": "code",
   "execution_count": 23,
   "id": "8a5107df",
   "metadata": {},
   "outputs": [],
   "source": [
    "df = df.withColumn('Age after 2 years', df['Age'] + 2)"
   ]
  },
  {
   "cell_type": "code",
   "execution_count": 24,
   "id": "6fb955b1",
   "metadata": {},
   "outputs": [
    {
     "name": "stdout",
     "output_type": "stream",
     "text": [
      "+----+------+----------------+--------+-----------------+\n",
      "| Age|Pclass|          Ticket|Survived|Age after 2 years|\n",
      "+----+------+----------------+--------+-----------------+\n",
      "|22.0|     3|       A/5 21171|       0|             24.0|\n",
      "|38.0|     1|        PC 17599|       1|             40.0|\n",
      "|26.0|     3|STON/O2. 3101282|       1|             28.0|\n",
      "|35.0|     1|          113803|       1|             37.0|\n",
      "|35.0|     3|          373450|       0|             37.0|\n",
      "|NULL|     3|          330877|       0|             NULL|\n",
      "|54.0|     1|           17463|       0|             56.0|\n",
      "| 2.0|     3|          349909|       0|              4.0|\n",
      "|27.0|     3|          347742|       1|             29.0|\n",
      "|14.0|     2|          237736|       1|             16.0|\n",
      "| 4.0|     3|         PP 9549|       1|              6.0|\n",
      "|58.0|     1|          113783|       1|             60.0|\n",
      "|20.0|     3|       A/5. 2151|       0|             22.0|\n",
      "|39.0|     3|          347082|       0|             41.0|\n",
      "|14.0|     3|          350406|       0|             16.0|\n",
      "|55.0|     2|          248706|       1|             57.0|\n",
      "| 2.0|     3|          382652|       0|              4.0|\n",
      "|NULL|     2|          244373|       1|             NULL|\n",
      "|31.0|     3|          345763|       0|             33.0|\n",
      "|NULL|     3|            2649|       1|             NULL|\n",
      "+----+------+----------------+--------+-----------------+\n",
      "only showing top 20 rows\n",
      "\n"
     ]
    }
   ],
   "source": [
    "df.show()"
   ]
  },
  {
   "cell_type": "code",
   "execution_count": 25,
   "id": "43e1b3c8",
   "metadata": {},
   "outputs": [],
   "source": [
    "df = df.drop('Age')"
   ]
  },
  {
   "cell_type": "code",
   "execution_count": 26,
   "id": "e96ce757",
   "metadata": {},
   "outputs": [
    {
     "name": "stdout",
     "output_type": "stream",
     "text": [
      "+------+----------------+--------+-----------------+\n",
      "|Pclass|          Ticket|Survived|Age after 2 years|\n",
      "+------+----------------+--------+-----------------+\n",
      "|     3|       A/5 21171|       0|             24.0|\n",
      "|     1|        PC 17599|       1|             40.0|\n",
      "|     3|STON/O2. 3101282|       1|             28.0|\n",
      "|     1|          113803|       1|             37.0|\n",
      "|     3|          373450|       0|             37.0|\n",
      "|     3|          330877|       0|             NULL|\n",
      "|     1|           17463|       0|             56.0|\n",
      "|     3|          349909|       0|              4.0|\n",
      "|     3|          347742|       1|             29.0|\n",
      "|     2|          237736|       1|             16.0|\n",
      "|     3|         PP 9549|       1|              6.0|\n",
      "|     1|          113783|       1|             60.0|\n",
      "|     3|       A/5. 2151|       0|             22.0|\n",
      "|     3|          347082|       0|             41.0|\n",
      "|     3|          350406|       0|             16.0|\n",
      "|     2|          248706|       1|             57.0|\n",
      "|     3|          382652|       0|              4.0|\n",
      "|     2|          244373|       1|             NULL|\n",
      "|     3|          345763|       0|             33.0|\n",
      "|     3|            2649|       1|             NULL|\n",
      "+------+----------------+--------+-----------------+\n",
      "only showing top 20 rows\n",
      "\n"
     ]
    }
   ],
   "source": [
    "df.show()"
   ]
  },
  {
   "cell_type": "code",
   "execution_count": 27,
   "id": "58a67a3c",
   "metadata": {},
   "outputs": [],
   "source": [
    "df = df.withColumnRenamed('Age after 2 years','Age')"
   ]
  },
  {
   "cell_type": "code",
   "execution_count": 28,
   "id": "f908abdc",
   "metadata": {},
   "outputs": [
    {
     "name": "stdout",
     "output_type": "stream",
     "text": [
      "+------+----------------+--------+----+\n",
      "|Pclass|          Ticket|Survived| Age|\n",
      "+------+----------------+--------+----+\n",
      "|     3|       A/5 21171|       0|24.0|\n",
      "|     1|        PC 17599|       1|40.0|\n",
      "|     3|STON/O2. 3101282|       1|28.0|\n",
      "|     1|          113803|       1|37.0|\n",
      "|     3|          373450|       0|37.0|\n",
      "+------+----------------+--------+----+\n",
      "only showing top 5 rows\n",
      "\n"
     ]
    }
   ],
   "source": [
    "df.show(5)"
   ]
  },
  {
   "cell_type": "code",
   "execution_count": 29,
   "id": "d4fb6f91",
   "metadata": {},
   "outputs": [
    {
     "name": "stdout",
     "output_type": "stream",
     "text": [
      "+------+----------------+--------+----+\n",
      "|Pclass|          Ticket|Survived| Age|\n",
      "+------+----------------+--------+----+\n",
      "|     3|       A/5 21171|       0|24.0|\n",
      "|     1|        PC 17599|       1|40.0|\n",
      "|     3|STON/O2. 3101282|       1|28.0|\n",
      "|     1|          113803|       1|37.0|\n",
      "|     3|          373450|       0|37.0|\n",
      "|     1|           17463|       0|56.0|\n",
      "|     3|          349909|       0| 4.0|\n",
      "|     3|          347742|       1|29.0|\n",
      "|     2|          237736|       1|16.0|\n",
      "|     3|         PP 9549|       1| 6.0|\n",
      "|     1|          113783|       1|60.0|\n",
      "|     3|       A/5. 2151|       0|22.0|\n",
      "|     3|          347082|       0|41.0|\n",
      "|     3|          350406|       0|16.0|\n",
      "|     2|          248706|       1|57.0|\n",
      "|     3|          382652|       0| 4.0|\n",
      "|     3|          345763|       0|33.0|\n",
      "|     2|          239865|       0|37.0|\n",
      "|     2|          248698|       1|36.0|\n",
      "|     3|          330923|       1|17.0|\n",
      "+------+----------------+--------+----+\n",
      "only showing top 20 rows\n",
      "\n"
     ]
    }
   ],
   "source": [
    "df.na.drop().show()"
   ]
  },
  {
   "cell_type": "code",
   "execution_count": 30,
   "id": "b63b7ee0",
   "metadata": {},
   "outputs": [
    {
     "name": "stdout",
     "output_type": "stream",
     "text": [
      "+------+----------------+--------+----+\n",
      "|Pclass|          Ticket|Survived| Age|\n",
      "+------+----------------+--------+----+\n",
      "|     3|       A/5 21171|       0|24.0|\n",
      "|     1|        PC 17599|       1|40.0|\n",
      "|     3|STON/O2. 3101282|       1|28.0|\n",
      "|     1|          113803|       1|37.0|\n",
      "|     3|          373450|       0|37.0|\n",
      "|     3|          330877|       0|NULL|\n",
      "|     1|           17463|       0|56.0|\n",
      "|     3|          349909|       0| 4.0|\n",
      "|     3|          347742|       1|29.0|\n",
      "|     2|          237736|       1|16.0|\n",
      "|     3|         PP 9549|       1| 6.0|\n",
      "|     1|          113783|       1|60.0|\n",
      "|     3|       A/5. 2151|       0|22.0|\n",
      "|     3|          347082|       0|41.0|\n",
      "|     3|          350406|       0|16.0|\n",
      "|     2|          248706|       1|57.0|\n",
      "|     3|          382652|       0| 4.0|\n",
      "|     2|          244373|       1|NULL|\n",
      "|     3|          345763|       0|33.0|\n",
      "|     3|            2649|       1|NULL|\n",
      "+------+----------------+--------+----+\n",
      "only showing top 20 rows\n",
      "\n"
     ]
    }
   ],
   "source": [
    "df.show()"
   ]
  },
  {
   "cell_type": "code",
   "execution_count": 31,
   "id": "c801ec77",
   "metadata": {},
   "outputs": [
    {
     "name": "stdout",
     "output_type": "stream",
     "text": [
      "+------+----------------+--------+----+\n",
      "|Pclass|          Ticket|Survived| Age|\n",
      "+------+----------------+--------+----+\n",
      "|     3|       A/5 21171|       0|24.0|\n",
      "|     1|        PC 17599|       1|40.0|\n",
      "|     3|STON/O2. 3101282|       1|28.0|\n",
      "|     1|          113803|       1|37.0|\n",
      "|     3|          373450|       0|37.0|\n",
      "|     3|          330877|       0|NULL|\n",
      "|     1|           17463|       0|56.0|\n",
      "|     3|          349909|       0| 4.0|\n",
      "|     3|          347742|       1|29.0|\n",
      "|     2|          237736|       1|16.0|\n",
      "|     3|         PP 9549|       1| 6.0|\n",
      "|     1|          113783|       1|60.0|\n",
      "|     3|       A/5. 2151|       0|22.0|\n",
      "|     3|          347082|       0|41.0|\n",
      "|     3|          350406|       0|16.0|\n",
      "|     2|          248706|       1|57.0|\n",
      "|     3|          382652|       0| 4.0|\n",
      "|     2|          244373|       1|NULL|\n",
      "|     3|          345763|       0|33.0|\n",
      "|     3|            2649|       1|NULL|\n",
      "+------+----------------+--------+----+\n",
      "only showing top 20 rows\n",
      "\n"
     ]
    }
   ],
   "source": [
    "df.na.drop(how='any',thresh = 1, subset=['Pclass','Ticket','Survived','Age']).show()"
   ]
  },
  {
   "cell_type": "code",
   "execution_count": 32,
   "id": "5f17e5f0",
   "metadata": {},
   "outputs": [
    {
     "name": "stdout",
     "output_type": "stream",
     "text": [
      "+------+------+--------+---+\n",
      "|Pclass|Ticket|Survived|Age|\n",
      "+------+------+--------+---+\n",
      "+------+------+--------+---+\n",
      "\n"
     ]
    }
   ],
   "source": [
    "#check nulls in Pclass\n",
    "df.filter(df['Pclass'].isNull()).show()"
   ]
  },
  {
   "cell_type": "code",
   "execution_count": 33,
   "id": "f78be38f",
   "metadata": {},
   "outputs": [
    {
     "name": "stdout",
     "output_type": "stream",
     "text": [
      "+------+------+--------+---+\n",
      "|Pclass|Ticket|Survived|Age|\n",
      "+------+------+--------+---+\n",
      "+------+------+--------+---+\n",
      "\n",
      "+------+------+--------+---+\n",
      "|Pclass|Ticket|Survived|Age|\n",
      "+------+------+--------+---+\n",
      "+------+------+--------+---+\n",
      "\n",
      "+------+---------------+--------+----+\n",
      "|Pclass|         Ticket|Survived| Age|\n",
      "+------+---------------+--------+----+\n",
      "|     3|         330877|       0|NULL|\n",
      "|     2|         244373|       1|NULL|\n",
      "|     3|           2649|       1|NULL|\n",
      "|     3|           2631|       0|NULL|\n",
      "|     3|         330959|       1|NULL|\n",
      "|     3|         349216|       0|NULL|\n",
      "|     1|       PC 17569|       1|NULL|\n",
      "|     3|         335677|       1|NULL|\n",
      "|     3|           2677|       1|NULL|\n",
      "|     3|         349253|       0|NULL|\n",
      "|     3|S.C./A.4. 23567|       0|NULL|\n",
      "|     3|         370371|       0|NULL|\n",
      "|     3|          14311|       1|NULL|\n",
      "|     3|           2662|       0|NULL|\n",
      "|     1|          19947|       1|NULL|\n",
      "|     1|       PC 17605|       0|NULL|\n",
      "|     3|           2661|       1|NULL|\n",
      "|     3|         349208|       0|NULL|\n",
      "|     3|         374746|       0|NULL|\n",
      "|     3|         330932|       1|NULL|\n",
      "+------+---------------+--------+----+\n",
      "only showing top 20 rows\n",
      "\n"
     ]
    }
   ],
   "source": [
    "df.filter(df['Ticket'].isNull()).show()\n",
    "df.filter(df['Survived'].isNull()).show()\n",
    "df.filter(df['Age'].isNull()).show()"
   ]
  },
  {
   "cell_type": "code",
   "execution_count": 34,
   "id": "7c360631",
   "metadata": {},
   "outputs": [
    {
     "name": "stdout",
     "output_type": "stream",
     "text": [
      "+------+----------------+--------+----+\n",
      "|Pclass|          Ticket|Survived| Age|\n",
      "+------+----------------+--------+----+\n",
      "|     1|        PC 17599|       1|40.0|\n",
      "|     3|STON/O2. 3101282|       1|28.0|\n",
      "|     1|          113803|       1|37.0|\n",
      "|     3|          347742|       1|29.0|\n",
      "|     1|          113783|       1|60.0|\n",
      "|     2|          248706|       1|57.0|\n",
      "|     2|          248698|       1|36.0|\n",
      "|     1|          113788|       1|30.0|\n",
      "|     3|          347077|       1|40.0|\n",
      "|     1|        PC 17572|       1|51.0|\n",
      "|     2|            2926|       1|31.0|\n",
      "|     1|          113572|       1|40.0|\n",
      "|     2|      C.A. 29395|       1|31.0|\n",
      "|     3|            1601|       1|34.0|\n",
      "|     3|          364516|       1|32.0|\n",
      "|     3|          345779|       1|31.0|\n",
      "|     3|         3101278|       1|35.0|\n",
      "|     2|          231919|       1|36.0|\n",
      "|     2|           27267|       1|34.5|\n",
      "|     3|         C 17369|       1|26.0|\n",
      "+------+----------------+--------+----+\n",
      "only showing top 20 rows\n",
      "\n"
     ]
    }
   ],
   "source": [
    "df.filter((df['Age']> 25) & (df['Survived'] == 1)).show()"
   ]
  },
  {
   "cell_type": "code",
   "execution_count": 35,
   "id": "dbb9c721",
   "metadata": {},
   "outputs": [
    {
     "name": "stdout",
     "output_type": "stream",
     "text": [
      "+------+-------------+--------+----+\n",
      "|Pclass|       Ticket|Survived| Age|\n",
      "+------+-------------+--------+----+\n",
      "|     2|       237736|       1|16.0|\n",
      "|     3|      PP 9549|       1| 6.0|\n",
      "|     3|       330923|       1|17.0|\n",
      "|     3|         2651|       1|16.0|\n",
      "|     2|SC/Paris 2123|       1| 5.0|\n",
      "|     3|       330958|       1|21.0|\n",
      "|     2|   C.A. 31026|       1|23.0|\n",
      "|     2|   C.A. 34651|       1| 7.0|\n",
      "|     3|      3101281|       1|19.0|\n",
      "|     2|       248738|       1|2.83|\n",
      "|     2|   SO/C 14885|       1|19.0|\n",
      "|     1|        19950|       1|25.0|\n",
      "|     1|     PC 17759|       1|25.0|\n",
      "|     3|       343120|       1|23.0|\n",
      "|     3|         2651|       1|14.0|\n",
      "|     1|        11752|       1|21.0|\n",
      "|     3|       347081|       1|24.0|\n",
      "|     1|       113776|       1|24.0|\n",
      "|     3|        35851|       1|18.0|\n",
      "|     3|       363291|       1|11.0|\n",
      "+------+-------------+--------+----+\n",
      "only showing top 20 rows\n",
      "\n"
     ]
    }
   ],
   "source": [
    "df.filter(~(df['Age']> 25) & (df['Survived'] == 1)).show()"
   ]
  },
  {
   "cell_type": "code",
   "execution_count": 36,
   "id": "4f267f13",
   "metadata": {},
   "outputs": [
    {
     "name": "stdout",
     "output_type": "stream",
     "text": [
      "+----+-----+\n",
      "| Age|count|\n",
      "+----+-----+\n",
      "|24.0|   27|\n",
      "+----+-----+\n",
      "\n"
     ]
    }
   ],
   "source": [
    "df.groupBy('Age').count().filter(df['Age']==24).show()"
   ]
  },
  {
   "cell_type": "code",
   "execution_count": 37,
   "id": "f48867b6",
   "metadata": {},
   "outputs": [
    {
     "name": "stdout",
     "output_type": "stream",
     "text": [
      "+----+-----+\n",
      "| Age|count|\n",
      "+----+-----+\n",
      "|24.0|   27|\n",
      "+----+-----+\n",
      "\n"
     ]
    }
   ],
   "source": [
    "df.filter(df['Age']==24).groupBy('Age').count().show()"
   ]
  },
  {
   "cell_type": "code",
   "execution_count": 38,
   "id": "4115f16f",
   "metadata": {},
   "outputs": [
    {
     "name": "stdout",
     "output_type": "stream",
     "text": [
      "+----+--------+-----+\n",
      "| Age|Survived|count|\n",
      "+----+--------+-----+\n",
      "|34.0|       0|    9|\n",
      "|48.0|       0|    3|\n",
      "|82.0|       1|    1|\n",
      "|51.0|       1|    4|\n",
      "|72.5|       0|    1|\n",
      "|40.0|       1|    5|\n",
      "|61.0|       0|    2|\n",
      "|2.75|       1|    2|\n",
      "|19.0|       1|    6|\n",
      "|33.0|       1|    8|\n",
      "|43.0|       0|    4|\n",
      "|17.0|       1|    4|\n",
      "|22.5|       0|    1|\n",
      "|57.0|       0|    1|\n",
      "|49.0|       0|    8|\n",
      "|44.0|       1|    6|\n",
      "|50.0|       0|    3|\n",
      "|37.0|       0|    7|\n",
      "|68.0|       0|    1|\n",
      "|65.0|       1|    2|\n",
      "+----+--------+-----+\n",
      "only showing top 20 rows\n",
      "\n"
     ]
    }
   ],
   "source": [
    "df.groupBy(['Age', 'Survived']).count().show()"
   ]
  },
  {
   "cell_type": "code",
   "execution_count": 39,
   "id": "54766ad8",
   "metadata": {},
   "outputs": [
    {
     "name": "stdout",
     "output_type": "stream",
     "text": [
      "+------+-----------------+--------+----+\n",
      "|Pclass|           Ticket|Survived| Age|\n",
      "+------+-----------------+--------+----+\n",
      "|     3|        A/5 21171|       0|24.0|\n",
      "|     3|             2669|       0|24.0|\n",
      "|     3|           345767|       0|24.0|\n",
      "|     3|           324669|       0|24.0|\n",
      "|     3|           347081|       1|24.0|\n",
      "|     1|           113776|       1|24.0|\n",
      "|     3|        A/5 21174|       0|24.0|\n",
      "|     3|          PP 4348|       0|24.0|\n",
      "|     3|STON/O 2. 3101275|       0|24.0|\n",
      "|     3|           349206|       0|24.0|\n",
      "|     3|           370373|       1|24.0|\n",
      "|     3|        A/5 21172|       0|24.0|\n",
      "|     2|           248738|       1|24.0|\n",
      "|     1|           113505|       1|24.0|\n",
      "|     1|         PC 17760|       0|24.0|\n",
      "|     3|           C 7077|       1|24.0|\n",
      "|     3|           350052|       0|24.0|\n",
      "|     3|             7553|       0|24.0|\n",
      "|     3|           350060|       0|24.0|\n",
      "|     3|           349252|       0|24.0|\n",
      "+------+-----------------+--------+----+\n",
      "only showing top 20 rows\n",
      "\n"
     ]
    }
   ],
   "source": [
    "df.filter(df['Age'] == 24).show()"
   ]
  },
  {
   "cell_type": "code",
   "execution_count": 40,
   "id": "9aa442bb",
   "metadata": {},
   "outputs": [
    {
     "name": "stdout",
     "output_type": "stream",
     "text": [
      "+-----------------+\n",
      "|         avg(Age)|\n",
      "+-----------------+\n",
      "|31.69911764705882|\n",
      "+-----------------+\n",
      "\n"
     ]
    }
   ],
   "source": [
    "df.agg({'Age': 'mean'}).show()"
   ]
  },
  {
   "cell_type": "code",
   "execution_count": 41,
   "id": "725b4d0c",
   "metadata": {},
   "outputs": [
    {
     "name": "stdout",
     "output_type": "stream",
     "text": [
      "+----+---------------+\n",
      "| Age|count(Survived)|\n",
      "+----+---------------+\n",
      "|47.5|              2|\n",
      "|67.0|              3|\n",
      "| 8.0|              3|\n",
      "| 7.0|              4|\n",
      "|38.5|              1|\n",
      "|49.0|              9|\n",
      "|29.0|             18|\n",
      "|64.0|              4|\n",
      "|47.0|             12|\n",
      "|42.0|             13|\n",
      "|44.0|             13|\n",
      "|NULL|            177|\n",
      "|35.0|             15|\n",
      "|62.0|              4|\n",
      "|18.0|             17|\n",
      "|16.5|              1|\n",
      "|34.5|              2|\n",
      "|39.0|              6|\n",
      "|72.5|              1|\n",
      "|37.0|             18|\n",
      "+----+---------------+\n",
      "only showing top 20 rows\n",
      "\n"
     ]
    }
   ],
   "source": [
    "df.groupBy('Age').agg({'Survived': 'count'}).show()"
   ]
  },
  {
   "cell_type": "code",
   "execution_count": 42,
   "id": "123004c3",
   "metadata": {},
   "outputs": [
    {
     "name": "stdout",
     "output_type": "stream",
     "text": [
      "+-----------+\n",
      "|median(Age)|\n",
      "+-----------+\n",
      "|       30.0|\n",
      "+-----------+\n",
      "\n"
     ]
    }
   ],
   "source": [
    "df.agg({'Age':'median'}).show()"
   ]
  },
  {
   "cell_type": "code",
   "execution_count": 43,
   "id": "a2cddce4",
   "metadata": {},
   "outputs": [
    {
     "name": "stdout",
     "output_type": "stream",
     "text": [
      "+---------+\n",
      "|mode(Age)|\n",
      "+---------+\n",
      "|     26.0|\n",
      "+---------+\n",
      "\n"
     ]
    }
   ],
   "source": [
    "df.agg({'Age':'mode'}).show()"
   ]
  },
  {
   "cell_type": "code",
   "execution_count": 44,
   "id": "edece927",
   "metadata": {},
   "outputs": [],
   "source": [
    "df = df.na.fill(df.agg({'Age': 'mode'}).collect()[0][0],'Age')"
   ]
  },
  {
   "cell_type": "code",
   "execution_count": 45,
   "id": "2819718d",
   "metadata": {},
   "outputs": [
    {
     "name": "stdout",
     "output_type": "stream",
     "text": [
      "+---+-----+\n",
      "|Age|count|\n",
      "+---+-----+\n",
      "+---+-----+\n",
      "\n"
     ]
    }
   ],
   "source": [
    "df.filter(df['Age'].isNull()).groupBy('Age').count().show()"
   ]
  },
  {
   "cell_type": "code",
   "execution_count": 46,
   "id": "8b0671fb",
   "metadata": {},
   "outputs": [],
   "source": [
    "from pyspark.ml.feature import VectorAssembler"
   ]
  },
  {
   "cell_type": "code",
   "execution_count": 47,
   "id": "f0dffe34",
   "metadata": {},
   "outputs": [],
   "source": [
    "featureassembler = VectorAssembler(inputCols = ['Age', 'Pclass'], outputCol=\"Independent Feature\")"
   ]
  },
  {
   "cell_type": "code",
   "execution_count": 48,
   "id": "b44d7878",
   "metadata": {},
   "outputs": [
    {
     "name": "stdout",
     "output_type": "stream",
     "text": [
      "+------+----------------+--------+----+\n",
      "|Pclass|          Ticket|Survived| Age|\n",
      "+------+----------------+--------+----+\n",
      "|     3|       A/5 21171|       0|24.0|\n",
      "|     1|        PC 17599|       1|40.0|\n",
      "|     3|STON/O2. 3101282|       1|28.0|\n",
      "+------+----------------+--------+----+\n",
      "only showing top 3 rows\n",
      "\n"
     ]
    }
   ],
   "source": [
    "df.show(3)"
   ]
  },
  {
   "cell_type": "code",
   "execution_count": 49,
   "id": "c27f9a05",
   "metadata": {},
   "outputs": [],
   "source": [
    "output = featureassembler.transform(df)"
   ]
  },
  {
   "cell_type": "code",
   "execution_count": 50,
   "id": "460c0621",
   "metadata": {},
   "outputs": [
    {
     "name": "stdout",
     "output_type": "stream",
     "text": [
      "+------+----------------+--------+----+-------------------+\n",
      "|Pclass|          Ticket|Survived| Age|Independent Feature|\n",
      "+------+----------------+--------+----+-------------------+\n",
      "|     3|       A/5 21171|       0|24.0|         [24.0,3.0]|\n",
      "|     1|        PC 17599|       1|40.0|         [40.0,1.0]|\n",
      "|     3|STON/O2. 3101282|       1|28.0|         [28.0,3.0]|\n",
      "|     1|          113803|       1|37.0|         [37.0,1.0]|\n",
      "|     3|          373450|       0|37.0|         [37.0,3.0]|\n",
      "|     3|          330877|       0|26.0|         [26.0,3.0]|\n",
      "|     1|           17463|       0|56.0|         [56.0,1.0]|\n",
      "|     3|          349909|       0| 4.0|          [4.0,3.0]|\n",
      "|     3|          347742|       1|29.0|         [29.0,3.0]|\n",
      "|     2|          237736|       1|16.0|         [16.0,2.0]|\n",
      "|     3|         PP 9549|       1| 6.0|          [6.0,3.0]|\n",
      "|     1|          113783|       1|60.0|         [60.0,1.0]|\n",
      "|     3|       A/5. 2151|       0|22.0|         [22.0,3.0]|\n",
      "|     3|          347082|       0|41.0|         [41.0,3.0]|\n",
      "|     3|          350406|       0|16.0|         [16.0,3.0]|\n",
      "|     2|          248706|       1|57.0|         [57.0,2.0]|\n",
      "|     3|          382652|       0| 4.0|          [4.0,3.0]|\n",
      "|     2|          244373|       1|26.0|         [26.0,2.0]|\n",
      "|     3|          345763|       0|33.0|         [33.0,3.0]|\n",
      "|     3|            2649|       1|26.0|         [26.0,3.0]|\n",
      "+------+----------------+--------+----+-------------------+\n",
      "only showing top 20 rows\n",
      "\n"
     ]
    }
   ],
   "source": [
    "output.show()"
   ]
  },
  {
   "cell_type": "code",
   "execution_count": 51,
   "id": "9deca7b6",
   "metadata": {},
   "outputs": [],
   "source": [
    "final_df = output.select(['Independent Feature','Survived'])"
   ]
  },
  {
   "cell_type": "code",
   "execution_count": 53,
   "id": "ebd9b9a3",
   "metadata": {},
   "outputs": [
    {
     "name": "stdout",
     "output_type": "stream",
     "text": [
      "+-------------------+--------+\n",
      "|Independent Feature|Survived|\n",
      "+-------------------+--------+\n",
      "|         [24.0,3.0]|       0|\n",
      "|         [40.0,1.0]|       1|\n",
      "|         [28.0,3.0]|       1|\n",
      "|         [37.0,1.0]|       1|\n",
      "|         [37.0,3.0]|       0|\n",
      "|         [26.0,3.0]|       0|\n",
      "|         [56.0,1.0]|       0|\n",
      "|          [4.0,3.0]|       0|\n",
      "|         [29.0,3.0]|       1|\n",
      "|         [16.0,2.0]|       1|\n",
      "|          [6.0,3.0]|       1|\n",
      "|         [60.0,1.0]|       1|\n",
      "|         [22.0,3.0]|       0|\n",
      "|         [41.0,3.0]|       0|\n",
      "|         [16.0,3.0]|       0|\n",
      "|         [57.0,2.0]|       1|\n",
      "|          [4.0,3.0]|       0|\n",
      "|         [26.0,2.0]|       1|\n",
      "|         [33.0,3.0]|       0|\n",
      "|         [26.0,3.0]|       1|\n",
      "+-------------------+--------+\n",
      "only showing top 20 rows\n",
      "\n"
     ]
    }
   ],
   "source": [
    "final_df.show()"
   ]
  },
  {
   "cell_type": "code",
   "execution_count": 55,
   "id": "d62730be",
   "metadata": {},
   "outputs": [],
   "source": [
    "from pyspark.ml.regression import LinearRegression\n",
    "\n",
    "train_data,test_data = final_df.randomSplit([0.75,0.25])"
   ]
  },
  {
   "cell_type": "code",
   "execution_count": 58,
   "id": "a502f0fd",
   "metadata": {},
   "outputs": [],
   "source": [
    "reg = LinearRegression(featuresCol = 'Independent Feature', labelCol = 'Survived' )\n",
    "reg = reg.fit(train_data)"
   ]
  },
  {
   "cell_type": "code",
   "execution_count": 59,
   "id": "bc4a6ac3",
   "metadata": {},
   "outputs": [
    {
     "data": {
      "text/plain": [
       "DenseVector([-0.0074, -0.2353])"
      ]
     },
     "execution_count": 59,
     "metadata": {},
     "output_type": "execute_result"
    }
   ],
   "source": [
    "reg.coefficients"
   ]
  },
  {
   "cell_type": "code",
   "execution_count": 61,
   "id": "bbf07f96",
   "metadata": {},
   "outputs": [
    {
     "data": {
      "text/plain": [
       "1.1405204394088084"
      ]
     },
     "execution_count": 61,
     "metadata": {},
     "output_type": "execute_result"
    }
   ],
   "source": [
    "reg.intercept"
   ]
  },
  {
   "cell_type": "code",
   "execution_count": 62,
   "id": "16a1664c",
   "metadata": {},
   "outputs": [],
   "source": [
    "pred_results = reg.evaluate(test_data)"
   ]
  },
  {
   "cell_type": "code",
   "execution_count": 65,
   "id": "b1d1e475",
   "metadata": {},
   "outputs": [
    {
     "name": "stdout",
     "output_type": "stream",
     "text": [
      "+-------------------+--------+-------------------+\n",
      "|Independent Feature|Survived|         prediction|\n",
      "+-------------------+--------+-------------------+\n",
      "|         [2.67,2.0]|       1| 0.6502636946968475|\n",
      "|         [2.75,3.0]|       1|0.41436294607938895|\n",
      "|          [3.0,3.0]|       1| 0.4125247740199225|\n",
      "|          [4.0,3.0]|       0|0.40517208578205643|\n",
      "|          [4.0,3.0]|       0|0.40517208578205643|\n",
      "|          [4.0,3.0]|       0|0.40517208578205643|\n",
      "|          [5.0,2.0]|       1| 0.6331319311026197|\n",
      "|          [5.0,3.0]|       1| 0.3978193975441904|\n",
      "|          [6.0,3.0]|       1| 0.3904667093063243|\n",
      "|          [8.0,2.0]|       1| 0.6110738663890215|\n",
      "|          [9.0,2.0]|       1| 0.6037211781511556|\n",
      "|         [10.0,3.0]|       0| 0.3610559563548602|\n",
      "|         [11.0,3.0]|       0|0.35370326811699415|\n",
      "|         [11.0,3.0]|       0|0.35370326811699415|\n",
      "|         [11.0,3.0]|       0|0.35370326811699415|\n",
      "|         [15.0,3.0]|       1|0.32429251516553004|\n",
      "|         [16.0,1.0]|       1| 0.7875648940445226|\n",
      "|         [16.0,2.0]|       1| 0.5522523604860933|\n",
      "|         [16.0,3.0]|       0|  0.316939826927664|\n",
      "|         [16.0,3.0]|       0|  0.316939826927664|\n",
      "+-------------------+--------+-------------------+\n",
      "only showing top 20 rows\n",
      "\n"
     ]
    }
   ],
   "source": [
    "pred_results.predictions.show()"
   ]
  },
  {
   "cell_type": "code",
   "execution_count": null,
   "id": "41223ced",
   "metadata": {},
   "outputs": [],
   "source": []
  }
 ],
 "metadata": {
  "kernelspec": {
   "display_name": "Python 3 (ipykernel)",
   "language": "python",
   "name": "python3"
  },
  "language_info": {
   "codemirror_mode": {
    "name": "ipython",
    "version": 3
   },
   "file_extension": ".py",
   "mimetype": "text/x-python",
   "name": "python",
   "nbconvert_exporter": "python",
   "pygments_lexer": "ipython3",
   "version": "3.10.9"
  }
 },
 "nbformat": 4,
 "nbformat_minor": 5
}
