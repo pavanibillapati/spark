{
 "cells": [
  {
   "cell_type": "code",
   "execution_count": 0,
   "metadata": {
    "application/vnd.databricks.v1+cell": {
     "cellMetadata": {
      "byteLimit": 2048000,
      "rowLimit": 10000
     },
     "inputWidgets": {},
     "nuid": "f0bd61cd-273b-4873-aff9-1d908a52ee8c",
     "showTitle": false,
     "title": ""
    }
   },
   "outputs": [
    {
     "output_type": "stream",
     "name": "stdout",
     "output_type": "stream",
     "text": [
      "+---+------+------+------+---------+\n| id|  name|salary|gender|      dep|\n+---+------+------+------+---------+\n|  1|maheer| 20000|     M|       HR|\n|  2|mahesh| 24000|     M|       IT|\n|  3|   asi| 18000|     F|Technical|\n|  2|mahesh| 24000|     M|       HR|\n+---+------+------+------+---------+\n\n"
     ]
    }
   ],
   "source": [
    "data = [(1, 'maheer', 20000, 'M', 'HR'), (2, 'mahesh', 24000, 'M', 'IT'), (3, 'asi', 18000, 'F', 'Technical'), (2, 'mahesh', 24000, 'M', 'HR')]\n",
    "schema = ('id', 'name', 'salary', 'gender', 'dep')\n",
    "\n",
    "df = spark.createDataFrame(data, schema)\n",
    "\n",
    "df.show()"
   ]
  },
  {
   "cell_type": "code",
   "execution_count": 0,
   "metadata": {
    "application/vnd.databricks.v1+cell": {
     "cellMetadata": {
      "byteLimit": 2048000,
      "rowLimit": 10000
     },
     "inputWidgets": {},
     "nuid": "495cbc8e-a22d-4812-9112-38a2b6316eee",
     "showTitle": false,
     "title": ""
    }
   },
   "outputs": [
    {
     "output_type": "stream",
     "name": "stdout",
     "output_type": "stream",
     "text": [
      "+---+------+------+------+---------+\n| id|  name|salary|gender|      dep|\n+---+------+------+------+---------+\n|  2|mahesh| 24000|     M|       HR|\n|  1|maheer| 20000|     M|       HR|\n|  2|mahesh| 24000|     M|       IT|\n|  3|   asi| 18000|     F|Technical|\n+---+------+------+------+---------+\n\n"
     ]
    }
   ],
   "source": [
    "# default order is ascending\n",
    "df.sort('dep').show()"
   ]
  },
  {
   "cell_type": "code",
   "execution_count": 0,
   "metadata": {
    "application/vnd.databricks.v1+cell": {
     "cellMetadata": {
      "byteLimit": 2048000,
      "rowLimit": 10000
     },
     "inputWidgets": {},
     "nuid": "ad86e318-e7ae-417a-bdf0-971d9189bae0",
     "showTitle": false,
     "title": ""
    }
   },
   "outputs": [
    {
     "output_type": "stream",
     "name": "stdout",
     "output_type": "stream",
     "text": [
      "+---+------+------+------+---------+\n| id|  name|salary|gender|      dep|\n+---+------+------+------+---------+\n|  1|maheer| 20000|     M|       HR|\n|  2|mahesh| 24000|     M|       HR|\n|  2|mahesh| 24000|     M|       IT|\n|  3|   asi| 18000|     F|Technical|\n+---+------+------+------+---------+\n\n"
     ]
    }
   ],
   "source": [
    "df.sort(df.dep).show()"
   ]
  },
  {
   "cell_type": "code",
   "execution_count": 0,
   "metadata": {
    "application/vnd.databricks.v1+cell": {
     "cellMetadata": {
      "byteLimit": 2048000,
      "rowLimit": 10000
     },
     "inputWidgets": {},
     "nuid": "c083eeb7-8d2e-47d9-bcd6-15304ccc5597",
     "showTitle": false,
     "title": ""
    }
   },
   "outputs": [
    {
     "output_type": "stream",
     "name": "stdout",
     "output_type": "stream",
     "text": [
      "+---+------+------+------+---------+\n| id|  name|salary|gender|      dep|\n+---+------+------+------+---------+\n|  3|   asi| 18000|     F|Technical|\n|  2|mahesh| 24000|     M|       IT|\n|  1|maheer| 20000|     M|       HR|\n|  2|mahesh| 24000|     M|       HR|\n+---+------+------+------+---------+\n\n"
     ]
    }
   ],
   "source": [
    "df.sort(df.dep.desc()).show()"
   ]
  },
  {
   "cell_type": "code",
   "execution_count": 0,
   "metadata": {
    "application/vnd.databricks.v1+cell": {
     "cellMetadata": {
      "byteLimit": 2048000,
      "rowLimit": 10000
     },
     "inputWidgets": {},
     "nuid": "dc9b1ff7-3b0b-4027-b1f8-bc567412b794",
     "showTitle": false,
     "title": ""
    }
   },
   "outputs": [
    {
     "output_type": "stream",
     "name": "stdout",
     "output_type": "stream",
     "text": [
      "+---+------+------+------+---------+\n| id|  name|salary|gender|      dep|\n+---+------+------+------+---------+\n|  3|   asi| 18000|     F|Technical|\n|  2|mahesh| 24000|     M|       IT|\n|  1|maheer| 20000|     M|       HR|\n|  2|mahesh| 24000|     M|       HR|\n+---+------+------+------+---------+\n\n"
     ]
    }
   ],
   "source": [
    "df.orderBy(df.dep.desc()).show()"
   ]
  },
  {
   "cell_type": "code",
   "execution_count": 0,
   "metadata": {
    "application/vnd.databricks.v1+cell": {
     "cellMetadata": {},
     "inputWidgets": {},
     "nuid": "8bfc7ef3-3cd5-4c62-97fd-52b744072ef7",
     "showTitle": false,
     "title": ""
    }
   },
   "outputs": [],
   "source": []
  }
 ],
 "metadata": {
  "application/vnd.databricks.v1+notebook": {
   "dashboards": [],
   "environmentMetadata": null,
   "language": "python",
   "notebookMetadata": {
    "pythonIndentUnit": 4
   },
   "notebookName": "orderBy_sort",
   "widgets": {}
  }
 },
 "nbformat": 4,
 "nbformat_minor": 0
}
