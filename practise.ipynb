{
 "cells": [
  {
   "cell_type": "code",
   "execution_count": 2,
   "id": "a97872b4",
   "metadata": {},
   "outputs": [],
   "source": [
    "from pyspark.sql import SparkSession"
   ]
  },
  {
   "cell_type": "code",
   "execution_count": 3,
   "id": "ff3f6f14",
   "metadata": {},
   "outputs": [],
   "source": [
    "spark = SparkSession.builder.appName('practise').getOrCreate()"
   ]
  },
  {
   "cell_type": "code",
   "execution_count": 4,
   "id": "81c236f6",
   "metadata": {},
   "outputs": [
    {
     "data": {
      "text/html": [
       "\n",
       "            <div>\n",
       "                <p><b>SparkSession - in-memory</b></p>\n",
       "                \n",
       "        <div>\n",
       "            <p><b>SparkContext</b></p>\n",
       "\n",
       "            <p><a href=\"http://192.168.101.10:4041\">Spark UI</a></p>\n",
       "\n",
       "            <dl>\n",
       "              <dt>Version</dt>\n",
       "                <dd><code>v3.5.0</code></dd>\n",
       "              <dt>Master</dt>\n",
       "                <dd><code>local[*]</code></dd>\n",
       "              <dt>AppName</dt>\n",
       "                <dd><code>practise</code></dd>\n",
       "            </dl>\n",
       "        </div>\n",
       "        \n",
       "            </div>\n",
       "        "
      ],
      "text/plain": [
       "<pyspark.sql.session.SparkSession at 0x166c15a6500>"
      ]
     },
     "execution_count": 4,
     "metadata": {},
     "output_type": "execute_result"
    }
   ],
   "source": [
    "spark"
   ]
  },
  {
   "cell_type": "code",
   "execution_count": 6,
   "id": "8f6fa792",
   "metadata": {},
   "outputs": [],
   "source": [
    "df = spark.read.csv(r\"C:\\Users\\pavan\\OneDrive\\Desktop\\datasets\\googleplaystore_user_reviews.csv\")"
   ]
  },
  {
   "cell_type": "code",
   "execution_count": 7,
   "id": "70132904",
   "metadata": {},
   "outputs": [
    {
     "name": "stdout",
     "output_type": "stream",
     "text": [
      "+--------------------+--------------------+--------------------+-------------------+--------------------+\n",
      "|                 _c0|                 _c1|                 _c2|                _c3|                 _c4|\n",
      "+--------------------+--------------------+--------------------+-------------------+--------------------+\n",
      "|                 App|   Translated_Review|           Sentiment| Sentiment_Polarity|Sentiment_Subject...|\n",
      "|10 Best Foods for...|\"I like eat delic...| also \"\"Best Befo...|           Positive|                 1.0|\n",
      "|10 Best Foods for...|This help eating ...|            Positive|               0.25| 0.28846153846153844|\n",
      "|10 Best Foods for...|                 nan|                 nan|                nan|                 nan|\n",
      "|10 Best Foods for...|Works great espec...|            Positive|                0.4|               0.875|\n",
      "|10 Best Foods for...|        Best idea us|            Positive|                1.0|                 0.3|\n",
      "|10 Best Foods for...|            Best way|            Positive|                1.0|                 0.3|\n",
      "|10 Best Foods for...|             Amazing|            Positive| 0.6000000000000001|                 0.9|\n",
      "|10 Best Foods for...|                 nan|                 nan|                nan|                 nan|\n",
      "|10 Best Foods for...|Looking forward app,|             Neutral|                0.0|                 0.0|\n",
      "|10 Best Foods for...|It helpful site !...|             Neutral|                0.0|                 0.0|\n",
      "|10 Best Foods for...|           good you.|            Positive|                0.7|  0.6000000000000001|\n",
      "|10 Best Foods for...|Useful informatio...|            Positive|                0.2|                 0.1|\n",
      "|10 Best Foods for...|Thank you! Great ...|            Positive|               0.75|               0.875|\n",
      "|10 Best Foods for...|Greatest ever Com...|            Positive|          0.9921875|  0.8666666666666667|\n",
      "|10 Best Foods for...|Good health.........|            Positive| 0.5499999999999999|  0.5111111111111112|\n",
      "|10 Best Foods for...|                 nan|                 nan|                nan|                 nan|\n",
      "|10 Best Foods for...|Health It's impor...|            Positive|               0.45|                 1.0|\n",
      "|10 Best Foods for...|Mrs sunita bhati ...|            Positive|                0.6|  0.6666666666666666|\n",
      "|10 Best Foods for...|Very Useful in di...|            Positive|0.29500000000000004|                 0.1|\n",
      "+--------------------+--------------------+--------------------+-------------------+--------------------+\n",
      "only showing top 20 rows\n",
      "\n"
     ]
    }
   ],
   "source": [
    "df.show()"
   ]
  },
  {
   "cell_type": "code",
   "execution_count": 11,
   "id": "14585571",
   "metadata": {},
   "outputs": [],
   "source": [
    "df = spark.read.option('header','true').csv(r\"C:\\Users\\pavan\\OneDrive\\Desktop\\datasets\\googleplaystore_user_reviews.csv\")"
   ]
  },
  {
   "cell_type": "code",
   "execution_count": null,
   "id": "7bac25cf",
   "metadata": {},
   "outputs": [],
   "source": [
    "df.print"
   ]
  }
 ],
 "metadata": {
  "kernelspec": {
   "display_name": "Python 3 (ipykernel)",
   "language": "python",
   "name": "python3"
  },
  "language_info": {
   "codemirror_mode": {
    "name": "ipython",
    "version": 3
   },
   "file_extension": ".py",
   "mimetype": "text/x-python",
   "name": "python",
   "nbconvert_exporter": "python",
   "pygments_lexer": "ipython3",
   "version": "3.10.9"
  }
 },
 "nbformat": 4,
 "nbformat_minor": 5
}
