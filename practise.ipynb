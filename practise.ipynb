{
 "cells": [
  {
   "cell_type": "code",
   "execution_count": 1,
   "id": "54d6fc54",
   "metadata": {},
   "outputs": [],
   "source": [
    "from pyspark.sql import SparkSession"
   ]
  },
  {
   "cell_type": "code",
   "execution_count": 2,
   "id": "c8e2011a",
   "metadata": {},
   "outputs": [],
   "source": [
    "spark = SparkSession.builder.appName('practise').getOrCreate()"
   ]
  },
  {
   "cell_type": "code",
   "execution_count": 3,
   "id": "70b65d08",
   "metadata": {},
   "outputs": [
    {
     "data": {
      "text/html": [
       "\n",
       "            <div>\n",
       "                <p><b>SparkSession - in-memory</b></p>\n",
       "                \n",
       "        <div>\n",
       "            <p><b>SparkContext</b></p>\n",
       "\n",
       "            <p><a href=\"http://192.168.101.10:4040\">Spark UI</a></p>\n",
       "\n",
       "            <dl>\n",
       "              <dt>Version</dt>\n",
       "                <dd><code>v3.5.0</code></dd>\n",
       "              <dt>Master</dt>\n",
       "                <dd><code>local[*]</code></dd>\n",
       "              <dt>AppName</dt>\n",
       "                <dd><code>practise</code></dd>\n",
       "            </dl>\n",
       "        </div>\n",
       "        \n",
       "            </div>\n",
       "        "
      ],
      "text/plain": [
       "<pyspark.sql.session.SparkSession at 0x29669bf5c90>"
      ]
     },
     "execution_count": 3,
     "metadata": {},
     "output_type": "execute_result"
    }
   ],
   "source": [
    "spark"
   ]
  },
  {
   "cell_type": "code",
   "execution_count": 4,
   "id": "ca1585a4",
   "metadata": {},
   "outputs": [],
   "source": [
    "df = spark.read.csv(r\"C:\\Users\\pavan\\OneDrive\\Desktop\\datasets\\googleplaystore_user_reviews.csv\")"
   ]
  },
  {
   "cell_type": "code",
   "execution_count": 5,
   "id": "465493b5",
   "metadata": {},
   "outputs": [
    {
     "name": "stdout",
     "output_type": "stream",
     "text": [
      "+--------------------+--------------------+--------------------+-------------------+--------------------+\n",
      "|                 _c0|                 _c1|                 _c2|                _c3|                 _c4|\n",
      "+--------------------+--------------------+--------------------+-------------------+--------------------+\n",
      "|                 App|   Translated_Review|           Sentiment| Sentiment_Polarity|Sentiment_Subject...|\n",
      "|10 Best Foods for...|\"I like eat delic...| also \"\"Best Befo...|           Positive|                 1.0|\n",
      "|10 Best Foods for...|This help eating ...|            Positive|               0.25| 0.28846153846153844|\n",
      "|10 Best Foods for...|                 nan|                 nan|                nan|                 nan|\n",
      "|10 Best Foods for...|Works great espec...|            Positive|                0.4|               0.875|\n",
      "|10 Best Foods for...|        Best idea us|            Positive|                1.0|                 0.3|\n",
      "|10 Best Foods for...|            Best way|            Positive|                1.0|                 0.3|\n",
      "|10 Best Foods for...|             Amazing|            Positive| 0.6000000000000001|                 0.9|\n",
      "|10 Best Foods for...|                 nan|                 nan|                nan|                 nan|\n",
      "|10 Best Foods for...|Looking forward app,|             Neutral|                0.0|                 0.0|\n",
      "|10 Best Foods for...|It helpful site !...|             Neutral|                0.0|                 0.0|\n",
      "|10 Best Foods for...|           good you.|            Positive|                0.7|  0.6000000000000001|\n",
      "|10 Best Foods for...|Useful informatio...|            Positive|                0.2|                 0.1|\n",
      "|10 Best Foods for...|Thank you! Great ...|            Positive|               0.75|               0.875|\n",
      "|10 Best Foods for...|Greatest ever Com...|            Positive|          0.9921875|  0.8666666666666667|\n",
      "|10 Best Foods for...|Good health.........|            Positive| 0.5499999999999999|  0.5111111111111112|\n",
      "|10 Best Foods for...|                 nan|                 nan|                nan|                 nan|\n",
      "|10 Best Foods for...|Health It's impor...|            Positive|               0.45|                 1.0|\n",
      "|10 Best Foods for...|Mrs sunita bhati ...|            Positive|                0.6|  0.6666666666666666|\n",
      "|10 Best Foods for...|Very Useful in di...|            Positive|0.29500000000000004|                 0.1|\n",
      "+--------------------+--------------------+--------------------+-------------------+--------------------+\n",
      "only showing top 20 rows\n",
      "\n"
     ]
    }
   ],
   "source": [
    "df.show()"
   ]
  },
  {
   "cell_type": "code",
   "execution_count": 6,
   "id": "448706e8",
   "metadata": {},
   "outputs": [],
   "source": [
    "df = spark.read.option('header','true').csv(r\"C:\\Users\\pavan\\OneDrive\\Desktop\\datasets\\googleplaystore_user_reviews.csv\")"
   ]
  },
  {
   "cell_type": "code",
   "execution_count": 7,
   "id": "ca68b732",
   "metadata": {},
   "outputs": [
    {
     "name": "stdout",
     "output_type": "stream",
     "text": [
      "root\n",
      " |-- App: string (nullable = true)\n",
      " |-- Translated_Review: string (nullable = true)\n",
      " |-- Sentiment: string (nullable = true)\n",
      " |-- Sentiment_Polarity: string (nullable = true)\n",
      " |-- Sentiment_Subjectivity: string (nullable = true)\n",
      "\n"
     ]
    }
   ],
   "source": [
    "df.printSchema()"
   ]
  },
  {
   "cell_type": "code",
   "execution_count": 8,
   "id": "1e4a4b99",
   "metadata": {},
   "outputs": [
    {
     "name": "stdout",
     "output_type": "stream",
     "text": [
      "+--------------------+--------------------+--------------------+-------------------+----------------------+\n",
      "|                 App|   Translated_Review|           Sentiment| Sentiment_Polarity|Sentiment_Subjectivity|\n",
      "+--------------------+--------------------+--------------------+-------------------+----------------------+\n",
      "|10 Best Foods for...|\"I like eat delic...| also \"\"Best Befo...|           Positive|                   1.0|\n",
      "|10 Best Foods for...|This help eating ...|            Positive|               0.25|   0.28846153846153844|\n",
      "|10 Best Foods for...|                 nan|                 nan|                nan|                   nan|\n",
      "|10 Best Foods for...|Works great espec...|            Positive|                0.4|                 0.875|\n",
      "|10 Best Foods for...|        Best idea us|            Positive|                1.0|                   0.3|\n",
      "|10 Best Foods for...|            Best way|            Positive|                1.0|                   0.3|\n",
      "|10 Best Foods for...|             Amazing|            Positive| 0.6000000000000001|                   0.9|\n",
      "|10 Best Foods for...|                 nan|                 nan|                nan|                   nan|\n",
      "|10 Best Foods for...|Looking forward app,|             Neutral|                0.0|                   0.0|\n",
      "|10 Best Foods for...|It helpful site !...|             Neutral|                0.0|                   0.0|\n",
      "|10 Best Foods for...|           good you.|            Positive|                0.7|    0.6000000000000001|\n",
      "|10 Best Foods for...|Useful informatio...|            Positive|                0.2|                   0.1|\n",
      "|10 Best Foods for...|Thank you! Great ...|            Positive|               0.75|                 0.875|\n",
      "|10 Best Foods for...|Greatest ever Com...|            Positive|          0.9921875|    0.8666666666666667|\n",
      "|10 Best Foods for...|Good health.........|            Positive| 0.5499999999999999|    0.5111111111111112|\n",
      "|10 Best Foods for...|                 nan|                 nan|                nan|                   nan|\n",
      "|10 Best Foods for...|Health It's impor...|            Positive|               0.45|                   1.0|\n",
      "|10 Best Foods for...|Mrs sunita bhati ...|            Positive|                0.6|    0.6666666666666666|\n",
      "|10 Best Foods for...|Very Useful in di...|            Positive|0.29500000000000004|                   0.1|\n",
      "|10 Best Foods for...|  One greatest apps.|            Positive|                1.0|                   1.0|\n",
      "+--------------------+--------------------+--------------------+-------------------+----------------------+\n",
      "only showing top 20 rows\n",
      "\n"
     ]
    }
   ],
   "source": [
    "df.show()"
   ]
  },
  {
   "cell_type": "code",
   "execution_count": 9,
   "id": "c5722ce2",
   "metadata": {},
   "outputs": [
    {
     "data": {
      "text/plain": [
       "Row(App='10 Best Foods for You', Translated_Review='\"I like eat delicious food. That\\'s I\\'m cooking food myself, case \"\"10 Best Foods\"\" helps lot', Sentiment=' also \"\"Best Before (Shelf Life)\"\"\"', Sentiment_Polarity='Positive', Sentiment_Subjectivity='1.0')"
      ]
     },
     "execution_count": 9,
     "metadata": {},
     "output_type": "execute_result"
    }
   ],
   "source": [
    "df.head()"
   ]
  },
  {
   "cell_type": "code",
   "execution_count": 10,
   "id": "62536199",
   "metadata": {},
   "outputs": [],
   "source": [
    "from pyspark.sql import SparkSession"
   ]
  },
  {
   "cell_type": "code",
   "execution_count": 11,
   "id": "64ccd151",
   "metadata": {},
   "outputs": [],
   "source": [
    "spark = SparkSession.builder.appName('practise').getOrCreate()"
   ]
  },
  {
   "cell_type": "code",
   "execution_count": 12,
   "id": "35fa7bc3",
   "metadata": {},
   "outputs": [],
   "source": [
    "df = spark.read.csv(r\"C:\\Users\\pavan\\OneDrive\\Desktop\\datasets\\googleplaystore.csv\", header = True, inferSchema = True)"
   ]
  },
  {
   "cell_type": "code",
   "execution_count": 13,
   "id": "a6e9ab5a",
   "metadata": {},
   "outputs": [],
   "source": [
    "df = spark.read.option('header','True').csv(r\"C:\\Users\\pavan\\OneDrive\\Desktop\\datasets\\googleplaystore.csv\", inferSchema = True)"
   ]
  },
  {
   "cell_type": "code",
   "execution_count": 14,
   "id": "64d321b3",
   "metadata": {},
   "outputs": [],
   "source": [
    "df_pyspark = spark.read.option('header','true').csv(r\"C:\\Users\\pavan\\OneDrive\\Desktop\\datasets\\googleplaystore.csv\",inferSchema=True)"
   ]
  },
  {
   "cell_type": "code",
   "execution_count": 15,
   "id": "b90764d8",
   "metadata": {},
   "outputs": [
    {
     "name": "stdout",
     "output_type": "stream",
     "text": [
      "root\n",
      " |-- App: string (nullable = true)\n",
      " |-- Category: string (nullable = true)\n",
      " |-- Rating: string (nullable = true)\n",
      " |-- Reviews: string (nullable = true)\n",
      " |-- Size: string (nullable = true)\n",
      " |-- Installs: string (nullable = true)\n",
      " |-- Type: string (nullable = true)\n",
      " |-- Price: string (nullable = true)\n",
      " |-- Content Rating: string (nullable = true)\n",
      " |-- Genres: string (nullable = true)\n",
      " |-- Last Updated: string (nullable = true)\n",
      " |-- Current Ver: string (nullable = true)\n",
      " |-- Android Ver: string (nullable = true)\n",
      "\n"
     ]
    }
   ],
   "source": [
    "df.printSchema()"
   ]
  },
  {
   "cell_type": "code",
   "execution_count": 16,
   "id": "732b2eec",
   "metadata": {},
   "outputs": [
    {
     "name": "stdout",
     "output_type": "stream",
     "text": [
      "+--------------------+--------------+------+-------+----+-----------+----+-----+--------------+--------------------+------------+------------------+------------+\n",
      "|                 App|      Category|Rating|Reviews|Size|   Installs|Type|Price|Content Rating|              Genres|Last Updated|       Current Ver| Android Ver|\n",
      "+--------------------+--------------+------+-------+----+-----------+----+-----+--------------+--------------------+------------+------------------+------------+\n",
      "|Photo Editor & Ca...|ART_AND_DESIGN|   4.1|    159| 19M|    10,000+|Free|    0|      Everyone|        Art & Design|    7-Jan-18|             1.0.0|4.0.3 and up|\n",
      "| Coloring book moana|ART_AND_DESIGN|   3.9|    967| 14M|   500,000+|Free|    0|      Everyone|Art & Design;Pret...|   15-Jan-18|             2.0.0|4.0.3 and up|\n",
      "|U Launcher Lite –...|ART_AND_DESIGN|   4.7|  87510|8.7M| 5,000,000+|Free|    0|      Everyone|        Art & Design|    1-Aug-18|             1.2.4|4.0.3 and up|\n",
      "|Sketch - Draw & P...|ART_AND_DESIGN|   4.5| 215644| 25M|50,000,000+|Free|    0|          Teen|        Art & Design|    8-Jun-18|Varies with device|  4.2 and up|\n",
      "|Pixel Draw - Numb...|ART_AND_DESIGN|   4.3|    967|2.8M|   100,000+|Free|    0|      Everyone|Art & Design;Crea...|   20-Jun-18|               1.1|  4.4 and up|\n",
      "|Paper flowers ins...|ART_AND_DESIGN|   4.4|    167|5.6M|    50,000+|Free|    0|      Everyone|        Art & Design|   26-Mar-17|                 1|  2.3 and up|\n",
      "|Smoke Effect Phot...|ART_AND_DESIGN|   3.8|    178| 19M|    50,000+|Free|    0|      Everyone|        Art & Design|   26-Apr-18|               1.1|4.0.3 and up|\n",
      "|    Infinite Painter|ART_AND_DESIGN|   4.1|  36815| 29M| 1,000,000+|Free|    0|      Everyone|        Art & Design|   14-Jun-18|          6.1.61.1|  4.2 and up|\n",
      "|Garden Coloring Book|ART_AND_DESIGN|   4.4|  13791| 33M| 1,000,000+|Free|    0|      Everyone|        Art & Design|   20-Sep-17|             2.9.2|  3.0 and up|\n",
      "|Kids Paint Free -...|ART_AND_DESIGN|   4.7|    121|3.1M|    10,000+|Free|    0|      Everyone|Art & Design;Crea...|    3-Jul-18|               2.8|4.0.3 and up|\n",
      "|Text on Photo - F...|ART_AND_DESIGN|   4.4|  13880| 28M| 1,000,000+|Free|    0|      Everyone|        Art & Design|   27-Oct-17|             1.0.4|  4.1 and up|\n",
      "|Name Art Photo Ed...|ART_AND_DESIGN|   4.4|   8788| 12M| 1,000,000+|Free|    0|      Everyone|        Art & Design|   31-Jul-18|            1.0.15|  4.0 and up|\n",
      "|Tattoo Name On My...|ART_AND_DESIGN|   4.2|  44829| 20M|10,000,000+|Free|    0|          Teen|        Art & Design|    2-Apr-18|               3.8|  4.1 and up|\n",
      "|Mandala Coloring ...|ART_AND_DESIGN|   4.6|   4326| 21M|   100,000+|Free|    0|      Everyone|        Art & Design|   26-Jun-18|             1.0.4|  4.4 and up|\n",
      "|3D Color Pixel by...|ART_AND_DESIGN|   4.4|   1518| 37M|   100,000+|Free|    0|      Everyone|        Art & Design|    3-Aug-18|             1.2.3|  2.3 and up|\n",
      "|Learn To Draw Kaw...|ART_AND_DESIGN|   3.2|     55|2.7M|     5,000+|Free|    0|      Everyone|        Art & Design|    6-Jun-18|               NaN|  4.2 and up|\n",
      "|Photo Designer - ...|ART_AND_DESIGN|   4.7|   3632|5.5M|   500,000+|Free|    0|      Everyone|        Art & Design|   31-Jul-18|               3.1|  4.1 and up|\n",
      "|350 Diy Room Deco...|ART_AND_DESIGN|   4.5|     27| 17M|    10,000+|Free|    0|      Everyone|        Art & Design|    7-Nov-17|                 1|  2.3 and up|\n",
      "|FlipaClip - Carto...|ART_AND_DESIGN|   4.3| 194216| 39M| 5,000,000+|Free|    0|      Everyone|        Art & Design|    3-Aug-18|             2.2.5|4.0.3 and up|\n",
      "|        ibis Paint X|ART_AND_DESIGN|   4.6| 224399| 31M|10,000,000+|Free|    0|      Everyone|        Art & Design|   30-Jul-18|             5.5.4|  4.1 and up|\n",
      "+--------------------+--------------+------+-------+----+-----------+----+-----+--------------+--------------------+------------+------------------+------------+\n",
      "only showing top 20 rows\n",
      "\n"
     ]
    }
   ],
   "source": [
    "df.show()"
   ]
  },
  {
   "cell_type": "code",
   "execution_count": 17,
   "id": "572e1dbb",
   "metadata": {},
   "outputs": [
    {
     "data": {
      "text/plain": [
       "[('App', 'string'),\n",
       " ('Category', 'string'),\n",
       " ('Rating', 'string'),\n",
       " ('Reviews', 'string'),\n",
       " ('Size', 'string'),\n",
       " ('Installs', 'string'),\n",
       " ('Type', 'string'),\n",
       " ('Price', 'string'),\n",
       " ('Content Rating', 'string'),\n",
       " ('Genres', 'string'),\n",
       " ('Last Updated', 'string'),\n",
       " ('Current Ver', 'string'),\n",
       " ('Android Ver', 'string')]"
      ]
     },
     "execution_count": 17,
     "metadata": {},
     "output_type": "execute_result"
    }
   ],
   "source": [
    "df.dtypes"
   ]
  },
  {
   "cell_type": "code",
   "execution_count": 18,
   "id": "8d8a97b6",
   "metadata": {},
   "outputs": [
    {
     "data": {
      "text/plain": [
       "DataFrame[App: string]"
      ]
     },
     "execution_count": 18,
     "metadata": {},
     "output_type": "execute_result"
    }
   ],
   "source": [
    "df.select('App')"
   ]
  },
  {
   "cell_type": "code",
   "execution_count": 19,
   "id": "15065b8a",
   "metadata": {},
   "outputs": [
    {
     "name": "stdout",
     "output_type": "stream",
     "text": [
      "+--------------------+--------------+\n",
      "|                 App|      Category|\n",
      "+--------------------+--------------+\n",
      "|Photo Editor & Ca...|ART_AND_DESIGN|\n",
      "| Coloring book moana|ART_AND_DESIGN|\n",
      "|U Launcher Lite –...|ART_AND_DESIGN|\n",
      "|Sketch - Draw & P...|ART_AND_DESIGN|\n",
      "|Pixel Draw - Numb...|ART_AND_DESIGN|\n",
      "|Paper flowers ins...|ART_AND_DESIGN|\n",
      "|Smoke Effect Phot...|ART_AND_DESIGN|\n",
      "|    Infinite Painter|ART_AND_DESIGN|\n",
      "|Garden Coloring Book|ART_AND_DESIGN|\n",
      "|Kids Paint Free -...|ART_AND_DESIGN|\n",
      "|Text on Photo - F...|ART_AND_DESIGN|\n",
      "|Name Art Photo Ed...|ART_AND_DESIGN|\n",
      "|Tattoo Name On My...|ART_AND_DESIGN|\n",
      "|Mandala Coloring ...|ART_AND_DESIGN|\n",
      "|3D Color Pixel by...|ART_AND_DESIGN|\n",
      "|Learn To Draw Kaw...|ART_AND_DESIGN|\n",
      "|Photo Designer - ...|ART_AND_DESIGN|\n",
      "|350 Diy Room Deco...|ART_AND_DESIGN|\n",
      "|FlipaClip - Carto...|ART_AND_DESIGN|\n",
      "|        ibis Paint X|ART_AND_DESIGN|\n",
      "+--------------------+--------------+\n",
      "only showing top 20 rows\n",
      "\n"
     ]
    }
   ],
   "source": [
    "df.select(['App','Category']).show()"
   ]
  },
  {
   "cell_type": "code",
   "execution_count": 20,
   "id": "0d0ddcdc",
   "metadata": {},
   "outputs": [
    {
     "name": "stdout",
     "output_type": "stream",
     "text": [
      "+-------+--------------------+-------------+-----------+-----------------+------------------+------------------+-----+------------------+--------------+---------+------------+-------------+------------------+\n",
      "|summary|                 App|     Category|     Rating|          Reviews|              Size|          Installs| Type|             Price|Content Rating|   Genres|Last Updated|  Current Ver|       Android Ver|\n",
      "+-------+--------------------+-------------+-----------+-----------------+------------------+------------------+-----+------------------+--------------+---------+------------+-------------+------------------+\n",
      "|  count|               10841|        10841|      10841|            10841|             10841|             10841|10841|             10841|         10840|    10841|       10841|        10840|             10840|\n",
      "|   mean|                NULL|          1.9|        NaN|444225.1924709356|              NULL| 2.866666666666667|  NaN|               0.0|          NULL|     NULL|         0.0|          NaN|               NaN|\n",
      "| stddev|                NULL|         NULL|        NaN|2928025.838407947|              NULL|2.4846193538112304|  NaN|               0.0|          NULL|     NULL|         0.0|          NaN|               NaN|\n",
      "|    min|\"\"\"i DT\"\" Fútbol....| traffic jams| navigation|          camera\"|            1,000+|                 0|    0|            $0.99 |    1,000,000+|11-Feb-18|           0|      0.0.0.2|        1.0 and up|\n",
      "|    max|🔥 Football Wallp...|      WEATHER|        NaN|    weight lose)\"|Varies with device|              Free| Paid|Varies with device|       Unrated|     Word|    9-Sep-17|version 0.994|Varies with device|\n",
      "+-------+--------------------+-------------+-----------+-----------------+------------------+------------------+-----+------------------+--------------+---------+------------+-------------+------------------+\n",
      "\n"
     ]
    }
   ],
   "source": [
    "df.describe().show()"
   ]
  },
  {
   "cell_type": "code",
   "execution_count": 21,
   "id": "5ecc1034",
   "metadata": {},
   "outputs": [
    {
     "data": {
      "text/plain": [
       "DataFrame[App: string, Category: string, Rating: string, Reviews: string, Size: string, Installs: string, Type: string, Price: string, Content Rating: string, Genres: string, Last Updated: string, Current Ver: string, Android Ver: string, Rating+1: double]"
      ]
     },
     "execution_count": 21,
     "metadata": {},
     "output_type": "execute_result"
    }
   ],
   "source": [
    "df.withColumn('Rating+1', df['Rating']+1)"
   ]
  },
  {
   "cell_type": "code",
   "execution_count": 22,
   "id": "eafb04e9",
   "metadata": {},
   "outputs": [
    {
     "data": {
      "text/plain": [
       "['App',\n",
       " 'Category',\n",
       " 'Rating',\n",
       " 'Reviews',\n",
       " 'Size',\n",
       " 'Installs',\n",
       " 'Type',\n",
       " 'Price',\n",
       " 'Content Rating',\n",
       " 'Genres',\n",
       " 'Last Updated',\n",
       " 'Current Ver',\n",
       " 'Android Ver']"
      ]
     },
     "execution_count": 22,
     "metadata": {},
     "output_type": "execute_result"
    }
   ],
   "source": [
    "df.columns"
   ]
  },
  {
   "cell_type": "code",
   "execution_count": 23,
   "id": "a4d02283",
   "metadata": {},
   "outputs": [
    {
     "name": "stdout",
     "output_type": "stream",
     "text": [
      "+--------------------+--------------+------+-------+----+-----------+----+-----+--------------+--------------------+------------+------------------+------------+--------+\n",
      "|                 App|      Category|Rating|Reviews|Size|   Installs|Type|Price|Content Rating|              Genres|Last Updated|       Current Ver| Android Ver|Rating+1|\n",
      "+--------------------+--------------+------+-------+----+-----------+----+-----+--------------+--------------------+------------+------------------+------------+--------+\n",
      "|Photo Editor & Ca...|ART_AND_DESIGN|   4.1|    159| 19M|    10,000+|Free|    0|      Everyone|        Art & Design|    7-Jan-18|             1.0.0|4.0.3 and up|     5.1|\n",
      "| Coloring book moana|ART_AND_DESIGN|   3.9|    967| 14M|   500,000+|Free|    0|      Everyone|Art & Design;Pret...|   15-Jan-18|             2.0.0|4.0.3 and up|     4.9|\n",
      "|U Launcher Lite –...|ART_AND_DESIGN|   4.7|  87510|8.7M| 5,000,000+|Free|    0|      Everyone|        Art & Design|    1-Aug-18|             1.2.4|4.0.3 and up|     5.7|\n",
      "|Sketch - Draw & P...|ART_AND_DESIGN|   4.5| 215644| 25M|50,000,000+|Free|    0|          Teen|        Art & Design|    8-Jun-18|Varies with device|  4.2 and up|     5.5|\n",
      "|Pixel Draw - Numb...|ART_AND_DESIGN|   4.3|    967|2.8M|   100,000+|Free|    0|      Everyone|Art & Design;Crea...|   20-Jun-18|               1.1|  4.4 and up|     5.3|\n",
      "|Paper flowers ins...|ART_AND_DESIGN|   4.4|    167|5.6M|    50,000+|Free|    0|      Everyone|        Art & Design|   26-Mar-17|                 1|  2.3 and up|     5.4|\n",
      "|Smoke Effect Phot...|ART_AND_DESIGN|   3.8|    178| 19M|    50,000+|Free|    0|      Everyone|        Art & Design|   26-Apr-18|               1.1|4.0.3 and up|     4.8|\n",
      "|    Infinite Painter|ART_AND_DESIGN|   4.1|  36815| 29M| 1,000,000+|Free|    0|      Everyone|        Art & Design|   14-Jun-18|          6.1.61.1|  4.2 and up|     5.1|\n",
      "|Garden Coloring Book|ART_AND_DESIGN|   4.4|  13791| 33M| 1,000,000+|Free|    0|      Everyone|        Art & Design|   20-Sep-17|             2.9.2|  3.0 and up|     5.4|\n",
      "|Kids Paint Free -...|ART_AND_DESIGN|   4.7|    121|3.1M|    10,000+|Free|    0|      Everyone|Art & Design;Crea...|    3-Jul-18|               2.8|4.0.3 and up|     5.7|\n",
      "|Text on Photo - F...|ART_AND_DESIGN|   4.4|  13880| 28M| 1,000,000+|Free|    0|      Everyone|        Art & Design|   27-Oct-17|             1.0.4|  4.1 and up|     5.4|\n",
      "|Name Art Photo Ed...|ART_AND_DESIGN|   4.4|   8788| 12M| 1,000,000+|Free|    0|      Everyone|        Art & Design|   31-Jul-18|            1.0.15|  4.0 and up|     5.4|\n",
      "|Tattoo Name On My...|ART_AND_DESIGN|   4.2|  44829| 20M|10,000,000+|Free|    0|          Teen|        Art & Design|    2-Apr-18|               3.8|  4.1 and up|     5.2|\n",
      "|Mandala Coloring ...|ART_AND_DESIGN|   4.6|   4326| 21M|   100,000+|Free|    0|      Everyone|        Art & Design|   26-Jun-18|             1.0.4|  4.4 and up|     5.6|\n",
      "|3D Color Pixel by...|ART_AND_DESIGN|   4.4|   1518| 37M|   100,000+|Free|    0|      Everyone|        Art & Design|    3-Aug-18|             1.2.3|  2.3 and up|     5.4|\n",
      "|Learn To Draw Kaw...|ART_AND_DESIGN|   3.2|     55|2.7M|     5,000+|Free|    0|      Everyone|        Art & Design|    6-Jun-18|               NaN|  4.2 and up|     4.2|\n",
      "|Photo Designer - ...|ART_AND_DESIGN|   4.7|   3632|5.5M|   500,000+|Free|    0|      Everyone|        Art & Design|   31-Jul-18|               3.1|  4.1 and up|     5.7|\n",
      "|350 Diy Room Deco...|ART_AND_DESIGN|   4.5|     27| 17M|    10,000+|Free|    0|      Everyone|        Art & Design|    7-Nov-17|                 1|  2.3 and up|     5.5|\n",
      "|FlipaClip - Carto...|ART_AND_DESIGN|   4.3| 194216| 39M| 5,000,000+|Free|    0|      Everyone|        Art & Design|    3-Aug-18|             2.2.5|4.0.3 and up|     5.3|\n",
      "|        ibis Paint X|ART_AND_DESIGN|   4.6| 224399| 31M|10,000,000+|Free|    0|      Everyone|        Art & Design|   30-Jul-18|             5.5.4|  4.1 and up|     5.6|\n",
      "+--------------------+--------------+------+-------+----+-----------+----+-----+--------------+--------------------+------------+------------------+------------+--------+\n",
      "only showing top 20 rows\n",
      "\n"
     ]
    }
   ],
   "source": [
    "df.withColumn('Rating+1', df['Rating']+1).show()"
   ]
  },
  {
   "cell_type": "code",
   "execution_count": 24,
   "id": "d4f76eb1",
   "metadata": {},
   "outputs": [
    {
     "data": {
      "text/plain": [
       "['App',\n",
       " 'Category',\n",
       " 'Rating',\n",
       " 'Reviews',\n",
       " 'Size',\n",
       " 'Installs',\n",
       " 'Type',\n",
       " 'Price',\n",
       " 'Content Rating',\n",
       " 'Genres',\n",
       " 'Last Updated',\n",
       " 'Current Ver',\n",
       " 'Android Ver']"
      ]
     },
     "execution_count": 24,
     "metadata": {},
     "output_type": "execute_result"
    }
   ],
   "source": [
    "df.columns"
   ]
  },
  {
   "cell_type": "code",
   "execution_count": 25,
   "id": "f291e7f9",
   "metadata": {},
   "outputs": [],
   "source": [
    "df = df.drop('Current Ver',\n",
    " 'Android Ver')"
   ]
  },
  {
   "cell_type": "code",
   "execution_count": 26,
   "id": "d66735a5",
   "metadata": {},
   "outputs": [
    {
     "data": {
      "text/plain": [
       "['App',\n",
       " 'Category',\n",
       " 'Rating',\n",
       " 'Reviews',\n",
       " 'Size',\n",
       " 'Installs',\n",
       " 'Type',\n",
       " 'Price',\n",
       " 'Content Rating',\n",
       " 'Genres',\n",
       " 'Last Updated']"
      ]
     },
     "execution_count": 26,
     "metadata": {},
     "output_type": "execute_result"
    }
   ],
   "source": [
    "df.columns"
   ]
  },
  {
   "cell_type": "code",
   "execution_count": 27,
   "id": "f7d223de",
   "metadata": {},
   "outputs": [],
   "source": [
    "df = df.withColumnRenamed('App','Application')"
   ]
  },
  {
   "cell_type": "code",
   "execution_count": 28,
   "id": "56dc4bab",
   "metadata": {},
   "outputs": [
    {
     "data": {
      "text/plain": [
       "['Application',\n",
       " 'Category',\n",
       " 'Rating',\n",
       " 'Reviews',\n",
       " 'Size',\n",
       " 'Installs',\n",
       " 'Type',\n",
       " 'Price',\n",
       " 'Content Rating',\n",
       " 'Genres',\n",
       " 'Last Updated']"
      ]
     },
     "execution_count": 28,
     "metadata": {},
     "output_type": "execute_result"
    }
   ],
   "source": [
    "df.columns"
   ]
  },
  {
   "cell_type": "code",
   "execution_count": 29,
   "id": "f2fd060b",
   "metadata": {},
   "outputs": [
    {
     "data": {
      "text/plain": [
       "Column<'Genres'>"
      ]
     },
     "execution_count": 29,
     "metadata": {},
     "output_type": "execute_result"
    }
   ],
   "source": [
    "df.Genres"
   ]
  },
  {
   "cell_type": "code",
   "execution_count": 30,
   "id": "bdc06dd5",
   "metadata": {},
   "outputs": [],
   "source": [
    "from pyspark.sql import SparkSession"
   ]
  },
  {
   "cell_type": "code",
   "execution_count": 31,
   "id": "7956abeb",
   "metadata": {},
   "outputs": [],
   "source": [
    "spark = SparkSession.builder.appName('practise').getOrCreate()"
   ]
  },
  {
   "cell_type": "code",
   "execution_count": 32,
   "id": "51363d32",
   "metadata": {},
   "outputs": [],
   "source": [
    "df = spark.read.csv(r\"C:\\Users\\pavan\\OneDrive\\Desktop\\datasets\\test2.csv\",inferSchema = True, header= True)"
   ]
  },
  {
   "cell_type": "code",
   "execution_count": 33,
   "id": "17619ea6",
   "metadata": {},
   "outputs": [
    {
     "data": {
      "text/plain": [
       "['Name', 'Department', 'Salary']"
      ]
     },
     "execution_count": 33,
     "metadata": {},
     "output_type": "execute_result"
    }
   ],
   "source": [
    "df.columns"
   ]
  },
  {
   "cell_type": "code",
   "execution_count": 34,
   "id": "1cc9b20e",
   "metadata": {},
   "outputs": [
    {
     "name": "stdout",
     "output_type": "stream",
     "text": [
      "root\n",
      " |-- Name: string (nullable = true)\n",
      " |-- Department: string (nullable = true)\n",
      " |-- Salary: integer (nullable = true)\n",
      "\n"
     ]
    }
   ],
   "source": [
    "df.printSchema()"
   ]
  },
  {
   "cell_type": "code",
   "execution_count": 35,
   "id": "fba3cb9a",
   "metadata": {},
   "outputs": [
    {
     "name": "stdout",
     "output_type": "stream",
     "text": [
      "+-------+------------+------+\n",
      "|   Name|  Department|Salary|\n",
      "+-------+------------+------+\n",
      "|   john|Data Science| 10000|\n",
      "|Stephen|         IOT|  5000|\n",
      "|   NULL|     Bigdata|  4000|\n",
      "|   paul|     Bigdata|  NULL|\n",
      "|  Krish|Data Science| 20000|\n",
      "|    Joe|Data Science| 10000|\n",
      "|Stephen|         IOT|  5000|\n",
      "|   jack|     Bigdata| 10000|\n",
      "|  Krish|        NULL|  8000|\n",
      "+-------+------------+------+\n",
      "\n"
     ]
    }
   ],
   "source": [
    "df.show()"
   ]
  },
  {
   "cell_type": "code",
   "execution_count": 36,
   "id": "7c041cd7",
   "metadata": {},
   "outputs": [
    {
     "data": {
      "text/plain": [
       "DataFrame[summary: string, Name: string, Department: string, Salary: string]"
      ]
     },
     "execution_count": 36,
     "metadata": {},
     "output_type": "execute_result"
    }
   ],
   "source": [
    "df.describe()"
   ]
  },
  {
   "cell_type": "code",
   "execution_count": 37,
   "id": "9ef82f47",
   "metadata": {},
   "outputs": [
    {
     "name": "stdout",
     "output_type": "stream",
     "text": [
      "+-------+----+----------+-----------------+\n",
      "|summary|Name|Department|           Salary|\n",
      "+-------+----+----------+-----------------+\n",
      "|  count|   8|         8|                8|\n",
      "|   mean|NULL|      NULL|           9000.0|\n",
      "| stddev|NULL|      NULL|5099.019513592785|\n",
      "|    min| Joe|   Bigdata|             4000|\n",
      "|    max|paul|       IOT|            20000|\n",
      "+-------+----+----------+-----------------+\n",
      "\n"
     ]
    }
   ],
   "source": [
    "df.describe().show()"
   ]
  },
  {
   "cell_type": "code",
   "execution_count": 38,
   "id": "8aab24cc",
   "metadata": {},
   "outputs": [
    {
     "name": "stdout",
     "output_type": "stream",
     "text": [
      "+-------+------------+------+\n",
      "|   Name|  Department|Salary|\n",
      "+-------+------------+------+\n",
      "|   john|Data Science| 10000|\n",
      "|Stephen|         IOT|  5000|\n",
      "|  Krish|Data Science| 20000|\n",
      "|    Joe|Data Science| 10000|\n",
      "|Stephen|         IOT|  5000|\n",
      "|   jack|     Bigdata| 10000|\n",
      "+-------+------------+------+\n",
      "\n"
     ]
    }
   ],
   "source": [
    "df.na.drop().show() # deletes all rows that have null values"
   ]
  },
  {
   "cell_type": "code",
   "execution_count": 39,
   "id": "1ab04503",
   "metadata": {},
   "outputs": [
    {
     "data": {
      "text/plain": [
       "DataFrame[Name: string, Department: string, Salary: int]"
      ]
     },
     "execution_count": 39,
     "metadata": {},
     "output_type": "execute_result"
    }
   ],
   "source": [
    "df.na.drop()"
   ]
  },
  {
   "cell_type": "code",
   "execution_count": 40,
   "id": "b36f8aa8",
   "metadata": {},
   "outputs": [
    {
     "name": "stdout",
     "output_type": "stream",
     "text": [
      "+-------+------------+------+\n",
      "|   Name|  Department|Salary|\n",
      "+-------+------------+------+\n",
      "|   john|Data Science| 10000|\n",
      "|Stephen|         IOT|  5000|\n",
      "|   NULL|     Bigdata|  4000|\n",
      "|   paul|     Bigdata|  NULL|\n",
      "|  Krish|Data Science| 20000|\n",
      "|    Joe|Data Science| 10000|\n",
      "|Stephen|         IOT|  5000|\n",
      "|   jack|     Bigdata| 10000|\n",
      "|  Krish|        NULL|  8000|\n",
      "+-------+------------+------+\n",
      "\n"
     ]
    }
   ],
   "source": [
    "df.na.drop(how='all').show()"
   ]
  },
  {
   "cell_type": "code",
   "execution_count": 41,
   "id": "87d69492",
   "metadata": {},
   "outputs": [
    {
     "name": "stdout",
     "output_type": "stream",
     "text": [
      "+-------+------------+------+\n",
      "|   Name|  Department|Salary|\n",
      "+-------+------------+------+\n",
      "|   john|Data Science| 10000|\n",
      "|Stephen|         IOT|  5000|\n",
      "|  Krish|Data Science| 20000|\n",
      "|    Joe|Data Science| 10000|\n",
      "|Stephen|         IOT|  5000|\n",
      "|   jack|     Bigdata| 10000|\n",
      "+-------+------------+------+\n",
      "\n"
     ]
    }
   ],
   "source": [
    "df.na.drop(how='any').show()"
   ]
  },
  {
   "cell_type": "code",
   "execution_count": 42,
   "id": "14830b0b",
   "metadata": {},
   "outputs": [
    {
     "name": "stdout",
     "output_type": "stream",
     "text": [
      "+-------+------------+------+\n",
      "|   Name|  Department|Salary|\n",
      "+-------+------------+------+\n",
      "|   john|Data Science| 10000|\n",
      "|Stephen|         IOT|  5000|\n",
      "|   NULL|     Bigdata|  4000|\n",
      "|   paul|     Bigdata|  NULL|\n",
      "|  Krish|Data Science| 20000|\n",
      "|    Joe|Data Science| 10000|\n",
      "|Stephen|         IOT|  5000|\n",
      "|   jack|     Bigdata| 10000|\n",
      "|  Krish|        NULL|  8000|\n",
      "+-------+------------+------+\n",
      "\n"
     ]
    }
   ],
   "source": [
    "df.na.drop(how='any',thresh=1).show()"
   ]
  },
  {
   "cell_type": "code",
   "execution_count": 43,
   "id": "dbf52d08",
   "metadata": {},
   "outputs": [],
   "source": [
    "df1 = df.withColumn('UpdatedSalary', df['Salary']+1000)"
   ]
  },
  {
   "cell_type": "code",
   "execution_count": 44,
   "id": "a6c27515",
   "metadata": {},
   "outputs": [
    {
     "name": "stdout",
     "output_type": "stream",
     "text": [
      "+-------+------------+------+-------------+\n",
      "|   Name|  Department|Salary|UpdatedSalary|\n",
      "+-------+------------+------+-------------+\n",
      "|   john|Data Science| 10000|        11000|\n",
      "|Stephen|         IOT|  5000|         6000|\n",
      "|   NULL|     Bigdata|  4000|         5000|\n",
      "|   paul|     Bigdata|  NULL|         NULL|\n",
      "|  Krish|Data Science| 20000|        21000|\n",
      "|    Joe|Data Science| 10000|        11000|\n",
      "|Stephen|         IOT|  5000|         6000|\n",
      "|   jack|     Bigdata| 10000|        11000|\n",
      "|  Krish|        NULL|  8000|         9000|\n",
      "+-------+------------+------+-------------+\n",
      "\n"
     ]
    }
   ],
   "source": [
    "df1.show()"
   ]
  },
  {
   "cell_type": "code",
   "execution_count": 45,
   "id": "d7045e6b",
   "metadata": {},
   "outputs": [
    {
     "name": "stdout",
     "output_type": "stream",
     "text": [
      "+-------+------------+------+\n",
      "|   Name|  Department|Salary|\n",
      "+-------+------------+------+\n",
      "|   john|Data Science| 10000|\n",
      "|Stephen|         IOT|  5000|\n",
      "|   NULL|     Bigdata|  4000|\n",
      "|   paul|     Bigdata|  NULL|\n",
      "|  Krish|Data Science| 20000|\n",
      "|    Joe|Data Science| 10000|\n",
      "|Stephen|         IOT|  5000|\n",
      "|   jack|     Bigdata| 10000|\n",
      "|  Krish|        NULL|  8000|\n",
      "+-------+------------+------+\n",
      "\n"
     ]
    }
   ],
   "source": [
    "df.show()"
   ]
  },
  {
   "cell_type": "code",
   "execution_count": 46,
   "id": "00e42569",
   "metadata": {},
   "outputs": [
    {
     "name": "stdout",
     "output_type": "stream",
     "text": [
      "+-------+------------+------+\n",
      "|   Name|  Department|Salary|\n",
      "+-------+------------+------+\n",
      "|   john|Data Science| 10000|\n",
      "|Stephen|         IOT|  5000|\n",
      "|   NULL|     Bigdata|  4000|\n",
      "|  Krish|Data Science| 20000|\n",
      "|    Joe|Data Science| 10000|\n",
      "|Stephen|         IOT|  5000|\n",
      "|   jack|     Bigdata| 10000|\n",
      "|  Krish|        NULL|  8000|\n",
      "+-------+------------+------+\n",
      "\n"
     ]
    }
   ],
   "source": [
    "df.na.drop(how='any',subset = 'Salary').show()"
   ]
  },
  {
   "cell_type": "code",
   "execution_count": 47,
   "id": "7b59e32d",
   "metadata": {},
   "outputs": [
    {
     "name": "stdout",
     "output_type": "stream",
     "text": [
      "+-------+------------+------+\n",
      "|   Name|  Department|Salary|\n",
      "+-------+------------+------+\n",
      "|   john|Data Science| 10000|\n",
      "|Stephen|         IOT|  5000|\n",
      "|   NULL|     Bigdata|  4000|\n",
      "|  Krish|Data Science| 20000|\n",
      "|    Joe|Data Science| 10000|\n",
      "|Stephen|         IOT|  5000|\n",
      "|   jack|     Bigdata| 10000|\n",
      "+-------+------------+------+\n",
      "\n"
     ]
    }
   ],
   "source": [
    "df.na.drop(how='any',subset = ['Salary','Department']).show()"
   ]
  },
  {
   "cell_type": "code",
   "execution_count": 48,
   "id": "4eb3c1f3",
   "metadata": {},
   "outputs": [
    {
     "name": "stdout",
     "output_type": "stream",
     "text": [
      "+-------------+-------------+------+\n",
      "|         Name|   Department|Salary|\n",
      "+-------------+-------------+------+\n",
      "|         john| Data Science| 10000|\n",
      "|      Stephen|          IOT|  5000|\n",
      "|missing value|      Bigdata|  4000|\n",
      "|         paul|      Bigdata|  NULL|\n",
      "|        Krish| Data Science| 20000|\n",
      "|          Joe| Data Science| 10000|\n",
      "|      Stephen|          IOT|  5000|\n",
      "|         jack|      Bigdata| 10000|\n",
      "|        Krish|missing value|  8000|\n",
      "+-------------+-------------+------+\n",
      "\n"
     ]
    }
   ],
   "source": [
    "df.na.fill('missing value').show() #here salary is not replaced wityh missing value because it's an integer"
   ]
  },
  {
   "cell_type": "code",
   "execution_count": 49,
   "id": "ce3c8505",
   "metadata": {},
   "outputs": [
    {
     "name": "stdout",
     "output_type": "stream",
     "text": [
      "+-------------+------------+------+\n",
      "|         Name|  Department|Salary|\n",
      "+-------------+------------+------+\n",
      "|         john|Data Science| 10000|\n",
      "|      Stephen|         IOT|  5000|\n",
      "|missing value|     Bigdata|  4000|\n",
      "|         paul|     Bigdata|  NULL|\n",
      "|        Krish|Data Science| 20000|\n",
      "|          Joe|Data Science| 10000|\n",
      "|      Stephen|         IOT|  5000|\n",
      "|         jack|     Bigdata| 10000|\n",
      "|        Krish|        NULL|  8000|\n",
      "+-------------+------------+------+\n",
      "\n"
     ]
    }
   ],
   "source": [
    "df.na.fill('missing value','Name').show()"
   ]
  },
  {
   "cell_type": "code",
   "execution_count": 50,
   "id": "79918979",
   "metadata": {},
   "outputs": [
    {
     "name": "stdout",
     "output_type": "stream",
     "text": [
      "+-------------+-------------+------+\n",
      "|         Name|   Department|Salary|\n",
      "+-------------+-------------+------+\n",
      "|         john| Data Science| 10000|\n",
      "|      Stephen|          IOT|  5000|\n",
      "|missing value|      Bigdata|  4000|\n",
      "|         paul|      Bigdata|  NULL|\n",
      "|        Krish| Data Science| 20000|\n",
      "|          Joe| Data Science| 10000|\n",
      "|      Stephen|          IOT|  5000|\n",
      "|         jack|      Bigdata| 10000|\n",
      "|        Krish|missing value|  8000|\n",
      "+-------------+-------------+------+\n",
      "\n"
     ]
    }
   ],
   "source": [
    "df.na.fill('missing value',['Name','Department']).show()"
   ]
  },
  {
   "cell_type": "code",
   "execution_count": null,
   "id": "74bcf431",
   "metadata": {},
   "outputs": [],
   "source": []
  },
  {
   "cell_type": "code",
   "execution_count": 51,
   "id": "8b0143f8",
   "metadata": {},
   "outputs": [],
   "source": [
    "from pyspark.ml.feature import Imputer"
   ]
  },
  {
   "cell_type": "code",
   "execution_count": 54,
   "id": "25235356",
   "metadata": {},
   "outputs": [],
   "source": [
    "imputer = Imputer(\n",
    "inputCols = ['Salary'],\n",
    "outputCols = [\"{}_imputed\".format(c) for c in ['Salary']] ).setStrategy(\"mode\")"
   ]
  },
  {
   "cell_type": "code",
   "execution_count": 55,
   "id": "159621f7",
   "metadata": {},
   "outputs": [
    {
     "name": "stdout",
     "output_type": "stream",
     "text": [
      "+-------+------------+------+--------------+\n",
      "|   Name|  Department|Salary|Salary_imputed|\n",
      "+-------+------------+------+--------------+\n",
      "|   john|Data Science| 10000|         10000|\n",
      "|Stephen|         IOT|  5000|          5000|\n",
      "|   NULL|     Bigdata|  4000|          4000|\n",
      "|   paul|     Bigdata|  NULL|         10000|\n",
      "|  Krish|Data Science| 20000|         20000|\n",
      "|    Joe|Data Science| 10000|         10000|\n",
      "|Stephen|         IOT|  5000|          5000|\n",
      "|   jack|     Bigdata| 10000|         10000|\n",
      "|  Krish|        NULL|  8000|          8000|\n",
      "+-------+------------+------+--------------+\n",
      "\n"
     ]
    }
   ],
   "source": [
    "imputer.fit(df).transform(df).show()"
   ]
  },
  {
   "cell_type": "code",
   "execution_count": 56,
   "id": "2b62c449",
   "metadata": {},
   "outputs": [],
   "source": [
    "from pyspark.ml.feature import Imputer"
   ]
  },
  {
   "cell_type": "code",
   "execution_count": 59,
   "id": "f1b474dc",
   "metadata": {},
   "outputs": [],
   "source": [
    "imputer = Imputer(\n",
    "    inputCols = ['Salary'],\n",
    "    outputCols = [f'{c}_imputed' for c in ['Salary']]  \n",
    ").setStrategy(\"mode\")"
   ]
  },
  {
   "cell_type": "code",
   "execution_count": 60,
   "id": "a7c988de",
   "metadata": {},
   "outputs": [
    {
     "name": "stdout",
     "output_type": "stream",
     "text": [
      "+-------+------------+------+--------------+\n",
      "|   Name|  Department|Salary|Salary_imputed|\n",
      "+-------+------------+------+--------------+\n",
      "|   john|Data Science| 10000|         10000|\n",
      "|Stephen|         IOT|  5000|          5000|\n",
      "|   NULL|     Bigdata|  4000|          4000|\n",
      "|   paul|     Bigdata|  NULL|         10000|\n",
      "|  Krish|Data Science| 20000|         20000|\n",
      "|    Joe|Data Science| 10000|         10000|\n",
      "|Stephen|         IOT|  5000|          5000|\n",
      "|   jack|     Bigdata| 10000|         10000|\n",
      "|  Krish|        NULL|  8000|          8000|\n",
      "+-------+------------+------+--------------+\n",
      "\n"
     ]
    }
   ],
   "source": [
    "imputer.fit(df).transform(df).show()"
   ]
  },
  {
   "cell_type": "code",
   "execution_count": 61,
   "id": "e09cd30b",
   "metadata": {},
   "outputs": [],
   "source": [
    "from pyspark.ml.feature import Imputer"
   ]
  },
  {
   "cell_type": "code",
   "execution_count": 67,
   "id": "917d9bbf",
   "metadata": {},
   "outputs": [],
   "source": [
    "imputer = Imputer(\n",
    "    inputCols = ['Salary'],\n",
    "    outputCols = [f'{c}_imputed' for c in ['Salary']]\n",
    ").setStrategy('mean')\n"
   ]
  },
  {
   "cell_type": "code",
   "execution_count": 68,
   "id": "21483877",
   "metadata": {},
   "outputs": [
    {
     "name": "stdout",
     "output_type": "stream",
     "text": [
      "+-------+------------+------+--------------+\n",
      "|   Name|  Department|Salary|Salary_imputed|\n",
      "+-------+------------+------+--------------+\n",
      "|   john|Data Science| 10000|         10000|\n",
      "|Stephen|         IOT|  5000|          5000|\n",
      "|   NULL|     Bigdata|  4000|          4000|\n",
      "|   paul|     Bigdata|  NULL|          9000|\n",
      "|  Krish|Data Science| 20000|         20000|\n",
      "|    Joe|Data Science| 10000|         10000|\n",
      "|Stephen|         IOT|  5000|          5000|\n",
      "|   jack|     Bigdata| 10000|         10000|\n",
      "|  Krish|        NULL|  8000|          8000|\n",
      "+-------+------------+------+--------------+\n",
      "\n"
     ]
    }
   ],
   "source": [
    "imputer.fit(df).transform(df).show()"
   ]
  },
  {
   "cell_type": "code",
   "execution_count": 69,
   "id": "e0790d96",
   "metadata": {},
   "outputs": [],
   "source": [
    "from pyspark.sql import SparkSession\n"
   ]
  },
  {
   "cell_type": "code",
   "execution_count": 70,
   "id": "9800e45d",
   "metadata": {},
   "outputs": [],
   "source": [
    "spark = SparkSession.builder.appName('practise').getOrCreate()"
   ]
  },
  {
   "cell_type": "code",
   "execution_count": 73,
   "id": "ae10af93",
   "metadata": {},
   "outputs": [],
   "source": [
    "df = spark.read.csv(r\"C:\\Users\\pavan\\OneDrive\\Desktop\\datasets\\test3.csv\", header = True, inferSchema = True)"
   ]
  },
  {
   "cell_type": "code",
   "execution_count": 74,
   "id": "ceac2bfb",
   "metadata": {},
   "outputs": [
    {
     "name": "stdout",
     "output_type": "stream",
     "text": [
      "+-------+---+----------+------+\n",
      "|   Name|Age|Experience|Salary|\n",
      "+-------+---+----------+------+\n",
      "|   john| 31|        10| 10000|\n",
      "|Stephen| 30|         8|  5000|\n",
      "|  Stacy| 29|         4|  4000|\n",
      "|   paul| 24|         3|  3000|\n",
      "|  Krish| 21|         1| 20000|\n",
      "|    Joe| 23|         2| 10000|\n",
      "|Stephen| 22|         2|  5000|\n",
      "|   jack| 19|         1| 10000|\n",
      "|  Krish| 20|         2|  8000|\n",
      "+-------+---+----------+------+\n",
      "\n"
     ]
    }
   ],
   "source": [
    "df.show()"
   ]
  },
  {
   "cell_type": "code",
   "execution_count": 75,
   "id": "fc944c97",
   "metadata": {},
   "outputs": [
    {
     "name": "stdout",
     "output_type": "stream",
     "text": [
      "root\n",
      " |-- Name: string (nullable = true)\n",
      " |-- Age: integer (nullable = true)\n",
      " |-- Experience: integer (nullable = true)\n",
      " |-- Salary: integer (nullable = true)\n",
      "\n"
     ]
    }
   ],
   "source": [
    "df.printSchema()"
   ]
  },
  {
   "cell_type": "code",
   "execution_count": 76,
   "id": "050c2ebf",
   "metadata": {},
   "outputs": [
    {
     "data": {
      "text/plain": [
       "['Name', 'Age', 'Experience', 'Salary']"
      ]
     },
     "execution_count": 76,
     "metadata": {},
     "output_type": "execute_result"
    }
   ],
   "source": [
    "df.columns"
   ]
  },
  {
   "cell_type": "code",
   "execution_count": 78,
   "id": "1534396a",
   "metadata": {},
   "outputs": [
    {
     "name": "stdout",
     "output_type": "stream",
     "text": [
      "+-----+---+----------+------+\n",
      "| Name|Age|Experience|Salary|\n",
      "+-----+---+----------+------+\n",
      "|Krish| 21|         1| 20000|\n",
      "+-----+---+----------+------+\n",
      "\n"
     ]
    }
   ],
   "source": [
    "df.filter('Salary >= 20000').show()"
   ]
  },
  {
   "cell_type": "code",
   "execution_count": 80,
   "id": "15d38c51",
   "metadata": {},
   "outputs": [
    {
     "name": "stdout",
     "output_type": "stream",
     "text": [
      "+----+---+----------+------+\n",
      "|Name|Age|Experience|Salary|\n",
      "+----+---+----------+------+\n",
      "|john| 31|        10| 10000|\n",
      "+----+---+----------+------+\n",
      "\n"
     ]
    }
   ],
   "source": [
    "df.filter(df['Age'] > 30).show()"
   ]
  },
  {
   "cell_type": "code",
   "execution_count": 82,
   "id": "d4363009",
   "metadata": {},
   "outputs": [
    {
     "name": "stdout",
     "output_type": "stream",
     "text": [
      "+-------+---+----------+------+\n",
      "|   Name|Age|Experience|Salary|\n",
      "+-------+---+----------+------+\n",
      "|   john| 31|        10| 10000|\n",
      "|Stephen| 30|         8|  5000|\n",
      "+-------+---+----------+------+\n",
      "\n"
     ]
    }
   ],
   "source": [
    "df.filter(~(df['Age']<30)).show()"
   ]
  },
  {
   "cell_type": "code",
   "execution_count": 87,
   "id": "42045c74",
   "metadata": {},
   "outputs": [
    {
     "name": "stdout",
     "output_type": "stream",
     "text": [
      "+-------+---+----------+------+\n",
      "|   Name|Age|Experience|Salary|\n",
      "+-------+---+----------+------+\n",
      "|   john| 31|        10| 10000|\n",
      "|Stephen| 30|         8|  5000|\n",
      "|  Stacy| 29|         4|  4000|\n",
      "|   paul| 24|         3|  3000|\n",
      "|  Krish| 21|         1| 20000|\n",
      "|    Joe| 23|         2| 10000|\n",
      "|Stephen| 22|         2|  5000|\n",
      "|   jack| 19|         1| 10000|\n",
      "|  Krish| 20|         2|  8000|\n",
      "+-------+---+----------+------+\n",
      "\n"
     ]
    }
   ],
   "source": [
    "df.filter((df['Age']>30) | (df['Salary'] > 1000)).show()"
   ]
  },
  {
   "cell_type": "code",
   "execution_count": 88,
   "id": "0cb06992",
   "metadata": {},
   "outputs": [],
   "source": [
    "from pyspark.sql import SparkSession"
   ]
  },
  {
   "cell_type": "code",
   "execution_count": 89,
   "id": "43ee8611",
   "metadata": {},
   "outputs": [],
   "source": [
    "spark = SparkSession.builder.appName('practise').getOrCreate()"
   ]
  },
  {
   "cell_type": "code",
   "execution_count": 90,
   "id": "c0f95e4a",
   "metadata": {},
   "outputs": [],
   "source": [
    "df = spark.read.csv(r\"C:\\Users\\pavan\\OneDrive\\Desktop\\datasets\\test2.csv\",header = True, inferSchema = True)"
   ]
  },
  {
   "cell_type": "code",
   "execution_count": 91,
   "id": "4b6e7c62",
   "metadata": {},
   "outputs": [
    {
     "name": "stdout",
     "output_type": "stream",
     "text": [
      "+-------+------------+------+\n",
      "|   Name|  Department|Salary|\n",
      "+-------+------------+------+\n",
      "|   john|Data Science| 10000|\n",
      "|Stephen|         IOT|  5000|\n",
      "|   NULL|     Bigdata|  4000|\n",
      "|   paul|     Bigdata|  NULL|\n",
      "|  Krish|Data Science| 20000|\n",
      "|    Joe|Data Science| 10000|\n",
      "|Stephen|         IOT|  5000|\n",
      "|   jack|     Bigdata| 10000|\n",
      "|  Krish|        NULL|  8000|\n",
      "+-------+------------+------+\n",
      "\n"
     ]
    }
   ],
   "source": [
    "df.show()"
   ]
  },
  {
   "cell_type": "code",
   "execution_count": 95,
   "id": "0efbe7de",
   "metadata": {},
   "outputs": [
    {
     "name": "stdout",
     "output_type": "stream",
     "text": [
      "+-------+-----------+\n",
      "|   Name|sum(Salary)|\n",
      "+-------+-----------+\n",
      "|    Joe|      10000|\n",
      "|   NULL|       4000|\n",
      "|   jack|      10000|\n",
      "|   paul|       NULL|\n",
      "|  Krish|      28000|\n",
      "|   john|      10000|\n",
      "|Stephen|      10000|\n",
      "+-------+-----------+\n",
      "\n"
     ]
    }
   ],
   "source": [
    "df.groupby('Name').sum().show()"
   ]
  },
  {
   "cell_type": "code",
   "execution_count": 97,
   "id": "45115a2a",
   "metadata": {},
   "outputs": [
    {
     "name": "stdout",
     "output_type": "stream",
     "text": [
      "+------------+-----------+\n",
      "|  Department|sum(Salary)|\n",
      "+------------+-----------+\n",
      "|         IOT|      10000|\n",
      "|        NULL|       8000|\n",
      "|     Bigdata|      14000|\n",
      "|Data Science|      40000|\n",
      "+------------+-----------+\n",
      "\n"
     ]
    }
   ],
   "source": [
    "df.groupby('Department').sum().show()"
   ]
  },
  {
   "cell_type": "code",
   "execution_count": 98,
   "id": "31d911c3",
   "metadata": {},
   "outputs": [
    {
     "name": "stdout",
     "output_type": "stream",
     "text": [
      "+------------+-----------+\n",
      "|  Department|min(Salary)|\n",
      "+------------+-----------+\n",
      "|         IOT|       5000|\n",
      "|        NULL|       8000|\n",
      "|     Bigdata|       4000|\n",
      "|Data Science|      10000|\n",
      "+------------+-----------+\n",
      "\n"
     ]
    }
   ],
   "source": [
    "df.groupby('Department').min().show()"
   ]
  },
  {
   "cell_type": "code",
   "execution_count": 99,
   "id": "a5d00405",
   "metadata": {},
   "outputs": [
    {
     "name": "stdout",
     "output_type": "stream",
     "text": [
      "+------------+-----------+\n",
      "|  Department|max(Salary)|\n",
      "+------------+-----------+\n",
      "|         IOT|       5000|\n",
      "|        NULL|       8000|\n",
      "|     Bigdata|      10000|\n",
      "|Data Science|      20000|\n",
      "+------------+-----------+\n",
      "\n"
     ]
    }
   ],
   "source": [
    "df.groupby('Department').max().show()"
   ]
  },
  {
   "cell_type": "code",
   "execution_count": 100,
   "id": "87d83f55",
   "metadata": {},
   "outputs": [
    {
     "name": "stdout",
     "output_type": "stream",
     "text": [
      "+------------+-----+\n",
      "|  Department|count|\n",
      "+------------+-----+\n",
      "|         IOT|    2|\n",
      "|        NULL|    1|\n",
      "|     Bigdata|    3|\n",
      "|Data Science|    3|\n",
      "+------------+-----+\n",
      "\n"
     ]
    }
   ],
   "source": [
    "df.groupby('Department').count().show()"
   ]
  },
  {
   "cell_type": "code",
   "execution_count": 101,
   "id": "69b95c7d",
   "metadata": {},
   "outputs": [
    {
     "name": "stdout",
     "output_type": "stream",
     "text": [
      "+------------+------------------+\n",
      "|  Department|       avg(Salary)|\n",
      "+------------+------------------+\n",
      "|         IOT|            5000.0|\n",
      "|        NULL|            8000.0|\n",
      "|     Bigdata|            7000.0|\n",
      "|Data Science|13333.333333333334|\n",
      "+------------+------------------+\n",
      "\n"
     ]
    }
   ],
   "source": [
    "df.groupby('Department').avg().show()"
   ]
  },
  {
   "cell_type": "code",
   "execution_count": 102,
   "id": "a08e6cac",
   "metadata": {},
   "outputs": [
    {
     "name": "stdout",
     "output_type": "stream",
     "text": [
      "+------------+------------------+\n",
      "|  Department|       avg(Salary)|\n",
      "+------------+------------------+\n",
      "|         IOT|            5000.0|\n",
      "|        NULL|            8000.0|\n",
      "|     Bigdata|            7000.0|\n",
      "|Data Science|13333.333333333334|\n",
      "+------------+------------------+\n",
      "\n"
     ]
    }
   ],
   "source": [
    "df.groupby('Department').mean().show()"
   ]
  },
  {
   "cell_type": "code",
   "execution_count": 107,
   "id": "5183b49b",
   "metadata": {},
   "outputs": [
    {
     "name": "stdout",
     "output_type": "stream",
     "text": [
      "+-----------+\n",
      "|sum(Salary)|\n",
      "+-----------+\n",
      "|      72000|\n",
      "+-----------+\n",
      "\n"
     ]
    }
   ],
   "source": [
    "df.agg({'Salary':'sum'}).show()"
   ]
  },
  {
   "cell_type": "code",
   "execution_count": 1,
   "id": "ca7b59f4",
   "metadata": {},
   "outputs": [],
   "source": [
    "from pyspark.sql import SparkSession"
   ]
  },
  {
   "cell_type": "code",
   "execution_count": 2,
   "id": "be2955dd",
   "metadata": {},
   "outputs": [],
   "source": [
    "spark = SparkSession.builder.appName('Practise').getOrCreate()"
   ]
  },
  {
   "cell_type": "code",
   "execution_count": 17,
   "id": "97f91696",
   "metadata": {},
   "outputs": [],
   "source": [
    "df = spark.read.csv(r\"C:\\Users\\pavan\\OneDrive\\Desktop\\datasets\\test2.csv\", header = True, inferSchema = True)"
   ]
  },
  {
   "cell_type": "code",
   "execution_count": 18,
   "id": "5f2c625f",
   "metadata": {},
   "outputs": [
    {
     "name": "stdout",
     "output_type": "stream",
     "text": [
      "+-------+------------+------+\n",
      "|   Name|  Department|Salary|\n",
      "+-------+------------+------+\n",
      "|   john|Data Science| 10000|\n",
      "|Stephen|         IOT|  5000|\n",
      "|   NULL|     Bigdata|  4000|\n",
      "|   paul|     Bigdata|  NULL|\n",
      "|  Krish|Data Science| 20000|\n",
      "|    Joe|Data Science| 10000|\n",
      "|Stephen|         IOT|  5000|\n",
      "|   jack|     Bigdata| 10000|\n",
      "|  Krish|        NULL|  8000|\n",
      "+-------+------------+------+\n",
      "\n"
     ]
    }
   ],
   "source": [
    "df.show()"
   ]
  },
  {
   "cell_type": "code",
   "execution_count": 19,
   "id": "64f8974c",
   "metadata": {},
   "outputs": [
    {
     "name": "stdout",
     "output_type": "stream",
     "text": [
      "root\n",
      " |-- Name: string (nullable = true)\n",
      " |-- Department: string (nullable = true)\n",
      " |-- Salary: integer (nullable = true)\n",
      "\n"
     ]
    }
   ],
   "source": [
    "df.printSchema()"
   ]
  },
  {
   "cell_type": "code",
   "execution_count": 23,
   "id": "37eaa3b6",
   "metadata": {},
   "outputs": [
    {
     "name": "stdout",
     "output_type": "stream",
     "text": [
      "+-------+------------+------+\n",
      "|   Name|  Department|Salary|\n",
      "+-------+------------+------+\n",
      "|   john|Data Science| 10000|\n",
      "|Stephen|         IOT|  5000|\n",
      "|   NULL|     Bigdata|  4000|\n",
      "|   paul|     Bigdata|  NULL|\n",
      "|  Krish|Data Science| 20000|\n",
      "|    Joe|Data Science| 10000|\n",
      "|Stephen|         IOT|  5000|\n",
      "|   jack|     Bigdata| 10000|\n",
      "|  Krish|        NULL|  8000|\n",
      "+-------+------------+------+\n",
      "\n"
     ]
    }
   ],
   "source": [
    "df.na.drop(how = \"all\", thresh = 2).show()"
   ]
  },
  {
   "cell_type": "code",
   "execution_count": 24,
   "id": "f3313acb",
   "metadata": {},
   "outputs": [],
   "source": [
    "df = spark.read.csv(r\"C:\\Users\\pavan\\OneDrive\\Desktop\\datasets\\test3.csv\", header = True, inferSchema = True)"
   ]
  },
  {
   "cell_type": "code",
   "execution_count": 25,
   "id": "523ad02c",
   "metadata": {},
   "outputs": [
    {
     "name": "stdout",
     "output_type": "stream",
     "text": [
      "+-------+---+----------+------+\n",
      "|   Name|Age|Experience|Salary|\n",
      "+-------+---+----------+------+\n",
      "|   john| 31|        10| 10000|\n",
      "|Stephen| 30|         8|  5000|\n",
      "|  Stacy| 29|         4|  4000|\n",
      "|   paul| 24|         3|  3000|\n",
      "|  Krish| 21|         1| 20000|\n",
      "|    Joe| 23|         2| 10000|\n",
      "|Stephen| 22|         2|  5000|\n",
      "|   jack| 19|         1| 10000|\n",
      "|  Krish| 20|         2|  8000|\n",
      "+-------+---+----------+------+\n",
      "\n"
     ]
    }
   ],
   "source": [
    "df.show()"
   ]
  },
  {
   "cell_type": "code",
   "execution_count": 26,
   "id": "4d62ea85",
   "metadata": {},
   "outputs": [],
   "source": [
    "from pyspark.ml.feature import VectorAssembler"
   ]
  },
  {
   "cell_type": "code",
   "execution_count": 28,
   "id": "fe57723a",
   "metadata": {},
   "outputs": [],
   "source": [
    "featureassembler = VectorAssembler(inputCols = ['Age', 'Experience'], outputCol = 'independent feature')"
   ]
  },
  {
   "cell_type": "code",
   "execution_count": 32,
   "id": "137e3b8e",
   "metadata": {},
   "outputs": [],
   "source": [
    "output = featureassembler.transform(df)"
   ]
  },
  {
   "cell_type": "code",
   "execution_count": 33,
   "id": "f68e4a40",
   "metadata": {},
   "outputs": [
    {
     "name": "stdout",
     "output_type": "stream",
     "text": [
      "+-------+---+----------+------+-------------------+\n",
      "|   Name|Age|Experience|Salary|independent feature|\n",
      "+-------+---+----------+------+-------------------+\n",
      "|   john| 31|        10| 10000|        [31.0,10.0]|\n",
      "|Stephen| 30|         8|  5000|         [30.0,8.0]|\n",
      "|  Stacy| 29|         4|  4000|         [29.0,4.0]|\n",
      "|   paul| 24|         3|  3000|         [24.0,3.0]|\n",
      "|  Krish| 21|         1| 20000|         [21.0,1.0]|\n",
      "|    Joe| 23|         2| 10000|         [23.0,2.0]|\n",
      "|Stephen| 22|         2|  5000|         [22.0,2.0]|\n",
      "|   jack| 19|         1| 10000|         [19.0,1.0]|\n",
      "|  Krish| 20|         2|  8000|         [20.0,2.0]|\n",
      "+-------+---+----------+------+-------------------+\n",
      "\n"
     ]
    }
   ],
   "source": [
    "output.show()"
   ]
  },
  {
   "cell_type": "code",
   "execution_count": 34,
   "id": "9f79fed5",
   "metadata": {},
   "outputs": [],
   "source": [
    "output_df = output.select(['independent feature', 'Salary'])"
   ]
  },
  {
   "cell_type": "code",
   "execution_count": 35,
   "id": "f5f81a88",
   "metadata": {},
   "outputs": [
    {
     "name": "stdout",
     "output_type": "stream",
     "text": [
      "+-------------------+------+\n",
      "|independent feature|Salary|\n",
      "+-------------------+------+\n",
      "|        [31.0,10.0]| 10000|\n",
      "|         [30.0,8.0]|  5000|\n",
      "|         [29.0,4.0]|  4000|\n",
      "|         [24.0,3.0]|  3000|\n",
      "|         [21.0,1.0]| 20000|\n",
      "|         [23.0,2.0]| 10000|\n",
      "|         [22.0,2.0]|  5000|\n",
      "|         [19.0,1.0]| 10000|\n",
      "|         [20.0,2.0]|  8000|\n",
      "+-------------------+------+\n",
      "\n"
     ]
    }
   ],
   "source": [
    "output_df.show()"
   ]
  },
  {
   "cell_type": "code",
   "execution_count": 38,
   "id": "8ddbc1c4",
   "metadata": {},
   "outputs": [],
   "source": [
    "from pyspark.ml.regression import LinearRegression"
   ]
  },
  {
   "cell_type": "code",
   "execution_count": 39,
   "id": "bca78460",
   "metadata": {},
   "outputs": [],
   "source": [
    "train_data, test_data = output_df.randomSplit([0.75,0.25])"
   ]
  },
  {
   "cell_type": "code",
   "execution_count": 40,
   "id": "ff99fc0b",
   "metadata": {},
   "outputs": [
    {
     "name": "stdout",
     "output_type": "stream",
     "text": [
      "+-------------------+------+\n",
      "|independent feature|Salary|\n",
      "+-------------------+------+\n",
      "|         [19.0,1.0]| 10000|\n",
      "|         [20.0,2.0]|  8000|\n",
      "|         [21.0,1.0]| 20000|\n",
      "|         [22.0,2.0]|  5000|\n",
      "|         [23.0,2.0]| 10000|\n",
      "|         [24.0,3.0]|  3000|\n",
      "|         [29.0,4.0]|  4000|\n",
      "|        [31.0,10.0]| 10000|\n",
      "+-------------------+------+\n",
      "\n"
     ]
    }
   ],
   "source": [
    "train_data.show()"
   ]
  },
  {
   "cell_type": "code",
   "execution_count": 41,
   "id": "b2d09d5d",
   "metadata": {},
   "outputs": [
    {
     "name": "stdout",
     "output_type": "stream",
     "text": [
      "+-------------------+------+\n",
      "|independent feature|Salary|\n",
      "+-------------------+------+\n",
      "|         [30.0,8.0]|  5000|\n",
      "+-------------------+------+\n",
      "\n"
     ]
    }
   ],
   "source": [
    "test_data.show()"
   ]
  },
  {
   "cell_type": "code",
   "execution_count": 44,
   "id": "a4f9587e",
   "metadata": {},
   "outputs": [],
   "source": [
    "regressor = LinearRegression(featuresCol = 'independent feature', labelCol = 'Salary')"
   ]
  },
  {
   "cell_type": "code",
   "execution_count": 45,
   "id": "ef6c91bf",
   "metadata": {},
   "outputs": [],
   "source": [
    "regressor = regressor.fit(output_df)"
   ]
  },
  {
   "cell_type": "code",
   "execution_count": 47,
   "id": "0c584722",
   "metadata": {},
   "outputs": [
    {
     "data": {
      "text/plain": [
       "DenseVector([-794.057, 602.1461])"
      ]
     },
     "execution_count": 47,
     "metadata": {},
     "output_type": "execute_result"
    }
   ],
   "source": [
    "regressor.coefficients"
   ]
  },
  {
   "cell_type": "code",
   "execution_count": 49,
   "id": "885f810c",
   "metadata": {},
   "outputs": [
    {
     "data": {
      "text/plain": [
       "25447.516852386492"
      ]
     },
     "execution_count": 49,
     "metadata": {},
     "output_type": "execute_result"
    }
   ],
   "source": [
    "regressor.intercept"
   ]
  },
  {
   "cell_type": "code",
   "execution_count": 52,
   "id": "e51453f4",
   "metadata": {},
   "outputs": [],
   "source": [
    "pred_results = regressor.evaluate(test_data)"
   ]
  },
  {
   "cell_type": "code",
   "execution_count": 54,
   "id": "946b6a1a",
   "metadata": {},
   "outputs": [
    {
     "name": "stdout",
     "output_type": "stream",
     "text": [
      "+-------------------+------+-----------------+\n",
      "|independent feature|Salary|       prediction|\n",
      "+-------------------+------+-----------------+\n",
      "|         [30.0,8.0]|  5000|6442.977025725682|\n",
      "+-------------------+------+-----------------+\n",
      "\n"
     ]
    }
   ],
   "source": [
    "pred_results.predictions.show()"
   ]
  },
  {
   "cell_type": "code",
   "execution_count": 55,
   "id": "4baacd94",
   "metadata": {},
   "outputs": [
    {
     "data": {
      "text/plain": [
       "(1442.9770257256823, 2082182.6967721365)"
      ]
     },
     "execution_count": 55,
     "metadata": {},
     "output_type": "execute_result"
    }
   ],
   "source": [
    "pred_results.meanAbsoluteError, pred_results.meanSquaredError"
   ]
  },
  {
   "cell_type": "code",
   "execution_count": 57,
   "id": "131abb74",
   "metadata": {},
   "outputs": [
    {
     "name": "stdout",
     "output_type": "stream",
     "text": [
      "+-------+---+----------+------+\n",
      "|   Name|Age|Experience|Salary|\n",
      "+-------+---+----------+------+\n",
      "|   john| 31|        10| 10000|\n",
      "|Stephen| 30|         8|  5000|\n",
      "|  Stacy| 29|         4|  4000|\n",
      "|   paul| 24|         3|  3000|\n",
      "|  Krish| 21|         1| 20000|\n",
      "|    Joe| 23|         2| 10000|\n",
      "|Stephen| 22|         2|  5000|\n",
      "|   jack| 19|         1| 10000|\n",
      "|  Krish| 20|         2|  8000|\n",
      "+-------+---+----------+------+\n",
      "\n"
     ]
    }
   ],
   "source": [
    "df.show()"
   ]
  },
  {
   "cell_type": "code",
   "execution_count": 58,
   "id": "436c6719",
   "metadata": {},
   "outputs": [],
   "source": [
    "from pyspark.ml.feature import VectorAssembler"
   ]
  },
  {
   "cell_type": "code",
   "execution_count": 59,
   "id": "6c77b5a9",
   "metadata": {},
   "outputs": [],
   "source": [
    "featureassembler = VectorAssembler(inputCols = ['Age','Experience'], outputCol = \"Independent col\")"
   ]
  },
  {
   "cell_type": "code",
   "execution_count": 65,
   "id": "dbfaff1d",
   "metadata": {},
   "outputs": [],
   "source": [
    "output_df= featureassembler.transform(df)"
   ]
  },
  {
   "cell_type": "code",
   "execution_count": 66,
   "id": "46d79b28",
   "metadata": {},
   "outputs": [
    {
     "name": "stdout",
     "output_type": "stream",
     "text": [
      "+-------+---+----------+------+---------------+\n",
      "|   Name|Age|Experience|Salary|Independent col|\n",
      "+-------+---+----------+------+---------------+\n",
      "|   john| 31|        10| 10000|    [31.0,10.0]|\n",
      "|Stephen| 30|         8|  5000|     [30.0,8.0]|\n",
      "|  Stacy| 29|         4|  4000|     [29.0,4.0]|\n",
      "|   paul| 24|         3|  3000|     [24.0,3.0]|\n",
      "|  Krish| 21|         1| 20000|     [21.0,1.0]|\n",
      "|    Joe| 23|         2| 10000|     [23.0,2.0]|\n",
      "|Stephen| 22|         2|  5000|     [22.0,2.0]|\n",
      "|   jack| 19|         1| 10000|     [19.0,1.0]|\n",
      "|  Krish| 20|         2|  8000|     [20.0,2.0]|\n",
      "+-------+---+----------+------+---------------+\n",
      "\n"
     ]
    }
   ],
   "source": [
    "output_df.show()"
   ]
  },
  {
   "cell_type": "code",
   "execution_count": 68,
   "id": "1a1d3903",
   "metadata": {},
   "outputs": [],
   "source": [
    "output_df= output_df.select(['Independent col', 'Salary'])"
   ]
  },
  {
   "cell_type": "code",
   "execution_count": 69,
   "id": "a68e8a51",
   "metadata": {},
   "outputs": [
    {
     "name": "stdout",
     "output_type": "stream",
     "text": [
      "+---------------+------+\n",
      "|Independent col|Salary|\n",
      "+---------------+------+\n",
      "|    [31.0,10.0]| 10000|\n",
      "|     [30.0,8.0]|  5000|\n",
      "|     [29.0,4.0]|  4000|\n",
      "|     [24.0,3.0]|  3000|\n",
      "|     [21.0,1.0]| 20000|\n",
      "|     [23.0,2.0]| 10000|\n",
      "|     [22.0,2.0]|  5000|\n",
      "|     [19.0,1.0]| 10000|\n",
      "|     [20.0,2.0]|  8000|\n",
      "+---------------+------+\n",
      "\n"
     ]
    }
   ],
   "source": [
    "output_df.show()"
   ]
  },
  {
   "cell_type": "code",
   "execution_count": 71,
   "id": "87488ef5",
   "metadata": {},
   "outputs": [],
   "source": [
    "from pyspark.ml.regression import LinearRegression"
   ]
  },
  {
   "cell_type": "code",
   "execution_count": 72,
   "id": "02cffc00",
   "metadata": {},
   "outputs": [],
   "source": [
    "train_data, test_data = output_df.randomSplit([0.75,0.25])"
   ]
  },
  {
   "cell_type": "code",
   "execution_count": 73,
   "id": "371a7439",
   "metadata": {},
   "outputs": [],
   "source": [
    "regressor = LinearRegression(featuresCol = 'Independent col', labelCol = 'Salary')"
   ]
  },
  {
   "cell_type": "code",
   "execution_count": 74,
   "id": "06b67a5a",
   "metadata": {},
   "outputs": [],
   "source": [
    "regressor = regressor.fit(train_data)"
   ]
  },
  {
   "cell_type": "code",
   "execution_count": 75,
   "id": "fb570c8a",
   "metadata": {},
   "outputs": [
    {
     "data": {
      "text/plain": [
       "DenseVector([1016.4609, -2833.3333])"
      ]
     },
     "execution_count": 75,
     "metadata": {},
     "output_type": "execute_result"
    }
   ],
   "source": [
    "regressor.coefficients"
   ]
  },
  {
   "cell_type": "code",
   "execution_count": 77,
   "id": "99fe11c2",
   "metadata": {},
   "outputs": [],
   "source": [
    "prediction = regressor.evaluate(test_data) "
   ]
  },
  {
   "cell_type": "code",
   "execution_count": 79,
   "id": "a8364d86",
   "metadata": {},
   "outputs": [
    {
     "name": "stdout",
     "output_type": "stream",
     "text": [
      "+---------------+------+-------------------+\n",
      "|Independent col|Salary|         prediction|\n",
      "+---------------+------+-------------------+\n",
      "|     [19.0,1.0]| 10000| 11255.144032921886|\n",
      "|     [22.0,2.0]|  5000| 11471.193415637834|\n",
      "|     [23.0,2.0]| 10000|  12487.65432098756|\n",
      "|     [29.0,4.0]|  4000| 12919.753086419452|\n",
      "|    [31.0,10.0]| 10000|-2047.3251028805444|\n",
      "+---------------+------+-------------------+\n",
      "\n"
     ]
    }
   ],
   "source": [
    "prediction.predictions.show()"
   ]
  },
  {
   "cell_type": "code",
   "execution_count": 80,
   "id": "d6af7175",
   "metadata": {},
   "outputs": [],
   "source": [
    "from pyspark.ml.feature import VectorAssembler"
   ]
  },
  {
   "cell_type": "code",
   "execution_count": 81,
   "id": "2365ef0a",
   "metadata": {},
   "outputs": [],
   "source": [
    "featureassembler = VectorAssembler(inputCols = (['Age', 'Experience']), outputCol = 'Independent Col')"
   ]
  },
  {
   "cell_type": "code",
   "execution_count": 84,
   "id": "9cd86c27",
   "metadata": {},
   "outputs": [],
   "source": [
    "output_df = featureassembler.transform(df)"
   ]
  },
  {
   "cell_type": "code",
   "execution_count": 85,
   "id": "d338fa85",
   "metadata": {},
   "outputs": [
    {
     "name": "stdout",
     "output_type": "stream",
     "text": [
      "+-------+---+----------+------+---------------+\n",
      "|   Name|Age|Experience|Salary|Independent Col|\n",
      "+-------+---+----------+------+---------------+\n",
      "|   john| 31|        10| 10000|    [31.0,10.0]|\n",
      "|Stephen| 30|         8|  5000|     [30.0,8.0]|\n",
      "|  Stacy| 29|         4|  4000|     [29.0,4.0]|\n",
      "|   paul| 24|         3|  3000|     [24.0,3.0]|\n",
      "|  Krish| 21|         1| 20000|     [21.0,1.0]|\n",
      "|    Joe| 23|         2| 10000|     [23.0,2.0]|\n",
      "|Stephen| 22|         2|  5000|     [22.0,2.0]|\n",
      "|   jack| 19|         1| 10000|     [19.0,1.0]|\n",
      "|  Krish| 20|         2|  8000|     [20.0,2.0]|\n",
      "+-------+---+----------+------+---------------+\n",
      "\n"
     ]
    }
   ],
   "source": [
    "output_df.show()"
   ]
  },
  {
   "cell_type": "code",
   "execution_count": 87,
   "id": "29c10fd4",
   "metadata": {},
   "outputs": [],
   "source": [
    "output_df = output_df.select(['Independent Col','Salary'])"
   ]
  },
  {
   "cell_type": "code",
   "execution_count": 88,
   "id": "5da2dcff",
   "metadata": {},
   "outputs": [
    {
     "name": "stdout",
     "output_type": "stream",
     "text": [
      "+---------------+------+\n",
      "|Independent Col|Salary|\n",
      "+---------------+------+\n",
      "|    [31.0,10.0]| 10000|\n",
      "|     [30.0,8.0]|  5000|\n",
      "|     [29.0,4.0]|  4000|\n",
      "|     [24.0,3.0]|  3000|\n",
      "|     [21.0,1.0]| 20000|\n",
      "|     [23.0,2.0]| 10000|\n",
      "|     [22.0,2.0]|  5000|\n",
      "|     [19.0,1.0]| 10000|\n",
      "|     [20.0,2.0]|  8000|\n",
      "+---------------+------+\n",
      "\n"
     ]
    }
   ],
   "source": [
    "output_df.show()"
   ]
  },
  {
   "cell_type": "code",
   "execution_count": 90,
   "id": "24cd9270",
   "metadata": {},
   "outputs": [],
   "source": [
    "from pyspark.ml.regression import LinearRegression"
   ]
  },
  {
   "cell_type": "code",
   "execution_count": 91,
   "id": "08498317",
   "metadata": {},
   "outputs": [],
   "source": [
    "train_data, test_data = output_df.randomSplit([0.75,0.25])"
   ]
  },
  {
   "cell_type": "code",
   "execution_count": 96,
   "id": "4c2ffd0d",
   "metadata": {},
   "outputs": [],
   "source": [
    "regressor = LinearRegression(featuresCol = 'Independent Col', labelCol = 'Salary')"
   ]
  },
  {
   "cell_type": "code",
   "execution_count": 98,
   "id": "3040e1f3",
   "metadata": {},
   "outputs": [],
   "source": [
    "regressor = regressor.fit(train_data)"
   ]
  },
  {
   "cell_type": "code",
   "execution_count": 100,
   "id": "ae5daf20",
   "metadata": {},
   "outputs": [
    {
     "data": {
      "text/plain": [
       "DenseVector([-794.057, 602.1461])"
      ]
     },
     "execution_count": 100,
     "metadata": {},
     "output_type": "execute_result"
    }
   ],
   "source": [
    "regressor.coefficients\n"
   ]
  },
  {
   "cell_type": "code",
   "execution_count": 101,
   "id": "bab3277f",
   "metadata": {},
   "outputs": [
    {
     "data": {
      "text/plain": [
       "25447.516852386492"
      ]
     },
     "execution_count": 101,
     "metadata": {},
     "output_type": "execute_result"
    }
   ],
   "source": [
    "regressor.intercept"
   ]
  },
  {
   "cell_type": "code",
   "execution_count": null,
   "id": "47b42bb5",
   "metadata": {},
   "outputs": [],
   "source": []
  }
 ],
 "metadata": {
  "kernelspec": {
   "display_name": "Python 3 (ipykernel)",
   "language": "python",
   "name": "python3"
  },
  "language_info": {
   "codemirror_mode": {
    "name": "ipython",
    "version": 3
   },
   "file_extension": ".py",
   "mimetype": "text/x-python",
   "name": "python",
   "nbconvert_exporter": "python",
   "pygments_lexer": "ipython3",
   "version": "3.10.9"
  }
 },
 "nbformat": 4,
 "nbformat_minor": 5
}
