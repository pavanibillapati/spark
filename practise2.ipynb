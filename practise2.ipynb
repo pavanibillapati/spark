{
 "cells": [
  {
   "cell_type": "code",
   "execution_count": 2,
   "id": "ab88f3cd",
   "metadata": {},
   "outputs": [],
   "source": [
    "from pyspark.sql import SparkSession"
   ]
  },
  {
   "cell_type": "code",
   "execution_count": 3,
   "id": "5f4b1288",
   "metadata": {},
   "outputs": [],
   "source": [
    "spark = SparkSession.builder.appName('prac').getOrCreate()"
   ]
  },
  {
   "cell_type": "code",
   "execution_count": 4,
   "id": "ffa7fc34",
   "metadata": {},
   "outputs": [
    {
     "data": {
      "text/html": [
       "\n",
       "            <div>\n",
       "                <p><b>SparkSession - in-memory</b></p>\n",
       "                \n",
       "        <div>\n",
       "            <p><b>SparkContext</b></p>\n",
       "\n",
       "            <p><a href=\"http://pavani.mynetworksettings.com:4040\">Spark UI</a></p>\n",
       "\n",
       "            <dl>\n",
       "              <dt>Version</dt>\n",
       "                <dd><code>v3.5.0</code></dd>\n",
       "              <dt>Master</dt>\n",
       "                <dd><code>local[*]</code></dd>\n",
       "              <dt>AppName</dt>\n",
       "                <dd><code>prac</code></dd>\n",
       "            </dl>\n",
       "        </div>\n",
       "        \n",
       "            </div>\n",
       "        "
      ],
      "text/plain": [
       "<pyspark.sql.session.SparkSession at 0x143b7552b00>"
      ]
     },
     "execution_count": 4,
     "metadata": {},
     "output_type": "execute_result"
    }
   ],
   "source": [
    "spark"
   ]
  },
  {
   "cell_type": "code",
   "execution_count": 22,
   "id": "e1429b6f",
   "metadata": {},
   "outputs": [],
   "source": [
    "df = spark.read.csv(r\"C:\\Users\\pavan\\OneDrive\\Desktop\\datasets\\googleplaystore_user_reviews.csv\", header= True, inferSchema= True)"
   ]
  },
  {
   "cell_type": "code",
   "execution_count": 5,
   "id": "56e36227",
   "metadata": {},
   "outputs": [
    {
     "data": {
      "text/plain": [
       "DataFrame[App: string, Translated_Review: string, Sentiment: string, Sentiment_Polarity: string, Sentiment_Subjectivity: string]"
      ]
     },
     "execution_count": 5,
     "metadata": {},
     "output_type": "execute_result"
    }
   ],
   "source": [
    "df"
   ]
  },
  {
   "cell_type": "code",
   "execution_count": 6,
   "id": "a970a47a",
   "metadata": {},
   "outputs": [
    {
     "data": {
      "text/plain": [
       "pyspark.sql.dataframe.DataFrame"
      ]
     },
     "execution_count": 6,
     "metadata": {},
     "output_type": "execute_result"
    }
   ],
   "source": [
    "type(df)"
   ]
  },
  {
   "cell_type": "code",
   "execution_count": 7,
   "id": "5821d7c8",
   "metadata": {},
   "outputs": [
    {
     "name": "stdout",
     "output_type": "stream",
     "text": [
      "+--------------------+--------------------+--------------------+-------------------+----------------------+\n",
      "|                 App|   Translated_Review|           Sentiment| Sentiment_Polarity|Sentiment_Subjectivity|\n",
      "+--------------------+--------------------+--------------------+-------------------+----------------------+\n",
      "|10 Best Foods for...|\"I like eat delic...| also \"\"Best Befo...|           Positive|                   1.0|\n",
      "|10 Best Foods for...|This help eating ...|            Positive|               0.25|   0.28846153846153844|\n",
      "|10 Best Foods for...|                 nan|                 nan|                nan|                   nan|\n",
      "|10 Best Foods for...|Works great espec...|            Positive|                0.4|                 0.875|\n",
      "|10 Best Foods for...|        Best idea us|            Positive|                1.0|                   0.3|\n",
      "|10 Best Foods for...|            Best way|            Positive|                1.0|                   0.3|\n",
      "|10 Best Foods for...|             Amazing|            Positive| 0.6000000000000001|                   0.9|\n",
      "|10 Best Foods for...|                 nan|                 nan|                nan|                   nan|\n",
      "|10 Best Foods for...|Looking forward app,|             Neutral|                0.0|                   0.0|\n",
      "|10 Best Foods for...|It helpful site !...|             Neutral|                0.0|                   0.0|\n",
      "|10 Best Foods for...|           good you.|            Positive|                0.7|    0.6000000000000001|\n",
      "|10 Best Foods for...|Useful informatio...|            Positive|                0.2|                   0.1|\n",
      "|10 Best Foods for...|Thank you! Great ...|            Positive|               0.75|                 0.875|\n",
      "|10 Best Foods for...|Greatest ever Com...|            Positive|          0.9921875|    0.8666666666666667|\n",
      "|10 Best Foods for...|Good health.........|            Positive| 0.5499999999999999|    0.5111111111111112|\n",
      "|10 Best Foods for...|                 nan|                 nan|                nan|                   nan|\n",
      "|10 Best Foods for...|Health It's impor...|            Positive|               0.45|                   1.0|\n",
      "|10 Best Foods for...|Mrs sunita bhati ...|            Positive|                0.6|    0.6666666666666666|\n",
      "|10 Best Foods for...|Very Useful in di...|            Positive|0.29500000000000004|                   0.1|\n",
      "|10 Best Foods for...|  One greatest apps.|            Positive|                1.0|                   1.0|\n",
      "+--------------------+--------------------+--------------------+-------------------+----------------------+\n",
      "only showing top 20 rows\n",
      "\n"
     ]
    }
   ],
   "source": [
    "df.show()"
   ]
  },
  {
   "cell_type": "code",
   "execution_count": 9,
   "id": "733c14c2",
   "metadata": {},
   "outputs": [
    {
     "data": {
      "text/plain": [
       "[Row(App='10 Best Foods for You', Translated_Review='\"I like eat delicious food. That\\'s I\\'m cooking food myself, case \"\"10 Best Foods\"\" helps lot', Sentiment=' also \"\"Best Before (Shelf Life)\"\"\"', Sentiment_Polarity='Positive', Sentiment_Subjectivity='1.0')]"
      ]
     },
     "execution_count": 9,
     "metadata": {},
     "output_type": "execute_result"
    }
   ],
   "source": [
    "df.head(1)"
   ]
  },
  {
   "cell_type": "code",
   "execution_count": 10,
   "id": "0426af84",
   "metadata": {},
   "outputs": [
    {
     "name": "stdout",
     "output_type": "stream",
     "text": [
      "root\n",
      " |-- App: string (nullable = true)\n",
      " |-- Translated_Review: string (nullable = true)\n",
      " |-- Sentiment: string (nullable = true)\n",
      " |-- Sentiment_Polarity: string (nullable = true)\n",
      " |-- Sentiment_Subjectivity: string (nullable = true)\n",
      "\n"
     ]
    }
   ],
   "source": [
    "df.printSchema()"
   ]
  },
  {
   "cell_type": "code",
   "execution_count": 11,
   "id": "22789a42",
   "metadata": {},
   "outputs": [
    {
     "data": {
      "text/plain": [
       "['App',\n",
       " 'Translated_Review',\n",
       " 'Sentiment',\n",
       " 'Sentiment_Polarity',\n",
       " 'Sentiment_Subjectivity']"
      ]
     },
     "execution_count": 11,
     "metadata": {},
     "output_type": "execute_result"
    }
   ],
   "source": [
    "df.columns"
   ]
  },
  {
   "cell_type": "code",
   "execution_count": 12,
   "id": "b0297dae",
   "metadata": {},
   "outputs": [
    {
     "name": "stdout",
     "output_type": "stream",
     "text": [
      "+--------------------+\n",
      "|                 App|\n",
      "+--------------------+\n",
      "|10 Best Foods for...|\n",
      "|10 Best Foods for...|\n",
      "|10 Best Foods for...|\n",
      "|10 Best Foods for...|\n",
      "|10 Best Foods for...|\n",
      "|10 Best Foods for...|\n",
      "|10 Best Foods for...|\n",
      "|10 Best Foods for...|\n",
      "|10 Best Foods for...|\n",
      "|10 Best Foods for...|\n",
      "|10 Best Foods for...|\n",
      "|10 Best Foods for...|\n",
      "|10 Best Foods for...|\n",
      "|10 Best Foods for...|\n",
      "|10 Best Foods for...|\n",
      "|10 Best Foods for...|\n",
      "|10 Best Foods for...|\n",
      "|10 Best Foods for...|\n",
      "|10 Best Foods for...|\n",
      "|10 Best Foods for...|\n",
      "+--------------------+\n",
      "only showing top 20 rows\n",
      "\n"
     ]
    }
   ],
   "source": [
    "df.select('App').show()"
   ]
  },
  {
   "cell_type": "code",
   "execution_count": 13,
   "id": "e17b81b6",
   "metadata": {},
   "outputs": [
    {
     "name": "stdout",
     "output_type": "stream",
     "text": [
      "+--------------------+--------------------+\n",
      "|                 App|   Translated_Review|\n",
      "+--------------------+--------------------+\n",
      "|10 Best Foods for...|\"I like eat delic...|\n",
      "|10 Best Foods for...|This help eating ...|\n",
      "|10 Best Foods for...|                 nan|\n",
      "|10 Best Foods for...|Works great espec...|\n",
      "|10 Best Foods for...|        Best idea us|\n",
      "|10 Best Foods for...|            Best way|\n",
      "|10 Best Foods for...|             Amazing|\n",
      "|10 Best Foods for...|                 nan|\n",
      "|10 Best Foods for...|Looking forward app,|\n",
      "|10 Best Foods for...|It helpful site !...|\n",
      "|10 Best Foods for...|           good you.|\n",
      "|10 Best Foods for...|Useful informatio...|\n",
      "|10 Best Foods for...|Thank you! Great ...|\n",
      "|10 Best Foods for...|Greatest ever Com...|\n",
      "|10 Best Foods for...|Good health.........|\n",
      "|10 Best Foods for...|                 nan|\n",
      "|10 Best Foods for...|Health It's impor...|\n",
      "|10 Best Foods for...|Mrs sunita bhati ...|\n",
      "|10 Best Foods for...|Very Useful in di...|\n",
      "|10 Best Foods for...|  One greatest apps.|\n",
      "+--------------------+--------------------+\n",
      "only showing top 20 rows\n",
      "\n"
     ]
    }
   ],
   "source": [
    "df.select(['App','Translated_Review']).show()"
   ]
  },
  {
   "cell_type": "code",
   "execution_count": 14,
   "id": "c76aa608",
   "metadata": {},
   "outputs": [
    {
     "data": {
      "text/plain": [
       "Column<'App'>"
      ]
     },
     "execution_count": 14,
     "metadata": {},
     "output_type": "execute_result"
    }
   ],
   "source": [
    "df['App']"
   ]
  },
  {
   "cell_type": "code",
   "execution_count": 15,
   "id": "43b65b5e",
   "metadata": {},
   "outputs": [
    {
     "data": {
      "text/plain": [
       "[('App', 'string'),\n",
       " ('Translated_Review', 'string'),\n",
       " ('Sentiment', 'string'),\n",
       " ('Sentiment_Polarity', 'string'),\n",
       " ('Sentiment_Subjectivity', 'string')]"
      ]
     },
     "execution_count": 15,
     "metadata": {},
     "output_type": "execute_result"
    }
   ],
   "source": [
    "df.dtypes"
   ]
  },
  {
   "cell_type": "code",
   "execution_count": 19,
   "id": "93bd6aa8",
   "metadata": {},
   "outputs": [
    {
     "name": "stdout",
     "output_type": "stream",
     "text": [
      "+-------+--------------------+------------------------+--------------------+--------------------+----------------------+\n",
      "|summary|                 App|       Translated_Review|           Sentiment|  Sentiment_Polarity|Sentiment_Subjectivity|\n",
      "+-------+--------------------+------------------------+--------------------+--------------------+----------------------+\n",
      "|  count|               64295|                   64290|               64295|               64294|                 64294|\n",
      "|   mean|                NULL|                     NaN|                 NaN|                 NaN|                   NaN|\n",
      "| stddev|                NULL|                     NaN|                 NaN|                 NaN|                   NaN|\n",
      "|    min|10 Best Foods for...|    !!!Dont waste tim...|            \"\"Bell\"\"| \"\"Complaining Lu...|   \"\"WE\"\" decided? ...|\n",
      "|    max|Houzz Interior De...|搵楼租楼 A lot of tim...|that unbelievable...|too. downloaded m...|  when try connect ...|\n",
      "+-------+--------------------+------------------------+--------------------+--------------------+----------------------+\n",
      "\n"
     ]
    }
   ],
   "source": [
    "df.describe().show()"
   ]
  },
  {
   "cell_type": "code",
   "execution_count": 23,
   "id": "ed857078",
   "metadata": {},
   "outputs": [],
   "source": [
    "df = df.withColumn('App2', df['App']*2)"
   ]
  },
  {
   "cell_type": "code",
   "execution_count": 24,
   "id": "622284d9",
   "metadata": {},
   "outputs": [
    {
     "name": "stdout",
     "output_type": "stream",
     "text": [
      "+--------------------+--------------------+--------------------+-------------------+----------------------+----+\n",
      "|                 App|   Translated_Review|           Sentiment| Sentiment_Polarity|Sentiment_Subjectivity|App2|\n",
      "+--------------------+--------------------+--------------------+-------------------+----------------------+----+\n",
      "|10 Best Foods for...|\"I like eat delic...| also \"\"Best Befo...|           Positive|                   1.0|NULL|\n",
      "|10 Best Foods for...|This help eating ...|            Positive|               0.25|   0.28846153846153844|NULL|\n",
      "|10 Best Foods for...|                 nan|                 nan|                nan|                   nan|NULL|\n",
      "|10 Best Foods for...|Works great espec...|            Positive|                0.4|                 0.875|NULL|\n",
      "|10 Best Foods for...|        Best idea us|            Positive|                1.0|                   0.3|NULL|\n",
      "|10 Best Foods for...|            Best way|            Positive|                1.0|                   0.3|NULL|\n",
      "|10 Best Foods for...|             Amazing|            Positive| 0.6000000000000001|                   0.9|NULL|\n",
      "|10 Best Foods for...|                 nan|                 nan|                nan|                   nan|NULL|\n",
      "|10 Best Foods for...|Looking forward app,|             Neutral|                0.0|                   0.0|NULL|\n",
      "|10 Best Foods for...|It helpful site !...|             Neutral|                0.0|                   0.0|NULL|\n",
      "|10 Best Foods for...|           good you.|            Positive|                0.7|    0.6000000000000001|NULL|\n",
      "|10 Best Foods for...|Useful informatio...|            Positive|                0.2|                   0.1|NULL|\n",
      "|10 Best Foods for...|Thank you! Great ...|            Positive|               0.75|                 0.875|NULL|\n",
      "|10 Best Foods for...|Greatest ever Com...|            Positive|          0.9921875|    0.8666666666666667|NULL|\n",
      "|10 Best Foods for...|Good health.........|            Positive| 0.5499999999999999|    0.5111111111111112|NULL|\n",
      "|10 Best Foods for...|                 nan|                 nan|                nan|                   nan|NULL|\n",
      "|10 Best Foods for...|Health It's impor...|            Positive|               0.45|                   1.0|NULL|\n",
      "|10 Best Foods for...|Mrs sunita bhati ...|            Positive|                0.6|    0.6666666666666666|NULL|\n",
      "|10 Best Foods for...|Very Useful in di...|            Positive|0.29500000000000004|                   0.1|NULL|\n",
      "|10 Best Foods for...|  One greatest apps.|            Positive|                1.0|                   1.0|NULL|\n",
      "+--------------------+--------------------+--------------------+-------------------+----------------------+----+\n",
      "only showing top 20 rows\n",
      "\n"
     ]
    }
   ],
   "source": [
    "df.show()"
   ]
  },
  {
   "cell_type": "code",
   "execution_count": 27,
   "id": "cb9e2811",
   "metadata": {},
   "outputs": [],
   "source": [
    "df = df.withColumnRenamed('App2','New App')"
   ]
  },
  {
   "cell_type": "code",
   "execution_count": 28,
   "id": "d57cf730",
   "metadata": {},
   "outputs": [
    {
     "name": "stdout",
     "output_type": "stream",
     "text": [
      "+--------------------+--------------------+--------------------+-------------------+----------------------+-------+\n",
      "|                 App|   Translated_Review|           Sentiment| Sentiment_Polarity|Sentiment_Subjectivity|New App|\n",
      "+--------------------+--------------------+--------------------+-------------------+----------------------+-------+\n",
      "|10 Best Foods for...|\"I like eat delic...| also \"\"Best Befo...|           Positive|                   1.0|   NULL|\n",
      "|10 Best Foods for...|This help eating ...|            Positive|               0.25|   0.28846153846153844|   NULL|\n",
      "|10 Best Foods for...|                 nan|                 nan|                nan|                   nan|   NULL|\n",
      "|10 Best Foods for...|Works great espec...|            Positive|                0.4|                 0.875|   NULL|\n",
      "|10 Best Foods for...|        Best idea us|            Positive|                1.0|                   0.3|   NULL|\n",
      "|10 Best Foods for...|            Best way|            Positive|                1.0|                   0.3|   NULL|\n",
      "|10 Best Foods for...|             Amazing|            Positive| 0.6000000000000001|                   0.9|   NULL|\n",
      "|10 Best Foods for...|                 nan|                 nan|                nan|                   nan|   NULL|\n",
      "|10 Best Foods for...|Looking forward app,|             Neutral|                0.0|                   0.0|   NULL|\n",
      "|10 Best Foods for...|It helpful site !...|             Neutral|                0.0|                   0.0|   NULL|\n",
      "|10 Best Foods for...|           good you.|            Positive|                0.7|    0.6000000000000001|   NULL|\n",
      "|10 Best Foods for...|Useful informatio...|            Positive|                0.2|                   0.1|   NULL|\n",
      "|10 Best Foods for...|Thank you! Great ...|            Positive|               0.75|                 0.875|   NULL|\n",
      "|10 Best Foods for...|Greatest ever Com...|            Positive|          0.9921875|    0.8666666666666667|   NULL|\n",
      "|10 Best Foods for...|Good health.........|            Positive| 0.5499999999999999|    0.5111111111111112|   NULL|\n",
      "|10 Best Foods for...|                 nan|                 nan|                nan|                   nan|   NULL|\n",
      "|10 Best Foods for...|Health It's impor...|            Positive|               0.45|                   1.0|   NULL|\n",
      "|10 Best Foods for...|Mrs sunita bhati ...|            Positive|                0.6|    0.6666666666666666|   NULL|\n",
      "|10 Best Foods for...|Very Useful in di...|            Positive|0.29500000000000004|                   0.1|   NULL|\n",
      "|10 Best Foods for...|  One greatest apps.|            Positive|                1.0|                   1.0|   NULL|\n",
      "+--------------------+--------------------+--------------------+-------------------+----------------------+-------+\n",
      "only showing top 20 rows\n",
      "\n"
     ]
    }
   ],
   "source": [
    "df.show()"
   ]
  },
  {
   "cell_type": "code",
   "execution_count": 30,
   "id": "57292f87",
   "metadata": {},
   "outputs": [
    {
     "name": "stdout",
     "output_type": "stream",
     "text": [
      "+--------------------+--------------------+--------------------+-------------------+----------------------+\n",
      "|                 App|   Translated_Review|           Sentiment| Sentiment_Polarity|Sentiment_Subjectivity|\n",
      "+--------------------+--------------------+--------------------+-------------------+----------------------+\n",
      "|10 Best Foods for...|\"I like eat delic...| also \"\"Best Befo...|           Positive|                   1.0|\n",
      "|10 Best Foods for...|This help eating ...|            Positive|               0.25|   0.28846153846153844|\n",
      "|10 Best Foods for...|                 nan|                 nan|                nan|                   nan|\n",
      "|10 Best Foods for...|Works great espec...|            Positive|                0.4|                 0.875|\n",
      "|10 Best Foods for...|        Best idea us|            Positive|                1.0|                   0.3|\n",
      "|10 Best Foods for...|            Best way|            Positive|                1.0|                   0.3|\n",
      "|10 Best Foods for...|             Amazing|            Positive| 0.6000000000000001|                   0.9|\n",
      "|10 Best Foods for...|                 nan|                 nan|                nan|                   nan|\n",
      "|10 Best Foods for...|Looking forward app,|             Neutral|                0.0|                   0.0|\n",
      "|10 Best Foods for...|It helpful site !...|             Neutral|                0.0|                   0.0|\n",
      "|10 Best Foods for...|           good you.|            Positive|                0.7|    0.6000000000000001|\n",
      "|10 Best Foods for...|Useful informatio...|            Positive|                0.2|                   0.1|\n",
      "|10 Best Foods for...|Thank you! Great ...|            Positive|               0.75|                 0.875|\n",
      "|10 Best Foods for...|Greatest ever Com...|            Positive|          0.9921875|    0.8666666666666667|\n",
      "|10 Best Foods for...|Good health.........|            Positive| 0.5499999999999999|    0.5111111111111112|\n",
      "|10 Best Foods for...|                 nan|                 nan|                nan|                   nan|\n",
      "|10 Best Foods for...|Health It's impor...|            Positive|               0.45|                   1.0|\n",
      "|10 Best Foods for...|Mrs sunita bhati ...|            Positive|                0.6|    0.6666666666666666|\n",
      "|10 Best Foods for...|Very Useful in di...|            Positive|0.29500000000000004|                   0.1|\n",
      "|10 Best Foods for...|  One greatest apps.|            Positive|                1.0|                   1.0|\n",
      "+--------------------+--------------------+--------------------+-------------------+----------------------+\n",
      "only showing top 20 rows\n",
      "\n"
     ]
    }
   ],
   "source": [
    "df.drop('New App').show()"
   ]
  },
  {
   "cell_type": "code",
   "execution_count": 37,
   "id": "c62b1a60",
   "metadata": {},
   "outputs": [
    {
     "name": "stdout",
     "output_type": "stream",
     "text": [
      "+--------------------+--------------------+---------+------------------+----------------------+-------+\n",
      "|                 App|   Translated_Review|Sentiment|Sentiment_Polarity|Sentiment_Subjectivity|New App|\n",
      "+--------------------+--------------------+---------+------------------+----------------------+-------+\n",
      "|10 Best Foods for...|Looking forward app,|  Neutral|               0.0|                   0.0|   NULL|\n",
      "|10 Best Foods for...|Looking forward app,|  Neutral|               0.0|                   0.0|   NULL|\n",
      "+--------------------+--------------------+---------+------------------+----------------------+-------+\n",
      "\n"
     ]
    }
   ],
   "source": [
    "df.filter(df['Translated_Review'] == \"Looking forward app,\").show()"
   ]
  },
  {
   "cell_type": "code",
   "execution_count": 39,
   "id": "60276f49",
   "metadata": {},
   "outputs": [
    {
     "name": "stdout",
     "output_type": "stream",
     "text": [
      "+--------------------+--------------------+---------+------------------+----------------------+-------+\n",
      "|                 App|   Translated_Review|Sentiment|Sentiment_Polarity|Sentiment_Subjectivity|New App|\n",
      "+--------------------+--------------------+---------+------------------+----------------------+-------+\n",
      "|10 Best Foods for...|Looking forward app,|  Neutral|               0.0|                   0.0|   NULL|\n",
      "|10 Best Foods for...|Looking forward app,|  Neutral|               0.0|                   0.0|   NULL|\n",
      "+--------------------+--------------------+---------+------------------+----------------------+-------+\n",
      "\n"
     ]
    }
   ],
   "source": [
    "df.filter(\"Translated_Review == 'Looking forward app,'\").show()"
   ]
  },
  {
   "cell_type": "code",
   "execution_count": 44,
   "id": "f0d29686",
   "metadata": {},
   "outputs": [
    {
     "ename": "TypeError",
     "evalue": "unsupported operand type(s) for &: 'str' and 'str'",
     "output_type": "error",
     "traceback": [
      "\u001b[1;31m---------------------------------------------------------------------------\u001b[0m",
      "\u001b[1;31mTypeError\u001b[0m                                 Traceback (most recent call last)",
      "Cell \u001b[1;32mIn[44], line 1\u001b[0m\n\u001b[1;32m----> 1\u001b[0m df\u001b[38;5;241m.\u001b[39mfilter(\u001b[43m(\u001b[49m\u001b[38;5;124;43m\"\u001b[39;49m\u001b[38;5;124;43mSentiment_Polarity == 0.0\u001b[39;49m\u001b[38;5;124;43m\"\u001b[39;49m\u001b[43m)\u001b[49m\u001b[43m \u001b[49m\u001b[38;5;241;43m&\u001b[39;49m\u001b[43m \u001b[49m\u001b[43m(\u001b[49m\u001b[38;5;124;43m\"\u001b[39;49m\u001b[38;5;124;43mSentiment==\u001b[39;49m\u001b[38;5;124;43m'\u001b[39;49m\u001b[38;5;124;43mPositive\u001b[39;49m\u001b[38;5;124;43m'\u001b[39;49m\u001b[38;5;124;43m\"\u001b[39;49m\u001b[43m)\u001b[49m)\u001b[38;5;241m.\u001b[39mshow()\n",
      "\u001b[1;31mTypeError\u001b[0m: unsupported operand type(s) for &: 'str' and 'str'"
     ]
    }
   ],
   "source": [
    "df.filter((\"Sentiment_Polarity == 0.0\") & (\"Sentiment=='Positive'\")).show()"
   ]
  },
  {
   "cell_type": "code",
   "execution_count": 46,
   "id": "81682885",
   "metadata": {},
   "outputs": [
    {
     "name": "stdout",
     "output_type": "stream",
     "text": [
      "+---+-----------------+---------+------------------+----------------------+-------+\n",
      "|App|Translated_Review|Sentiment|Sentiment_Polarity|Sentiment_Subjectivity|New App|\n",
      "+---+-----------------+---------+------------------+----------------------+-------+\n",
      "+---+-----------------+---------+------------------+----------------------+-------+\n",
      "\n"
     ]
    }
   ],
   "source": [
    "df.filter((df['Sentiment_Polarity'] < 0.0) & (df['Sentiment'] > 'Positive')).show()"
   ]
  },
  {
   "cell_type": "code",
   "execution_count": 53,
   "id": "89122158",
   "metadata": {},
   "outputs": [
    {
     "name": "stdout",
     "output_type": "stream",
     "text": [
      "+--------------------+--------------------+---------+------------------+----------------------+-------+\n",
      "|                 App|   Translated_Review|Sentiment|Sentiment_Polarity|Sentiment_Subjectivity|New App|\n",
      "+--------------------+--------------------+---------+------------------+----------------------+-------+\n",
      "|10 Best Foods for...|Looking forward app,|  Neutral|               0.0|                   0.0|   NULL|\n",
      "|10 Best Foods for...|It helpful site !...|  Neutral|               0.0|                   0.0|   NULL|\n",
      "|10 Best Foods for...|          God health|  Neutral|               0.0|                   0.0|   NULL|\n",
      "|10 Best Foods for...|I found lot wealt...|  Neutral|               0.0|                   0.0|   NULL|\n",
      "|10 Best Foods for...|         On test....|  Neutral|               0.0|                   0.0|   NULL|\n",
      "|10 Best Foods for...|Waste time It nee...| Negative|              -0.2|                   0.0|   NULL|\n",
      "|10 Best Foods for...|              I like|  Neutral|               0.0|                   0.0|   NULL|\n",
      "|10 Best Foods for...|        This helpful|  Neutral|               0.0|                   0.0|   NULL|\n",
      "|10 Best Foods for...|         Very useful| Positive|              0.39|                   0.0|   NULL|\n",
      "|10 Best Foods for...|                 Luv|  Neutral|               0.0|                   0.0|   NULL|\n",
      "|10 Best Foods for...|Doesn't work... Zero|  Neutral|               0.0|                   0.0|   NULL|\n",
      "|10 Best Foods for...|Faltu plz waste u...| Negative|              -0.2|                   0.0|   NULL|\n",
      "|10 Best Foods for...|This 5 starr Down...|  Neutral|               0.0|                   0.0|   NULL|\n",
      "|10 Best Foods for...|  I like Was helpful|  Neutral|               0.0|                   0.0|   NULL|\n",
      "|10 Best Foods for...|Looking forward app,|  Neutral|               0.0|                   0.0|   NULL|\n",
      "|10 Best Foods for...|It helpful site !...|  Neutral|               0.0|                   0.0|   NULL|\n",
      "|10 Best Foods for...|          God health|  Neutral|               0.0|                   0.0|   NULL|\n",
      "|10 Best Foods for...|I found lot wealt...|  Neutral|               0.0|                   0.0|   NULL|\n",
      "|10 Best Foods for...|         On test....|  Neutral|               0.0|                   0.0|   NULL|\n",
      "|10 Best Foods for...|Waste time It nee...| Negative|              -0.2|                   0.0|   NULL|\n",
      "+--------------------+--------------------+---------+------------------+----------------------+-------+\n",
      "only showing top 20 rows\n",
      "\n"
     ]
    }
   ],
   "source": [
    "df.filter((df['Sentiment_Subjectivity'] == 0.0) | (df['Sentiment'] == 'Neutral')).show()"
   ]
  },
  {
   "cell_type": "code",
   "execution_count": 58,
   "id": "7101dd59",
   "metadata": {},
   "outputs": [
    {
     "name": "stdout",
     "output_type": "stream",
     "text": [
      "+--------------------+--------------------+--------------------+-------------------+----------------------+-------+\n",
      "|                 App|   Translated_Review|           Sentiment| Sentiment_Polarity|Sentiment_Subjectivity|New App|\n",
      "+--------------------+--------------------+--------------------+-------------------+----------------------+-------+\n",
      "|10 Best Foods for...|\"I like eat delic...| also \"\"Best Befo...|           Positive|                   1.0|   NULL|\n",
      "|10 Best Foods for...|This help eating ...|            Positive|               0.25|   0.28846153846153844|   NULL|\n",
      "|10 Best Foods for...|                 nan|                 nan|                nan|                   nan|   NULL|\n",
      "|10 Best Foods for...|Works great espec...|            Positive|                0.4|                 0.875|   NULL|\n",
      "|10 Best Foods for...|        Best idea us|            Positive|                1.0|                   0.3|   NULL|\n",
      "|10 Best Foods for...|            Best way|            Positive|                1.0|                   0.3|   NULL|\n",
      "|10 Best Foods for...|             Amazing|            Positive| 0.6000000000000001|                   0.9|   NULL|\n",
      "|10 Best Foods for...|                 nan|                 nan|                nan|                   nan|   NULL|\n",
      "|10 Best Foods for...|It helpful site !...|             Neutral|                0.0|                   0.0|   NULL|\n",
      "|10 Best Foods for...|           good you.|            Positive|                0.7|    0.6000000000000001|   NULL|\n",
      "|10 Best Foods for...|Useful informatio...|            Positive|                0.2|                   0.1|   NULL|\n",
      "|10 Best Foods for...|Thank you! Great ...|            Positive|               0.75|                 0.875|   NULL|\n",
      "|10 Best Foods for...|Greatest ever Com...|            Positive|          0.9921875|    0.8666666666666667|   NULL|\n",
      "|10 Best Foods for...|Good health.........|            Positive| 0.5499999999999999|    0.5111111111111112|   NULL|\n",
      "|10 Best Foods for...|                 nan|                 nan|                nan|                   nan|   NULL|\n",
      "|10 Best Foods for...|Health It's impor...|            Positive|               0.45|                   1.0|   NULL|\n",
      "|10 Best Foods for...|Mrs sunita bhati ...|            Positive|                0.6|    0.6666666666666666|   NULL|\n",
      "|10 Best Foods for...|Very Useful in di...|            Positive|0.29500000000000004|                   0.1|   NULL|\n",
      "|10 Best Foods for...|  One greatest apps.|            Positive|                1.0|                   1.0|   NULL|\n",
      "|10 Best Foods for...|           good nice|            Positive| 0.6499999999999999|                   0.8|   NULL|\n",
      "+--------------------+--------------------+--------------------+-------------------+----------------------+-------+\n",
      "only showing top 20 rows\n",
      "\n"
     ]
    }
   ],
   "source": [
    "df.filter(~(df['Translated_Review'] == 'Looking forward app,')).show()"
   ]
  },
  {
   "cell_type": "code",
   "execution_count": 61,
   "id": "2bfdac9e",
   "metadata": {},
   "outputs": [
    {
     "name": "stdout",
     "output_type": "stream",
     "text": [
      "+--------------------+------------+\n",
      "|           Sentiment|avg(New App)|\n",
      "+--------------------+------------+\n",
      "| especially consi...|        NULL|\n",
      "| I pleased I year...|        NULL|\n",
      "| WHY DOES IT KEEP...|        NULL|\n",
      "| despiste game go...|        NULL|\n",
      "|       teach I learn|        NULL|\n",
      "| fast forward (so...|        NULL|\n",
      "| I lost PAID FOR ...|        NULL|\n",
      "| WAY TOO MANY ads...|        NULL|\n",
      "| said happen time...|        NULL|\n",
      "| different passwo...|        NULL|\n",
      "| there's function...|        NULL|\n",
      "|              log in|        NULL|\n",
      "| I reset password...|        NULL|\n",
      "|      btw). Secondly|        NULL|\n",
      "| We going fix pro...|        NULL|\n",
      "| save habit start...|        NULL|\n",
      "|  resetting password|        NULL|\n",
      "| \"\"anniversary\"\" ...|        NULL|\n",
      "| keep going inten...|        NULL|\n",
      "|            \"\"Hurt\"\"|        NULL|\n",
      "+--------------------+------------+\n",
      "only showing top 20 rows\n",
      "\n"
     ]
    }
   ],
   "source": [
    "df.groupby('Sentiment').avg().show()"
   ]
  },
  {
   "cell_type": "code",
   "execution_count": 64,
   "id": "e0dc0c67",
   "metadata": {},
   "outputs": [],
   "source": [
    "df = spark.read.option('header','true').csv(r\"C:\\Users\\pavan\\OneDrive\\Desktop\\datasets\\test3.csv\", inferSchema = True)"
   ]
  },
  {
   "cell_type": "code",
   "execution_count": 65,
   "id": "fac3bcd2",
   "metadata": {},
   "outputs": [
    {
     "name": "stdout",
     "output_type": "stream",
     "text": [
      "+-------+---+----------+------+\n",
      "|   Name|Age|Experience|Salary|\n",
      "+-------+---+----------+------+\n",
      "|   john| 31|        10| 10000|\n",
      "|Stephen| 30|         8|  5000|\n",
      "|  Stacy| 29|         4|  4000|\n",
      "|   paul| 24|         3|  3000|\n",
      "|  Krish| 21|         1| 20000|\n",
      "|    Joe| 23|         2| 10000|\n",
      "|Stephen| 22|         2|  5000|\n",
      "|   jack| 19|         1| 10000|\n",
      "|  Krish| 20|         2|  8000|\n",
      "+-------+---+----------+------+\n",
      "\n"
     ]
    }
   ],
   "source": [
    "df.show()"
   ]
  },
  {
   "cell_type": "code",
   "execution_count": 66,
   "id": "77d596fa",
   "metadata": {},
   "outputs": [
    {
     "data": {
      "text/plain": [
       "[('Name', 'string'), ('Age', 'int'), ('Experience', 'int'), ('Salary', 'int')]"
      ]
     },
     "execution_count": 66,
     "metadata": {},
     "output_type": "execute_result"
    }
   ],
   "source": [
    "df.dtypes"
   ]
  },
  {
   "cell_type": "code",
   "execution_count": 67,
   "id": "3e146f0b",
   "metadata": {},
   "outputs": [],
   "source": [
    "from pyspark.ml.feature import VectorAssembler"
   ]
  },
  {
   "cell_type": "code",
   "execution_count": 68,
   "id": "33ab34c9",
   "metadata": {},
   "outputs": [],
   "source": [
    "featureassembler = VectorAssembler(inputCols = ['Age','Experience'], outputCol = 'Independent Col')"
   ]
  },
  {
   "cell_type": "code",
   "execution_count": 71,
   "id": "332d2a12",
   "metadata": {},
   "outputs": [],
   "source": [
    "output_df = featureassembler.transform(df)"
   ]
  },
  {
   "cell_type": "code",
   "execution_count": 72,
   "id": "cd9386a9",
   "metadata": {},
   "outputs": [
    {
     "name": "stdout",
     "output_type": "stream",
     "text": [
      "+-------+---+----------+------+---------------+\n",
      "|   Name|Age|Experience|Salary|Independent Col|\n",
      "+-------+---+----------+------+---------------+\n",
      "|   john| 31|        10| 10000|    [31.0,10.0]|\n",
      "|Stephen| 30|         8|  5000|     [30.0,8.0]|\n",
      "|  Stacy| 29|         4|  4000|     [29.0,4.0]|\n",
      "|   paul| 24|         3|  3000|     [24.0,3.0]|\n",
      "|  Krish| 21|         1| 20000|     [21.0,1.0]|\n",
      "|    Joe| 23|         2| 10000|     [23.0,2.0]|\n",
      "|Stephen| 22|         2|  5000|     [22.0,2.0]|\n",
      "|   jack| 19|         1| 10000|     [19.0,1.0]|\n",
      "|  Krish| 20|         2|  8000|     [20.0,2.0]|\n",
      "+-------+---+----------+------+---------------+\n",
      "\n"
     ]
    }
   ],
   "source": [
    "output_df.show()"
   ]
  },
  {
   "cell_type": "code",
   "execution_count": 73,
   "id": "1737a08e",
   "metadata": {},
   "outputs": [],
   "source": [
    "output_df = output_df.select(['Independent Col','Salary'])"
   ]
  },
  {
   "cell_type": "code",
   "execution_count": 74,
   "id": "a2fda424",
   "metadata": {},
   "outputs": [
    {
     "name": "stdout",
     "output_type": "stream",
     "text": [
      "+---------------+------+\n",
      "|Independent Col|Salary|\n",
      "+---------------+------+\n",
      "|    [31.0,10.0]| 10000|\n",
      "|     [30.0,8.0]|  5000|\n",
      "|     [29.0,4.0]|  4000|\n",
      "|     [24.0,3.0]|  3000|\n",
      "|     [21.0,1.0]| 20000|\n",
      "|     [23.0,2.0]| 10000|\n",
      "|     [22.0,2.0]|  5000|\n",
      "|     [19.0,1.0]| 10000|\n",
      "|     [20.0,2.0]|  8000|\n",
      "+---------------+------+\n",
      "\n"
     ]
    }
   ],
   "source": [
    "output_df.show()"
   ]
  },
  {
   "cell_type": "code",
   "execution_count": 75,
   "id": "59dbed30",
   "metadata": {},
   "outputs": [],
   "source": [
    "from pyspark.ml.regression import LinearRegression"
   ]
  },
  {
   "cell_type": "code",
   "execution_count": 76,
   "id": "1c66d567",
   "metadata": {},
   "outputs": [],
   "source": [
    "train_data, test_data = output_df.randomSplit([0.75,0.25])"
   ]
  },
  {
   "cell_type": "code",
   "execution_count": 80,
   "id": "22875a3b",
   "metadata": {},
   "outputs": [],
   "source": [
    "regressor = LinearRegression(featuresCol = 'Independent Col', labelCol = 'Salary')"
   ]
  },
  {
   "cell_type": "code",
   "execution_count": 82,
   "id": "e438aed8",
   "metadata": {},
   "outputs": [],
   "source": [
    "regressor = regressor.fit(train_data)"
   ]
  },
  {
   "cell_type": "code",
   "execution_count": 83,
   "id": "63bbd293",
   "metadata": {},
   "outputs": [
    {
     "data": {
      "text/plain": [
       "DenseVector([481.7073, -1060.9756])"
      ]
     },
     "execution_count": 83,
     "metadata": {},
     "output_type": "execute_result"
    }
   ],
   "source": [
    "regressor.coefficients"
   ]
  },
  {
   "cell_type": "code",
   "execution_count": 84,
   "id": "10d0faf6",
   "metadata": {},
   "outputs": [
    {
     "data": {
      "text/plain": [
       "2231.7073170730673"
      ]
     },
     "execution_count": 84,
     "metadata": {},
     "output_type": "execute_result"
    }
   ],
   "source": [
    "regressor.intercept"
   ]
  },
  {
   "cell_type": "code",
   "execution_count": 85,
   "id": "c54a6fe0",
   "metadata": {},
   "outputs": [],
   "source": [
    "prediction = regressor.evaluate(test_data)"
   ]
  },
  {
   "cell_type": "code",
   "execution_count": 86,
   "id": "20e7e051",
   "metadata": {},
   "outputs": [
    {
     "name": "stdout",
     "output_type": "stream",
     "text": [
      "+---------------+------+------------------+\n",
      "|Independent Col|Salary|        prediction|\n",
      "+---------------+------+------------------+\n",
      "|     [24.0,3.0]|  3000|10609.756097560983|\n",
      "|     [29.0,4.0]|  4000| 11957.31707317076|\n",
      "+---------------+------+------------------+\n",
      "\n"
     ]
    }
   ],
   "source": [
    "prediction.predictions.show()"
   ]
  },
  {
   "cell_type": "code",
   "execution_count": 1,
   "id": "2d9fadf5",
   "metadata": {},
   "outputs": [
    {
     "ename": "NameError",
     "evalue": "name 'df' is not defined",
     "output_type": "error",
     "traceback": [
      "\u001b[1;31m---------------------------------------------------------------------------\u001b[0m",
      "\u001b[1;31mNameError\u001b[0m                                 Traceback (most recent call last)",
      "Cell \u001b[1;32mIn[1], line 1\u001b[0m\n\u001b[1;32m----> 1\u001b[0m \u001b[43mdf\u001b[49m\u001b[38;5;241m.\u001b[39mshow()\n",
      "\u001b[1;31mNameError\u001b[0m: name 'df' is not defined"
     ]
    }
   ],
   "source": [
    "df.show()"
   ]
  },
  {
   "cell_type": "code",
   "execution_count": 12,
   "id": "93cbcc1e",
   "metadata": {},
   "outputs": [],
   "source": [
    "df = spark.read.csv(r\"C:\\Users\\pavan\\OneDrive\\Desktop\\datasets\\test2.csv\",header = True,inferSchema = True)"
   ]
  },
  {
   "cell_type": "code",
   "execution_count": 13,
   "id": "1ddeb16e",
   "metadata": {},
   "outputs": [
    {
     "name": "stdout",
     "output_type": "stream",
     "text": [
      "+-------+------------+------+\n",
      "|   Name|  Department|Salary|\n",
      "+-------+------------+------+\n",
      "|   john|Data Science| 10000|\n",
      "|Stephen|         IOT|  5000|\n",
      "|   NULL|     Bigdata|  4000|\n",
      "|   paul|     Bigdata|  NULL|\n",
      "|  Krish|Data Science| 20000|\n",
      "|    Joe|Data Science| 10000|\n",
      "|Stephen|         IOT|  5000|\n",
      "|   jack|     Bigdata| 10000|\n",
      "|  Krish|        NULL|  8000|\n",
      "+-------+------------+------+\n",
      "\n"
     ]
    }
   ],
   "source": [
    "df.show()"
   ]
  },
  {
   "cell_type": "code",
   "execution_count": 14,
   "id": "237af230",
   "metadata": {},
   "outputs": [
    {
     "name": "stdout",
     "output_type": "stream",
     "text": [
      "+-------+------------+------+\n",
      "|   Name|  Department|Salary|\n",
      "+-------+------------+------+\n",
      "|   john|Data Science| 10000|\n",
      "|Stephen|         IOT|  5000|\n",
      "|  Krish|Data Science| 20000|\n",
      "|    Joe|Data Science| 10000|\n",
      "|Stephen|         IOT|  5000|\n",
      "|   jack|     Bigdata| 10000|\n",
      "+-------+------------+------+\n",
      "\n"
     ]
    }
   ],
   "source": [
    "df.na.drop().show()"
   ]
  },
  {
   "cell_type": "code",
   "execution_count": 15,
   "id": "39f117eb",
   "metadata": {},
   "outputs": [
    {
     "name": "stdout",
     "output_type": "stream",
     "text": [
      "+-------+------------+------+\n",
      "|   Name|  Department|Salary|\n",
      "+-------+------------+------+\n",
      "|   john|Data Science| 10000|\n",
      "|Stephen|         IOT|  5000|\n",
      "|  Krish|Data Science| 20000|\n",
      "|    Joe|Data Science| 10000|\n",
      "|Stephen|         IOT|  5000|\n",
      "|   jack|     Bigdata| 10000|\n",
      "+-------+------------+------+\n",
      "\n"
     ]
    }
   ],
   "source": [
    "df.na.drop(how=\"any\").show()"
   ]
  },
  {
   "cell_type": "code",
   "execution_count": 16,
   "id": "8f70d20d",
   "metadata": {},
   "outputs": [
    {
     "name": "stdout",
     "output_type": "stream",
     "text": [
      "+-------+------------+------+\n",
      "|   Name|  Department|Salary|\n",
      "+-------+------------+------+\n",
      "|   john|Data Science| 10000|\n",
      "|Stephen|         IOT|  5000|\n",
      "|   NULL|     Bigdata|  4000|\n",
      "|   paul|     Bigdata|  NULL|\n",
      "|  Krish|Data Science| 20000|\n",
      "|    Joe|Data Science| 10000|\n",
      "|Stephen|         IOT|  5000|\n",
      "|   jack|     Bigdata| 10000|\n",
      "|  Krish|        NULL|  8000|\n",
      "+-------+------------+------+\n",
      "\n"
     ]
    }
   ],
   "source": [
    "df.na.drop(how=\"all\").show()"
   ]
  },
  {
   "cell_type": "code",
   "execution_count": 17,
   "id": "3a084cb3",
   "metadata": {},
   "outputs": [
    {
     "name": "stdout",
     "output_type": "stream",
     "text": [
      "+-------+------------+------+\n",
      "|   Name|  Department|Salary|\n",
      "+-------+------------+------+\n",
      "|   john|Data Science| 10000|\n",
      "|Stephen|         IOT|  5000|\n",
      "|   NULL|     Bigdata|  4000|\n",
      "|   paul|     Bigdata|  NULL|\n",
      "|  Krish|Data Science| 20000|\n",
      "|    Joe|Data Science| 10000|\n",
      "|Stephen|         IOT|  5000|\n",
      "|   jack|     Bigdata| 10000|\n",
      "|  Krish|        NULL|  8000|\n",
      "+-------+------------+------+\n",
      "\n"
     ]
    }
   ],
   "source": [
    "df.na.drop(how=\"any\", thresh=1).show()"
   ]
  },
  {
   "cell_type": "code",
   "execution_count": 18,
   "id": "ecf22d24",
   "metadata": {},
   "outputs": [
    {
     "name": "stdout",
     "output_type": "stream",
     "text": [
      "+-------+------------+------+\n",
      "|   Name|  Department|Salary|\n",
      "+-------+------------+------+\n",
      "|   john|Data Science| 10000|\n",
      "|Stephen|         IOT|  5000|\n",
      "|   NULL|     Bigdata|  4000|\n",
      "|   paul|     Bigdata|  NULL|\n",
      "|  Krish|Data Science| 20000|\n",
      "|    Joe|Data Science| 10000|\n",
      "|Stephen|         IOT|  5000|\n",
      "|   jack|     Bigdata| 10000|\n",
      "|  Krish|        NULL|  8000|\n",
      "+-------+------------+------+\n",
      "\n"
     ]
    }
   ],
   "source": [
    "df.na.drop(how=\"any\", thresh=2).show()"
   ]
  },
  {
   "cell_type": "code",
   "execution_count": 20,
   "id": "b77d3d32",
   "metadata": {},
   "outputs": [
    {
     "name": "stdout",
     "output_type": "stream",
     "text": [
      "+-------+------------+------+\n",
      "|   Name|  Department|Salary|\n",
      "+-------+------------+------+\n",
      "|   john|Data Science| 10000|\n",
      "|Stephen|         IOT|  5000|\n",
      "|   paul|     Bigdata|  NULL|\n",
      "|  Krish|Data Science| 20000|\n",
      "|    Joe|Data Science| 10000|\n",
      "|Stephen|         IOT|  5000|\n",
      "|   jack|     Bigdata| 10000|\n",
      "|  Krish|        NULL|  8000|\n",
      "+-------+------------+------+\n",
      "\n"
     ]
    }
   ],
   "source": [
    "df.na.drop(how=\"any\", thresh=1, subset = 'Name').show()"
   ]
  },
  {
   "cell_type": "code",
   "execution_count": 21,
   "id": "e1eb6389",
   "metadata": {},
   "outputs": [
    {
     "name": "stdout",
     "output_type": "stream",
     "text": [
      "+-------+------------+------+\n",
      "|   Name|  Department|Salary|\n",
      "+-------+------------+------+\n",
      "|   john|Data Science| 10000|\n",
      "|Stephen|         IOT|  5000|\n",
      "|   NULL|     Bigdata|  4000|\n",
      "|   paul|     Bigdata|  NULL|\n",
      "|  Krish|Data Science| 20000|\n",
      "|    Joe|Data Science| 10000|\n",
      "|Stephen|         IOT|  5000|\n",
      "|   jack|     Bigdata| 10000|\n",
      "|  Krish|        NULL|  8000|\n",
      "+-------+------------+------+\n",
      "\n"
     ]
    }
   ],
   "source": [
    "df.na.drop(how=\"any\", thresh=1, subset = ['Name','Salary']).show()"
   ]
  },
  {
   "cell_type": "code",
   "execution_count": 22,
   "id": "21e33df4",
   "metadata": {},
   "outputs": [
    {
     "name": "stdout",
     "output_type": "stream",
     "text": [
      "+-------+------------+------+\n",
      "|   Name|  Department|Salary|\n",
      "+-------+------------+------+\n",
      "|   john|Data Science| 10000|\n",
      "|Stephen|         IOT|  5000|\n",
      "|  Krish|Data Science| 20000|\n",
      "|    Joe|Data Science| 10000|\n",
      "|Stephen|         IOT|  5000|\n",
      "|   jack|     Bigdata| 10000|\n",
      "|  Krish|        NULL|  8000|\n",
      "+-------+------------+------+\n",
      "\n"
     ]
    }
   ],
   "source": [
    "df.na.drop(how=\"any\", subset = ['Name','Salary']).show()"
   ]
  },
  {
   "cell_type": "code",
   "execution_count": 1,
   "id": "cd270985",
   "metadata": {},
   "outputs": [],
   "source": [
    "from pyspark.sql import SparkSession"
   ]
  },
  {
   "cell_type": "code",
   "execution_count": 2,
   "id": "326eb771",
   "metadata": {},
   "outputs": [],
   "source": [
    "spark = SparkSession.builder.appName('prac').getOrCreate()"
   ]
  },
  {
   "cell_type": "code",
   "execution_count": 3,
   "id": "8c5f7737",
   "metadata": {},
   "outputs": [
    {
     "data": {
      "text/html": [
       "\n",
       "            <div>\n",
       "                <p><b>SparkSession - in-memory</b></p>\n",
       "                \n",
       "        <div>\n",
       "            <p><b>SparkContext</b></p>\n",
       "\n",
       "            <p><a href=\"http://192.168.101.11:4040\">Spark UI</a></p>\n",
       "\n",
       "            <dl>\n",
       "              <dt>Version</dt>\n",
       "                <dd><code>v3.5.0</code></dd>\n",
       "              <dt>Master</dt>\n",
       "                <dd><code>local[*]</code></dd>\n",
       "              <dt>AppName</dt>\n",
       "                <dd><code>prac</code></dd>\n",
       "            </dl>\n",
       "        </div>\n",
       "        \n",
       "            </div>\n",
       "        "
      ],
      "text/plain": [
       "<pyspark.sql.session.SparkSession at 0x23fbd9a97e0>"
      ]
     },
     "execution_count": 3,
     "metadata": {},
     "output_type": "execute_result"
    }
   ],
   "source": [
    "spark"
   ]
  },
  {
   "cell_type": "code",
   "execution_count": 5,
   "id": "03310b57",
   "metadata": {},
   "outputs": [],
   "source": [
    "df = spark.read.csv(r\"C:\\Users\\pavan\\OneDrive\\Desktop\\datasets\\tips.csv\", header=True,inferSchema = True)"
   ]
  },
  {
   "cell_type": "code",
   "execution_count": 6,
   "id": "8449e5fa",
   "metadata": {},
   "outputs": [
    {
     "name": "stdout",
     "output_type": "stream",
     "text": [
      "+----------+----+------+------+---+------+----+\n",
      "|total_bill| tip|   sex|smoker|day|  time|size|\n",
      "+----------+----+------+------+---+------+----+\n",
      "|     16.99|1.01|Female|    No|Sun|Dinner|   2|\n",
      "|     10.34|1.66|  Male|    No|Sun|Dinner|   3|\n",
      "|     21.01| 3.5|  Male|    No|Sun|Dinner|   3|\n",
      "|     23.68|3.31|  Male|    No|Sun|Dinner|   2|\n",
      "|     24.59|3.61|Female|    No|Sun|Dinner|   4|\n",
      "|     25.29|4.71|  Male|    No|Sun|Dinner|   4|\n",
      "|      8.77| 2.0|  Male|    No|Sun|Dinner|   2|\n",
      "|     26.88|3.12|  Male|    No|Sun|Dinner|   4|\n",
      "|     15.04|1.96|  Male|    No|Sun|Dinner|   2|\n",
      "|     14.78|3.23|  Male|    No|Sun|Dinner|   2|\n",
      "|     10.27|1.71|  Male|    No|Sun|Dinner|   2|\n",
      "|     35.26| 5.0|Female|    No|Sun|Dinner|   4|\n",
      "|     15.42|1.57|  Male|    No|Sun|Dinner|   2|\n",
      "|     18.43| 3.0|  Male|    No|Sun|Dinner|   4|\n",
      "|     14.83|3.02|Female|    No|Sun|Dinner|   2|\n",
      "|     21.58|3.92|  Male|    No|Sun|Dinner|   2|\n",
      "|     10.33|1.67|Female|    No|Sun|Dinner|   3|\n",
      "|     16.29|3.71|  Male|    No|Sun|Dinner|   3|\n",
      "|     16.97| 3.5|Female|    No|Sun|Dinner|   3|\n",
      "|     20.65|3.35|  Male|    No|Sat|Dinner|   3|\n",
      "+----------+----+------+------+---+------+----+\n",
      "only showing top 20 rows\n",
      "\n"
     ]
    }
   ],
   "source": [
    "df.show()"
   ]
  },
  {
   "cell_type": "code",
   "execution_count": 7,
   "id": "9c35c18f",
   "metadata": {},
   "outputs": [],
   "source": [
    "from pyspark.ml.feature import StringIndexer"
   ]
  },
  {
   "cell_type": "code",
   "execution_count": 9,
   "id": "46c65ae2",
   "metadata": {},
   "outputs": [],
   "source": [
    "indexer = StringIndexer(inputCols=['sex','smoker','day','time'], outputCols = ['sex_indexed','smoker_indexed','day_indexed','time_indexed'])"
   ]
  },
  {
   "cell_type": "code",
   "execution_count": 11,
   "id": "7ffc5176",
   "metadata": {},
   "outputs": [],
   "source": [
    "output_df = indexer.fit(df).transform(df)"
   ]
  },
  {
   "cell_type": "code",
   "execution_count": 13,
   "id": "797a68dd",
   "metadata": {},
   "outputs": [
    {
     "name": "stdout",
     "output_type": "stream",
     "text": [
      "+----------+----+------+------+---+------+----+-----------+--------------+-----------+------------+\n",
      "|total_bill| tip|   sex|smoker|day|  time|size|sex_indexed|smoker_indexed|day_indexed|time_indexed|\n",
      "+----------+----+------+------+---+------+----+-----------+--------------+-----------+------------+\n",
      "|     16.99|1.01|Female|    No|Sun|Dinner|   2|        1.0|           0.0|        1.0|         0.0|\n",
      "|     10.34|1.66|  Male|    No|Sun|Dinner|   3|        0.0|           0.0|        1.0|         0.0|\n",
      "|     21.01| 3.5|  Male|    No|Sun|Dinner|   3|        0.0|           0.0|        1.0|         0.0|\n",
      "|     23.68|3.31|  Male|    No|Sun|Dinner|   2|        0.0|           0.0|        1.0|         0.0|\n",
      "|     24.59|3.61|Female|    No|Sun|Dinner|   4|        1.0|           0.0|        1.0|         0.0|\n",
      "|     25.29|4.71|  Male|    No|Sun|Dinner|   4|        0.0|           0.0|        1.0|         0.0|\n",
      "|      8.77| 2.0|  Male|    No|Sun|Dinner|   2|        0.0|           0.0|        1.0|         0.0|\n",
      "|     26.88|3.12|  Male|    No|Sun|Dinner|   4|        0.0|           0.0|        1.0|         0.0|\n",
      "|     15.04|1.96|  Male|    No|Sun|Dinner|   2|        0.0|           0.0|        1.0|         0.0|\n",
      "|     14.78|3.23|  Male|    No|Sun|Dinner|   2|        0.0|           0.0|        1.0|         0.0|\n",
      "|     10.27|1.71|  Male|    No|Sun|Dinner|   2|        0.0|           0.0|        1.0|         0.0|\n",
      "|     35.26| 5.0|Female|    No|Sun|Dinner|   4|        1.0|           0.0|        1.0|         0.0|\n",
      "|     15.42|1.57|  Male|    No|Sun|Dinner|   2|        0.0|           0.0|        1.0|         0.0|\n",
      "|     18.43| 3.0|  Male|    No|Sun|Dinner|   4|        0.0|           0.0|        1.0|         0.0|\n",
      "|     14.83|3.02|Female|    No|Sun|Dinner|   2|        1.0|           0.0|        1.0|         0.0|\n",
      "|     21.58|3.92|  Male|    No|Sun|Dinner|   2|        0.0|           0.0|        1.0|         0.0|\n",
      "|     10.33|1.67|Female|    No|Sun|Dinner|   3|        1.0|           0.0|        1.0|         0.0|\n",
      "|     16.29|3.71|  Male|    No|Sun|Dinner|   3|        0.0|           0.0|        1.0|         0.0|\n",
      "|     16.97| 3.5|Female|    No|Sun|Dinner|   3|        1.0|           0.0|        1.0|         0.0|\n",
      "|     20.65|3.35|  Male|    No|Sat|Dinner|   3|        0.0|           0.0|        0.0|         0.0|\n",
      "+----------+----+------+------+---+------+----+-----------+--------------+-----------+------------+\n",
      "only showing top 20 rows\n",
      "\n"
     ]
    }
   ],
   "source": [
    "output_df.show()"
   ]
  },
  {
   "cell_type": "code",
   "execution_count": 14,
   "id": "20440497",
   "metadata": {},
   "outputs": [],
   "source": [
    "output_df = output_df.select('total_bill','tip','sex_indexed','smoker_indexed','day_indexed','time_indexed')"
   ]
  },
  {
   "cell_type": "code",
   "execution_count": 15,
   "id": "a04b9fc7",
   "metadata": {},
   "outputs": [
    {
     "name": "stdout",
     "output_type": "stream",
     "text": [
      "+----------+----+-----------+--------------+-----------+------------+\n",
      "|total_bill| tip|sex_indexed|smoker_indexed|day_indexed|time_indexed|\n",
      "+----------+----+-----------+--------------+-----------+------------+\n",
      "|     16.99|1.01|        1.0|           0.0|        1.0|         0.0|\n",
      "|     10.34|1.66|        0.0|           0.0|        1.0|         0.0|\n",
      "|     21.01| 3.5|        0.0|           0.0|        1.0|         0.0|\n",
      "|     23.68|3.31|        0.0|           0.0|        1.0|         0.0|\n",
      "|     24.59|3.61|        1.0|           0.0|        1.0|         0.0|\n",
      "|     25.29|4.71|        0.0|           0.0|        1.0|         0.0|\n",
      "|      8.77| 2.0|        0.0|           0.0|        1.0|         0.0|\n",
      "|     26.88|3.12|        0.0|           0.0|        1.0|         0.0|\n",
      "|     15.04|1.96|        0.0|           0.0|        1.0|         0.0|\n",
      "|     14.78|3.23|        0.0|           0.0|        1.0|         0.0|\n",
      "|     10.27|1.71|        0.0|           0.0|        1.0|         0.0|\n",
      "|     35.26| 5.0|        1.0|           0.0|        1.0|         0.0|\n",
      "|     15.42|1.57|        0.0|           0.0|        1.0|         0.0|\n",
      "|     18.43| 3.0|        0.0|           0.0|        1.0|         0.0|\n",
      "|     14.83|3.02|        1.0|           0.0|        1.0|         0.0|\n",
      "|     21.58|3.92|        0.0|           0.0|        1.0|         0.0|\n",
      "|     10.33|1.67|        1.0|           0.0|        1.0|         0.0|\n",
      "|     16.29|3.71|        0.0|           0.0|        1.0|         0.0|\n",
      "|     16.97| 3.5|        1.0|           0.0|        1.0|         0.0|\n",
      "|     20.65|3.35|        0.0|           0.0|        0.0|         0.0|\n",
      "+----------+----+-----------+--------------+-----------+------------+\n",
      "only showing top 20 rows\n",
      "\n"
     ]
    }
   ],
   "source": [
    "output_df.show()"
   ]
  },
  {
   "cell_type": "code",
   "execution_count": 16,
   "id": "9812b734",
   "metadata": {},
   "outputs": [],
   "source": [
    "from pyspark.ml.feature import VectorAssembler"
   ]
  },
  {
   "cell_type": "code",
   "execution_count": 17,
   "id": "d1da3a2e",
   "metadata": {},
   "outputs": [],
   "source": [
    "featureassembler = VectorAssembler(inputCols = ['tip','sex_indexed','smoker_indexed','day_indexed','time_indexed'], outputCol = 'Independent col')"
   ]
  },
  {
   "cell_type": "code",
   "execution_count": 22,
   "id": "f9bb21d6",
   "metadata": {},
   "outputs": [],
   "source": [
    "final_df = featureassembler.transform(output_df)"
   ]
  },
  {
   "cell_type": "code",
   "execution_count": 23,
   "id": "91f0f179",
   "metadata": {},
   "outputs": [
    {
     "name": "stdout",
     "output_type": "stream",
     "text": [
      "+----------+----+-----------+--------------+-----------+------------+--------------------+\n",
      "|total_bill| tip|sex_indexed|smoker_indexed|day_indexed|time_indexed|     Independent col|\n",
      "+----------+----+-----------+--------------+-----------+------------+--------------------+\n",
      "|     16.99|1.01|        1.0|           0.0|        1.0|         0.0|[1.01,1.0,0.0,1.0...|\n",
      "|     10.34|1.66|        0.0|           0.0|        1.0|         0.0|(5,[0,3],[1.66,1.0])|\n",
      "|     21.01| 3.5|        0.0|           0.0|        1.0|         0.0| (5,[0,3],[3.5,1.0])|\n",
      "|     23.68|3.31|        0.0|           0.0|        1.0|         0.0|(5,[0,3],[3.31,1.0])|\n",
      "|     24.59|3.61|        1.0|           0.0|        1.0|         0.0|[3.61,1.0,0.0,1.0...|\n",
      "|     25.29|4.71|        0.0|           0.0|        1.0|         0.0|(5,[0,3],[4.71,1.0])|\n",
      "|      8.77| 2.0|        0.0|           0.0|        1.0|         0.0| (5,[0,3],[2.0,1.0])|\n",
      "|     26.88|3.12|        0.0|           0.0|        1.0|         0.0|(5,[0,3],[3.12,1.0])|\n",
      "|     15.04|1.96|        0.0|           0.0|        1.0|         0.0|(5,[0,3],[1.96,1.0])|\n",
      "|     14.78|3.23|        0.0|           0.0|        1.0|         0.0|(5,[0,3],[3.23,1.0])|\n",
      "|     10.27|1.71|        0.0|           0.0|        1.0|         0.0|(5,[0,3],[1.71,1.0])|\n",
      "|     35.26| 5.0|        1.0|           0.0|        1.0|         0.0|[5.0,1.0,0.0,1.0,...|\n",
      "|     15.42|1.57|        0.0|           0.0|        1.0|         0.0|(5,[0,3],[1.57,1.0])|\n",
      "|     18.43| 3.0|        0.0|           0.0|        1.0|         0.0| (5,[0,3],[3.0,1.0])|\n",
      "|     14.83|3.02|        1.0|           0.0|        1.0|         0.0|[3.02,1.0,0.0,1.0...|\n",
      "|     21.58|3.92|        0.0|           0.0|        1.0|         0.0|(5,[0,3],[3.92,1.0])|\n",
      "|     10.33|1.67|        1.0|           0.0|        1.0|         0.0|[1.67,1.0,0.0,1.0...|\n",
      "|     16.29|3.71|        0.0|           0.0|        1.0|         0.0|(5,[0,3],[3.71,1.0])|\n",
      "|     16.97| 3.5|        1.0|           0.0|        1.0|         0.0|[3.5,1.0,0.0,1.0,...|\n",
      "|     20.65|3.35|        0.0|           0.0|        0.0|         0.0|      (5,[0],[3.35])|\n",
      "+----------+----+-----------+--------------+-----------+------------+--------------------+\n",
      "only showing top 20 rows\n",
      "\n"
     ]
    }
   ],
   "source": [
    "final_df.show()"
   ]
  },
  {
   "cell_type": "code",
   "execution_count": 24,
   "id": "259a29f0",
   "metadata": {},
   "outputs": [],
   "source": [
    "final_df = final_df.select('Independent col','total_bill')"
   ]
  },
  {
   "cell_type": "code",
   "execution_count": 25,
   "id": "f41913a5",
   "metadata": {},
   "outputs": [
    {
     "name": "stdout",
     "output_type": "stream",
     "text": [
      "+--------------------+----------+\n",
      "|     Independent col|total_bill|\n",
      "+--------------------+----------+\n",
      "|[1.01,1.0,0.0,1.0...|     16.99|\n",
      "|(5,[0,3],[1.66,1.0])|     10.34|\n",
      "| (5,[0,3],[3.5,1.0])|     21.01|\n",
      "|(5,[0,3],[3.31,1.0])|     23.68|\n",
      "|[3.61,1.0,0.0,1.0...|     24.59|\n",
      "|(5,[0,3],[4.71,1.0])|     25.29|\n",
      "| (5,[0,3],[2.0,1.0])|      8.77|\n",
      "|(5,[0,3],[3.12,1.0])|     26.88|\n",
      "|(5,[0,3],[1.96,1.0])|     15.04|\n",
      "|(5,[0,3],[3.23,1.0])|     14.78|\n",
      "|(5,[0,3],[1.71,1.0])|     10.27|\n",
      "|[5.0,1.0,0.0,1.0,...|     35.26|\n",
      "|(5,[0,3],[1.57,1.0])|     15.42|\n",
      "| (5,[0,3],[3.0,1.0])|     18.43|\n",
      "|[3.02,1.0,0.0,1.0...|     14.83|\n",
      "|(5,[0,3],[3.92,1.0])|     21.58|\n",
      "|[1.67,1.0,0.0,1.0...|     10.33|\n",
      "|(5,[0,3],[3.71,1.0])|     16.29|\n",
      "|[3.5,1.0,0.0,1.0,...|     16.97|\n",
      "|      (5,[0],[3.35])|     20.65|\n",
      "+--------------------+----------+\n",
      "only showing top 20 rows\n",
      "\n"
     ]
    }
   ],
   "source": [
    "final_df.show()"
   ]
  },
  {
   "cell_type": "code",
   "execution_count": 26,
   "id": "c2f0661e",
   "metadata": {},
   "outputs": [],
   "source": [
    "train_data, test_data = final_df.randomSplit([0.75,0.25])"
   ]
  },
  {
   "cell_type": "code",
   "execution_count": 27,
   "id": "2af250bb",
   "metadata": {},
   "outputs": [],
   "source": [
    "from pyspark.ml.regression import LinearRegression"
   ]
  },
  {
   "cell_type": "code",
   "execution_count": 29,
   "id": "5af0f207",
   "metadata": {},
   "outputs": [],
   "source": [
    "regressor = LinearRegression(featuresCol=\"Independent col\", labelCol = 'total_bill')"
   ]
  },
  {
   "cell_type": "code",
   "execution_count": 30,
   "id": "58557b60",
   "metadata": {},
   "outputs": [],
   "source": [
    "regressor = regressor.fit(train_data)"
   ]
  },
  {
   "cell_type": "code",
   "execution_count": 32,
   "id": "95513c80",
   "metadata": {},
   "outputs": [
    {
     "name": "stderr",
     "output_type": "stream",
     "text": [
      "Exception ignored in: <function JavaWrapper.__del__ at 0x0000023FBEA7F250>\n",
      "Traceback (most recent call last):\n",
      "  File \"C:\\Users\\pavan\\anaconda3\\lib\\site-packages\\pyspark\\ml\\wrapper.py\", line 53, in __del__\n",
      "    if SparkContext._active_spark_context and self._java_obj is not None:\n",
      "AttributeError: 'LinearRegression' object has no attribute '_java_obj'\n"
     ]
    },
    {
     "ename": "ConnectionRefusedError",
     "evalue": "[WinError 10061] No connection could be made because the target machine actively refused it",
     "output_type": "error",
     "traceback": [
      "\u001b[1;31m---------------------------------------------------------------------------\u001b[0m",
      "\u001b[1;31mConnectionResetError\u001b[0m                      Traceback (most recent call last)",
      "File \u001b[1;32m~\\anaconda3\\lib\\site-packages\\py4j\\clientserver.py:503\u001b[0m, in \u001b[0;36mClientServerConnection.send_command\u001b[1;34m(self, command)\u001b[0m\n\u001b[0;32m    502\u001b[0m \u001b[38;5;28;01mtry\u001b[39;00m:\n\u001b[1;32m--> 503\u001b[0m     \u001b[38;5;28;43mself\u001b[39;49m\u001b[38;5;241;43m.\u001b[39;49m\u001b[43msocket\u001b[49m\u001b[38;5;241;43m.\u001b[39;49m\u001b[43msendall\u001b[49m\u001b[43m(\u001b[49m\u001b[43mcommand\u001b[49m\u001b[38;5;241;43m.\u001b[39;49m\u001b[43mencode\u001b[49m\u001b[43m(\u001b[49m\u001b[38;5;124;43m\"\u001b[39;49m\u001b[38;5;124;43mutf-8\u001b[39;49m\u001b[38;5;124;43m\"\u001b[39;49m\u001b[43m)\u001b[49m\u001b[43m)\u001b[49m\n\u001b[0;32m    504\u001b[0m \u001b[38;5;28;01mexcept\u001b[39;00m \u001b[38;5;167;01mException\u001b[39;00m \u001b[38;5;28;01mas\u001b[39;00m e:\n",
      "\u001b[1;31mConnectionResetError\u001b[0m: [WinError 10054] An existing connection was forcibly closed by the remote host",
      "\nDuring handling of the above exception, another exception occurred:\n",
      "\u001b[1;31mPy4JNetworkError\u001b[0m                          Traceback (most recent call last)",
      "File \u001b[1;32m~\\anaconda3\\lib\\site-packages\\py4j\\java_gateway.py:1038\u001b[0m, in \u001b[0;36mGatewayClient.send_command\u001b[1;34m(self, command, retry, binary)\u001b[0m\n\u001b[0;32m   1037\u001b[0m \u001b[38;5;28;01mtry\u001b[39;00m:\n\u001b[1;32m-> 1038\u001b[0m     response \u001b[38;5;241m=\u001b[39m \u001b[43mconnection\u001b[49m\u001b[38;5;241;43m.\u001b[39;49m\u001b[43msend_command\u001b[49m\u001b[43m(\u001b[49m\u001b[43mcommand\u001b[49m\u001b[43m)\u001b[49m\n\u001b[0;32m   1039\u001b[0m     \u001b[38;5;28;01mif\u001b[39;00m binary:\n",
      "File \u001b[1;32m~\\anaconda3\\lib\\site-packages\\py4j\\clientserver.py:506\u001b[0m, in \u001b[0;36mClientServerConnection.send_command\u001b[1;34m(self, command)\u001b[0m\n\u001b[0;32m    505\u001b[0m     logger\u001b[38;5;241m.\u001b[39minfo(\u001b[38;5;124m\"\u001b[39m\u001b[38;5;124mError while sending or receiving.\u001b[39m\u001b[38;5;124m\"\u001b[39m, exc_info\u001b[38;5;241m=\u001b[39m\u001b[38;5;28;01mTrue\u001b[39;00m)\n\u001b[1;32m--> 506\u001b[0m     \u001b[38;5;28;01mraise\u001b[39;00m Py4JNetworkError(\n\u001b[0;32m    507\u001b[0m         \u001b[38;5;124m\"\u001b[39m\u001b[38;5;124mError while sending\u001b[39m\u001b[38;5;124m\"\u001b[39m, e, proto\u001b[38;5;241m.\u001b[39mERROR_ON_SEND)\n\u001b[0;32m    509\u001b[0m \u001b[38;5;28;01mtry\u001b[39;00m:\n",
      "\u001b[1;31mPy4JNetworkError\u001b[0m: Error while sending",
      "\nDuring handling of the above exception, another exception occurred:\n",
      "\u001b[1;31mConnectionRefusedError\u001b[0m                    Traceback (most recent call last)",
      "Cell \u001b[1;32mIn[32], line 1\u001b[0m\n\u001b[1;32m----> 1\u001b[0m prediction \u001b[38;5;241m=\u001b[39m \u001b[43mregressor\u001b[49m\u001b[38;5;241;43m.\u001b[39;49m\u001b[43mevaluate\u001b[49m\u001b[43m(\u001b[49m\u001b[43mtest_data\u001b[49m\u001b[43m)\u001b[49m\n",
      "File \u001b[1;32m~\\anaconda3\\lib\\site-packages\\pyspark\\ml\\regression.py:509\u001b[0m, in \u001b[0;36mLinearRegressionModel.evaluate\u001b[1;34m(self, dataset)\u001b[0m\n\u001b[0;32m    507\u001b[0m \u001b[38;5;28;01mif\u001b[39;00m \u001b[38;5;129;01mnot\u001b[39;00m \u001b[38;5;28misinstance\u001b[39m(dataset, DataFrame):\n\u001b[0;32m    508\u001b[0m     \u001b[38;5;28;01mraise\u001b[39;00m \u001b[38;5;167;01mTypeError\u001b[39;00m(\u001b[38;5;124m\"\u001b[39m\u001b[38;5;124mdataset must be a DataFrame but got \u001b[39m\u001b[38;5;132;01m%s\u001b[39;00m\u001b[38;5;124m.\u001b[39m\u001b[38;5;124m\"\u001b[39m \u001b[38;5;241m%\u001b[39m \u001b[38;5;28mtype\u001b[39m(dataset))\n\u001b[1;32m--> 509\u001b[0m java_lr_summary \u001b[38;5;241m=\u001b[39m \u001b[38;5;28;43mself\u001b[39;49m\u001b[38;5;241;43m.\u001b[39;49m\u001b[43m_call_java\u001b[49m\u001b[43m(\u001b[49m\u001b[38;5;124;43m\"\u001b[39;49m\u001b[38;5;124;43mevaluate\u001b[39;49m\u001b[38;5;124;43m\"\u001b[39;49m\u001b[43m,\u001b[49m\u001b[43m \u001b[49m\u001b[43mdataset\u001b[49m\u001b[43m)\u001b[49m\n\u001b[0;32m    510\u001b[0m \u001b[38;5;28;01mreturn\u001b[39;00m LinearRegressionSummary(java_lr_summary)\n",
      "File \u001b[1;32m~\\anaconda3\\lib\\site-packages\\pyspark\\ml\\wrapper.py:72\u001b[0m, in \u001b[0;36mJavaWrapper._call_java\u001b[1;34m(self, name, *args)\u001b[0m\n\u001b[0;32m     69\u001b[0m \u001b[38;5;28;01massert\u001b[39;00m sc \u001b[38;5;129;01mis\u001b[39;00m \u001b[38;5;129;01mnot\u001b[39;00m \u001b[38;5;28;01mNone\u001b[39;00m\n\u001b[0;32m     71\u001b[0m java_args \u001b[38;5;241m=\u001b[39m [_py2java(sc, arg) \u001b[38;5;28;01mfor\u001b[39;00m arg \u001b[38;5;129;01min\u001b[39;00m args]\n\u001b[1;32m---> 72\u001b[0m \u001b[38;5;28;01mreturn\u001b[39;00m _java2py(sc, \u001b[43mm\u001b[49m\u001b[43m(\u001b[49m\u001b[38;5;241;43m*\u001b[39;49m\u001b[43mjava_args\u001b[49m\u001b[43m)\u001b[49m)\n",
      "File \u001b[1;32m~\\anaconda3\\lib\\site-packages\\py4j\\java_gateway.py:1321\u001b[0m, in \u001b[0;36mJavaMember.__call__\u001b[1;34m(self, *args)\u001b[0m\n\u001b[0;32m   1314\u001b[0m args_command, temp_args \u001b[38;5;241m=\u001b[39m \u001b[38;5;28mself\u001b[39m\u001b[38;5;241m.\u001b[39m_build_args(\u001b[38;5;241m*\u001b[39margs)\n\u001b[0;32m   1316\u001b[0m command \u001b[38;5;241m=\u001b[39m proto\u001b[38;5;241m.\u001b[39mCALL_COMMAND_NAME \u001b[38;5;241m+\u001b[39m\\\n\u001b[0;32m   1317\u001b[0m     \u001b[38;5;28mself\u001b[39m\u001b[38;5;241m.\u001b[39mcommand_header \u001b[38;5;241m+\u001b[39m\\\n\u001b[0;32m   1318\u001b[0m     args_command \u001b[38;5;241m+\u001b[39m\\\n\u001b[0;32m   1319\u001b[0m     proto\u001b[38;5;241m.\u001b[39mEND_COMMAND_PART\n\u001b[1;32m-> 1321\u001b[0m answer \u001b[38;5;241m=\u001b[39m \u001b[38;5;28;43mself\u001b[39;49m\u001b[38;5;241;43m.\u001b[39;49m\u001b[43mgateway_client\u001b[49m\u001b[38;5;241;43m.\u001b[39;49m\u001b[43msend_command\u001b[49m\u001b[43m(\u001b[49m\u001b[43mcommand\u001b[49m\u001b[43m)\u001b[49m\n\u001b[0;32m   1322\u001b[0m return_value \u001b[38;5;241m=\u001b[39m get_return_value(\n\u001b[0;32m   1323\u001b[0m     answer, \u001b[38;5;28mself\u001b[39m\u001b[38;5;241m.\u001b[39mgateway_client, \u001b[38;5;28mself\u001b[39m\u001b[38;5;241m.\u001b[39mtarget_id, \u001b[38;5;28mself\u001b[39m\u001b[38;5;241m.\u001b[39mname)\n\u001b[0;32m   1325\u001b[0m \u001b[38;5;28;01mfor\u001b[39;00m temp_arg \u001b[38;5;129;01min\u001b[39;00m temp_args:\n",
      "File \u001b[1;32m~\\anaconda3\\lib\\site-packages\\py4j\\java_gateway.py:1053\u001b[0m, in \u001b[0;36mGatewayClient.send_command\u001b[1;34m(self, command, retry, binary)\u001b[0m\n\u001b[0;32m   1051\u001b[0m \u001b[38;5;28;01mif\u001b[39;00m \u001b[38;5;28mself\u001b[39m\u001b[38;5;241m.\u001b[39m_should_retry(retry, connection, pne):\n\u001b[0;32m   1052\u001b[0m     logging\u001b[38;5;241m.\u001b[39minfo(\u001b[38;5;124m\"\u001b[39m\u001b[38;5;124mException while sending command.\u001b[39m\u001b[38;5;124m\"\u001b[39m, exc_info\u001b[38;5;241m=\u001b[39m\u001b[38;5;28;01mTrue\u001b[39;00m)\n\u001b[1;32m-> 1053\u001b[0m     response \u001b[38;5;241m=\u001b[39m \u001b[38;5;28;43mself\u001b[39;49m\u001b[38;5;241;43m.\u001b[39;49m\u001b[43msend_command\u001b[49m\u001b[43m(\u001b[49m\u001b[43mcommand\u001b[49m\u001b[43m,\u001b[49m\u001b[43m \u001b[49m\u001b[43mbinary\u001b[49m\u001b[38;5;241;43m=\u001b[39;49m\u001b[43mbinary\u001b[49m\u001b[43m)\u001b[49m\n\u001b[0;32m   1054\u001b[0m \u001b[38;5;28;01melse\u001b[39;00m:\n\u001b[0;32m   1055\u001b[0m     logging\u001b[38;5;241m.\u001b[39mexception(\n\u001b[0;32m   1056\u001b[0m         \u001b[38;5;124m\"\u001b[39m\u001b[38;5;124mException while sending command.\u001b[39m\u001b[38;5;124m\"\u001b[39m)\n",
      "File \u001b[1;32m~\\anaconda3\\lib\\site-packages\\py4j\\java_gateway.py:1036\u001b[0m, in \u001b[0;36mGatewayClient.send_command\u001b[1;34m(self, command, retry, binary)\u001b[0m\n\u001b[0;32m   1015\u001b[0m \u001b[38;5;28;01mdef\u001b[39;00m \u001b[38;5;21msend_command\u001b[39m(\u001b[38;5;28mself\u001b[39m, command, retry\u001b[38;5;241m=\u001b[39m\u001b[38;5;28;01mTrue\u001b[39;00m, binary\u001b[38;5;241m=\u001b[39m\u001b[38;5;28;01mFalse\u001b[39;00m):\n\u001b[0;32m   1016\u001b[0m     \u001b[38;5;124;03m\"\"\"Sends a command to the JVM. This method is not intended to be\u001b[39;00m\n\u001b[0;32m   1017\u001b[0m \u001b[38;5;124;03m       called directly by Py4J users. It is usually called by\u001b[39;00m\n\u001b[0;32m   1018\u001b[0m \u001b[38;5;124;03m       :class:`JavaMember` instances.\u001b[39;00m\n\u001b[1;32m   (...)\u001b[0m\n\u001b[0;32m   1034\u001b[0m \u001b[38;5;124;03m     if `binary` is `True`.\u001b[39;00m\n\u001b[0;32m   1035\u001b[0m \u001b[38;5;124;03m    \"\"\"\u001b[39;00m\n\u001b[1;32m-> 1036\u001b[0m     connection \u001b[38;5;241m=\u001b[39m \u001b[38;5;28;43mself\u001b[39;49m\u001b[38;5;241;43m.\u001b[39;49m\u001b[43m_get_connection\u001b[49m\u001b[43m(\u001b[49m\u001b[43m)\u001b[49m\n\u001b[0;32m   1037\u001b[0m     \u001b[38;5;28;01mtry\u001b[39;00m:\n\u001b[0;32m   1038\u001b[0m         response \u001b[38;5;241m=\u001b[39m connection\u001b[38;5;241m.\u001b[39msend_command(command)\n",
      "File \u001b[1;32m~\\anaconda3\\lib\\site-packages\\py4j\\clientserver.py:284\u001b[0m, in \u001b[0;36mJavaClient._get_connection\u001b[1;34m(self)\u001b[0m\n\u001b[0;32m    281\u001b[0m     \u001b[38;5;28;01mpass\u001b[39;00m\n\u001b[0;32m    283\u001b[0m \u001b[38;5;28;01mif\u001b[39;00m connection \u001b[38;5;129;01mis\u001b[39;00m \u001b[38;5;28;01mNone\u001b[39;00m \u001b[38;5;129;01mor\u001b[39;00m connection\u001b[38;5;241m.\u001b[39msocket \u001b[38;5;129;01mis\u001b[39;00m \u001b[38;5;28;01mNone\u001b[39;00m:\n\u001b[1;32m--> 284\u001b[0m     connection \u001b[38;5;241m=\u001b[39m \u001b[38;5;28;43mself\u001b[39;49m\u001b[38;5;241;43m.\u001b[39;49m\u001b[43m_create_new_connection\u001b[49m\u001b[43m(\u001b[49m\u001b[43m)\u001b[49m\n\u001b[0;32m    285\u001b[0m \u001b[38;5;28;01mreturn\u001b[39;00m connection\n",
      "File \u001b[1;32m~\\anaconda3\\lib\\site-packages\\py4j\\clientserver.py:291\u001b[0m, in \u001b[0;36mJavaClient._create_new_connection\u001b[1;34m(self)\u001b[0m\n\u001b[0;32m    287\u001b[0m \u001b[38;5;28;01mdef\u001b[39;00m \u001b[38;5;21m_create_new_connection\u001b[39m(\u001b[38;5;28mself\u001b[39m):\n\u001b[0;32m    288\u001b[0m     connection \u001b[38;5;241m=\u001b[39m ClientServerConnection(\n\u001b[0;32m    289\u001b[0m         \u001b[38;5;28mself\u001b[39m\u001b[38;5;241m.\u001b[39mjava_parameters, \u001b[38;5;28mself\u001b[39m\u001b[38;5;241m.\u001b[39mpython_parameters,\n\u001b[0;32m    290\u001b[0m         \u001b[38;5;28mself\u001b[39m\u001b[38;5;241m.\u001b[39mgateway_property, \u001b[38;5;28mself\u001b[39m)\n\u001b[1;32m--> 291\u001b[0m     \u001b[43mconnection\u001b[49m\u001b[38;5;241;43m.\u001b[39;49m\u001b[43mconnect_to_java_server\u001b[49m\u001b[43m(\u001b[49m\u001b[43m)\u001b[49m\n\u001b[0;32m    292\u001b[0m     \u001b[38;5;28mself\u001b[39m\u001b[38;5;241m.\u001b[39mset_thread_connection(connection)\n\u001b[0;32m    293\u001b[0m     \u001b[38;5;28;01mreturn\u001b[39;00m connection\n",
      "File \u001b[1;32m~\\anaconda3\\lib\\site-packages\\py4j\\clientserver.py:438\u001b[0m, in \u001b[0;36mClientServerConnection.connect_to_java_server\u001b[1;34m(self)\u001b[0m\n\u001b[0;32m    435\u001b[0m \u001b[38;5;28;01mif\u001b[39;00m \u001b[38;5;28mself\u001b[39m\u001b[38;5;241m.\u001b[39mssl_context:\n\u001b[0;32m    436\u001b[0m     \u001b[38;5;28mself\u001b[39m\u001b[38;5;241m.\u001b[39msocket \u001b[38;5;241m=\u001b[39m \u001b[38;5;28mself\u001b[39m\u001b[38;5;241m.\u001b[39mssl_context\u001b[38;5;241m.\u001b[39mwrap_socket(\n\u001b[0;32m    437\u001b[0m         \u001b[38;5;28mself\u001b[39m\u001b[38;5;241m.\u001b[39msocket, server_hostname\u001b[38;5;241m=\u001b[39m\u001b[38;5;28mself\u001b[39m\u001b[38;5;241m.\u001b[39mjava_address)\n\u001b[1;32m--> 438\u001b[0m \u001b[38;5;28;43mself\u001b[39;49m\u001b[38;5;241;43m.\u001b[39;49m\u001b[43msocket\u001b[49m\u001b[38;5;241;43m.\u001b[39;49m\u001b[43mconnect\u001b[49m\u001b[43m(\u001b[49m\u001b[43m(\u001b[49m\u001b[38;5;28;43mself\u001b[39;49m\u001b[38;5;241;43m.\u001b[39;49m\u001b[43mjava_address\u001b[49m\u001b[43m,\u001b[49m\u001b[43m \u001b[49m\u001b[38;5;28;43mself\u001b[39;49m\u001b[38;5;241;43m.\u001b[39;49m\u001b[43mjava_port\u001b[49m\u001b[43m)\u001b[49m\u001b[43m)\u001b[49m\n\u001b[0;32m    439\u001b[0m \u001b[38;5;28mself\u001b[39m\u001b[38;5;241m.\u001b[39mstream \u001b[38;5;241m=\u001b[39m \u001b[38;5;28mself\u001b[39m\u001b[38;5;241m.\u001b[39msocket\u001b[38;5;241m.\u001b[39mmakefile(\u001b[38;5;124m\"\u001b[39m\u001b[38;5;124mrb\u001b[39m\u001b[38;5;124m\"\u001b[39m)\n\u001b[0;32m    440\u001b[0m \u001b[38;5;28mself\u001b[39m\u001b[38;5;241m.\u001b[39mis_connected \u001b[38;5;241m=\u001b[39m \u001b[38;5;28;01mTrue\u001b[39;00m\n",
      "\u001b[1;31mConnectionRefusedError\u001b[0m: [WinError 10061] No connection could be made because the target machine actively refused it"
     ]
    }
   ],
   "source": [
    "prediction = regressor.evaluate(test_data)"
   ]
  },
  {
   "cell_type": "code",
   "execution_count": 33,
   "id": "972da7dc",
   "metadata": {},
   "outputs": [
    {
     "ename": "NameError",
     "evalue": "name 'prediction' is not defined",
     "output_type": "error",
     "traceback": [
      "\u001b[1;31m---------------------------------------------------------------------------\u001b[0m",
      "\u001b[1;31mNameError\u001b[0m                                 Traceback (most recent call last)",
      "Cell \u001b[1;32mIn[33], line 1\u001b[0m\n\u001b[1;32m----> 1\u001b[0m \u001b[43mprediction\u001b[49m\u001b[38;5;241m.\u001b[39mpredictions\u001b[38;5;241m.\u001b[39mshow()\n",
      "\u001b[1;31mNameError\u001b[0m: name 'prediction' is not defined"
     ]
    }
   ],
   "source": [
    "prediction.predictions.show()"
   ]
  },
  {
   "cell_type": "code",
   "execution_count": null,
   "id": "9df27329",
   "metadata": {},
   "outputs": [],
   "source": []
  }
 ],
 "metadata": {
  "kernelspec": {
   "display_name": "Python 3 (ipykernel)",
   "language": "python",
   "name": "python3"
  },
  "language_info": {
   "codemirror_mode": {
    "name": "ipython",
    "version": 3
   },
   "file_extension": ".py",
   "mimetype": "text/x-python",
   "name": "python",
   "nbconvert_exporter": "python",
   "pygments_lexer": "ipython3",
   "version": "3.10.9"
  }
 },
 "nbformat": 4,
 "nbformat_minor": 5
}
