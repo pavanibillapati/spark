{
 "cells": [
  {
   "cell_type": "code",
   "execution_count": 1,
   "id": "b35a8a2e",
   "metadata": {},
   "outputs": [],
   "source": [
    "from pyspark.sql import SparkSession"
   ]
  },
  {
   "cell_type": "code",
   "execution_count": 2,
   "id": "3452045e",
   "metadata": {},
   "outputs": [],
   "source": [
    "spark = SparkSession.builder.appName('DataFrame').getOrCreate()"
   ]
  },
  {
   "cell_type": "code",
   "execution_count": 3,
   "id": "c1bee904",
   "metadata": {},
   "outputs": [
    {
     "data": {
      "text/html": [
       "\n",
       "            <div>\n",
       "                <p><b>SparkSession - in-memory</b></p>\n",
       "                \n",
       "        <div>\n",
       "            <p><b>SparkContext</b></p>\n",
       "\n",
       "            <p><a href=\"http://172.19.54.31:4041\">Spark UI</a></p>\n",
       "\n",
       "            <dl>\n",
       "              <dt>Version</dt>\n",
       "                <dd><code>v3.5.0</code></dd>\n",
       "              <dt>Master</dt>\n",
       "                <dd><code>local[*]</code></dd>\n",
       "              <dt>AppName</dt>\n",
       "                <dd><code>DataFrame</code></dd>\n",
       "            </dl>\n",
       "        </div>\n",
       "        \n",
       "            </div>\n",
       "        "
      ],
      "text/plain": [
       "<pyspark.sql.session.SparkSession at 0x260b0f06170>"
      ]
     },
     "execution_count": 3,
     "metadata": {},
     "output_type": "execute_result"
    }
   ],
   "source": [
    "spark"
   ]
  },
  {
   "cell_type": "code",
   "execution_count": 10,
   "id": "2bd99aef",
   "metadata": {},
   "outputs": [],
   "source": [
    "# read the dataset\n",
    "#inferschema - for not taking all columns to be as string\n",
    "\n",
    "df_pyspark = spark.read.option('header','true').csv(r\"C:\\Users\\pavan\\OneDrive\\Desktop\\prep\\datasets\\test1.csv\",inferSchema=True)"
   ]
  },
  {
   "cell_type": "code",
   "execution_count": 11,
   "id": "df77c0c8",
   "metadata": {},
   "outputs": [
    {
     "name": "stdout",
     "output_type": "stream",
     "text": [
      "root\n",
      " |-- Id : integer (nullable = true)\n",
      " |-- Name: string (nullable = true)\n",
      " |-- Age: integer (nullable = true)\n",
      "\n"
     ]
    }
   ],
   "source": [
    "## Check the schema\n",
    "\n",
    "df_pyspark.printSchema()"
   ]
  },
  {
   "cell_type": "code",
   "execution_count": 13,
   "id": "72cf4202",
   "metadata": {},
   "outputs": [],
   "source": [
    "#another way to read dataset \n",
    "\n",
    "df_pyspark = spark.read.csv(r\"C:\\Users\\pavan\\OneDrive\\Desktop\\prep\\datasets\\test1.csv\",header = 'True', inferSchema = True)"
   ]
  },
  {
   "cell_type": "code",
   "execution_count": 14,
   "id": "39212141",
   "metadata": {},
   "outputs": [
    {
     "name": "stdout",
     "output_type": "stream",
     "text": [
      "+---+-------+---+\n",
      "|Id |   Name|Age|\n",
      "+---+-------+---+\n",
      "|  1|   john| 22|\n",
      "|  2|Stephen| 22|\n",
      "|  3|  Stacy| 24|\n",
      "|  4|   paul| 23|\n",
      "+---+-------+---+\n",
      "\n"
     ]
    }
   ],
   "source": [
    "df_pyspark.show()"
   ]
  },
  {
   "cell_type": "code",
   "execution_count": 15,
   "id": "08611e13",
   "metadata": {},
   "outputs": [
    {
     "name": "stdout",
     "output_type": "stream",
     "text": [
      "root\n",
      " |-- Id : integer (nullable = true)\n",
      " |-- Name: string (nullable = true)\n",
      " |-- Age: integer (nullable = true)\n",
      "\n"
     ]
    }
   ],
   "source": [
    "#check schema\n",
    "\n",
    "df_pyspark.printSchema()"
   ]
  },
  {
   "cell_type": "code",
   "execution_count": 16,
   "id": "69135055",
   "metadata": {},
   "outputs": [
    {
     "data": {
      "text/plain": [
       "pyspark.sql.dataframe.DataFrame"
      ]
     },
     "execution_count": 16,
     "metadata": {},
     "output_type": "execute_result"
    }
   ],
   "source": [
    "type(df_pyspark)"
   ]
  },
  {
   "cell_type": "code",
   "execution_count": 17,
   "id": "a80c6f2c",
   "metadata": {},
   "outputs": [
    {
     "data": {
      "text/plain": [
       "['Id ', 'Name', 'Age']"
      ]
     },
     "execution_count": 17,
     "metadata": {},
     "output_type": "execute_result"
    }
   ],
   "source": [
    "# to see all columns\n",
    "\n",
    "df_pyspark.columns"
   ]
  },
  {
   "cell_type": "code",
   "execution_count": 19,
   "id": "a0c2e05a",
   "metadata": {},
   "outputs": [
    {
     "data": {
      "text/plain": [
       "[Row(Id =1, Name='john', Age=22),\n",
       " Row(Id =2, Name='Stephen', Age=22),\n",
       " Row(Id =3, Name='Stacy', Age=24)]"
      ]
     },
     "execution_count": 19,
     "metadata": {},
     "output_type": "execute_result"
    }
   ],
   "source": [
    "df_pyspark.head(3)\n",
    "\n",
    "# Unlike pandas rows are dispalyed in list format instead of dataframe"
   ]
  },
  {
   "cell_type": "code",
   "execution_count": 20,
   "id": "0d785e43",
   "metadata": {},
   "outputs": [
    {
     "name": "stdout",
     "output_type": "stream",
     "text": [
      "+-------+\n",
      "|   Name|\n",
      "+-------+\n",
      "|   john|\n",
      "|Stephen|\n",
      "|  Stacy|\n",
      "|   paul|\n",
      "+-------+\n",
      "\n"
     ]
    }
   ],
   "source": [
    "#pick only one column\n",
    "\n",
    "df_pyspark.select('Name').show()"
   ]
  },
  {
   "cell_type": "code",
   "execution_count": 21,
   "id": "561c1ec0",
   "metadata": {},
   "outputs": [
    {
     "data": {
      "text/plain": [
       "pyspark.sql.dataframe.DataFrame"
      ]
     },
     "execution_count": 21,
     "metadata": {},
     "output_type": "execute_result"
    }
   ],
   "source": [
    "type(df_pyspark.select('Name'))"
   ]
  },
  {
   "cell_type": "code",
   "execution_count": 24,
   "id": "b660de49",
   "metadata": {},
   "outputs": [
    {
     "name": "stdout",
     "output_type": "stream",
     "text": [
      "+-------+---+\n",
      "|   Name|Age|\n",
      "+-------+---+\n",
      "|   john| 22|\n",
      "|Stephen| 22|\n",
      "|  Stacy| 24|\n",
      "|   paul| 23|\n",
      "+-------+---+\n",
      "\n"
     ]
    }
   ],
   "source": [
    "# pick multiple columns\n",
    "\n",
    "df_pyspark.select(['Name','Age']).show()"
   ]
  },
  {
   "cell_type": "code",
   "execution_count": 25,
   "id": "c522223b",
   "metadata": {},
   "outputs": [
    {
     "data": {
      "text/plain": [
       "Column<'name'>"
      ]
     },
     "execution_count": 25,
     "metadata": {},
     "output_type": "execute_result"
    }
   ],
   "source": [
    "df_pyspark['name']\n",
    "\n",
    "# but this cant be used to show the rows sicne it's of type column"
   ]
  },
  {
   "cell_type": "code",
   "execution_count": 26,
   "id": "c6b0feb6",
   "metadata": {},
   "outputs": [
    {
     "data": {
      "text/plain": [
       "[('Id ', 'int'), ('Name', 'string'), ('Age', 'int')]"
      ]
     },
     "execution_count": 26,
     "metadata": {},
     "output_type": "execute_result"
    }
   ],
   "source": [
    "#datatypes\n",
    "\n",
    "df_pyspark.dtypes"
   ]
  },
  {
   "cell_type": "code",
   "execution_count": 27,
   "id": "d086de40",
   "metadata": {},
   "outputs": [
    {
     "data": {
      "text/plain": [
       "DataFrame[summary: string, Id : string, Name: string, Age: string]"
      ]
     },
     "execution_count": 27,
     "metadata": {},
     "output_type": "execute_result"
    }
   ],
   "source": [
    "#describe\n",
    "\n",
    "df_pyspark.describe()"
   ]
  },
  {
   "cell_type": "code",
   "execution_count": 28,
   "id": "dfabd811",
   "metadata": {},
   "outputs": [
    {
     "name": "stdout",
     "output_type": "stream",
     "text": [
      "+-------+------------------+-----+-----------------+\n",
      "|summary|               Id | Name|              Age|\n",
      "+-------+------------------+-----+-----------------+\n",
      "|  count|                 4|    4|                4|\n",
      "|   mean|               2.5| NULL|            22.75|\n",
      "| stddev|1.2909944487358056| NULL|0.957427107756338|\n",
      "|    min|                 1|Stacy|               22|\n",
      "|    max|                 4| paul|               24|\n",
      "+-------+------------------+-----+-----------------+\n",
      "\n"
     ]
    }
   ],
   "source": [
    "df_pyspark.describe().show()\n",
    "\n",
    "# gives count,mean,std,min, max on string columns as well\n",
    "#Mean and std can't for string columns is given as Null"
   ]
  },
  {
   "cell_type": "code",
   "execution_count": 31,
   "id": "e510520f",
   "metadata": {},
   "outputs": [
    {
     "name": "stdout",
     "output_type": "stream",
     "text": [
      "+---+-------+---+-----------------+\n",
      "|Id |   Name|Age|Age after 2 years|\n",
      "+---+-------+---+-----------------+\n",
      "|  1|   john| 22|               24|\n",
      "|  2|Stephen| 22|               24|\n",
      "|  3|  Stacy| 24|               26|\n",
      "|  4|   paul| 23|               25|\n",
      "+---+-------+---+-----------------+\n",
      "\n"
     ]
    }
   ],
   "source": [
    "#Adding columns in dataframe\n",
    "\n",
    "df_pyspark.withColumn('Age after 2 years', df_pyspark['Age']+2).show()"
   ]
  },
  {
   "cell_type": "code",
   "execution_count": 30,
   "id": "f4e2f546",
   "metadata": {},
   "outputs": [
    {
     "name": "stdout",
     "output_type": "stream",
     "text": [
      "+---+-------+---+\n",
      "|Id |   Name|Age|\n",
      "+---+-------+---+\n",
      "|  1|   john| 22|\n",
      "|  2|Stephen| 22|\n",
      "|  3|  Stacy| 24|\n",
      "|  4|   paul| 23|\n",
      "+---+-------+---+\n",
      "\n"
     ]
    }
   ],
   "source": [
    "#original dataframe is not changed\n",
    "df_pyspark.show()"
   ]
  },
  {
   "cell_type": "code",
   "execution_count": 32,
   "id": "bcabd43f",
   "metadata": {},
   "outputs": [],
   "source": [
    "df_pyspark = df_pyspark.withColumn('Age after 2 years', df_pyspark['Age']+2)"
   ]
  },
  {
   "cell_type": "code",
   "execution_count": 33,
   "id": "83153623",
   "metadata": {},
   "outputs": [
    {
     "name": "stdout",
     "output_type": "stream",
     "text": [
      "+---+-------+---+-----------------+\n",
      "|Id |   Name|Age|Age after 2 years|\n",
      "+---+-------+---+-----------------+\n",
      "|  1|   john| 22|               24|\n",
      "|  2|Stephen| 22|               24|\n",
      "|  3|  Stacy| 24|               26|\n",
      "|  4|   paul| 23|               25|\n",
      "+---+-------+---+-----------------+\n",
      "\n"
     ]
    }
   ],
   "source": [
    "df_pyspark.show()"
   ]
  },
  {
   "cell_type": "code",
   "execution_count": 34,
   "id": "ecd9384c",
   "metadata": {},
   "outputs": [
    {
     "name": "stdout",
     "output_type": "stream",
     "text": [
      "+---+-------+---+\n",
      "|Id |   Name|Age|\n",
      "+---+-------+---+\n",
      "|  1|   john| 22|\n",
      "|  2|Stephen| 22|\n",
      "|  3|  Stacy| 24|\n",
      "|  4|   paul| 23|\n",
      "+---+-------+---+\n",
      "\n"
     ]
    }
   ],
   "source": [
    "#Drop the columns\n",
    "\n",
    "df_pyspark.drop('Age after 2 years').show()"
   ]
  },
  {
   "cell_type": "code",
   "execution_count": 36,
   "id": "efad7aa4",
   "metadata": {},
   "outputs": [
    {
     "name": "stdout",
     "output_type": "stream",
     "text": [
      "+---+-------+---+-----------------+\n",
      "|Id |   Name|Age|Age after 2 years|\n",
      "+---+-------+---+-----------------+\n",
      "|  1|   john| 22|               24|\n",
      "|  2|Stephen| 22|               24|\n",
      "|  3|  Stacy| 24|               26|\n",
      "|  4|   paul| 23|               25|\n",
      "+---+-------+---+-----------------+\n",
      "\n"
     ]
    }
   ],
   "source": [
    "df_pyspark.show()"
   ]
  },
  {
   "cell_type": "code",
   "execution_count": 37,
   "id": "0ce94ab7",
   "metadata": {},
   "outputs": [],
   "source": [
    "df_pyspark = df_pyspark.drop('Age after 2 years')"
   ]
  },
  {
   "cell_type": "code",
   "execution_count": 38,
   "id": "610ac735",
   "metadata": {},
   "outputs": [
    {
     "name": "stdout",
     "output_type": "stream",
     "text": [
      "+---+-------+---+\n",
      "|Id |   Name|Age|\n",
      "+---+-------+---+\n",
      "|  1|   john| 22|\n",
      "|  2|Stephen| 22|\n",
      "|  3|  Stacy| 24|\n",
      "|  4|   paul| 23|\n",
      "+---+-------+---+\n",
      "\n"
     ]
    }
   ],
   "source": [
    "df_pyspark.show()"
   ]
  },
  {
   "cell_type": "code",
   "execution_count": 41,
   "id": "5ff09782",
   "metadata": {},
   "outputs": [],
   "source": [
    "#Rename the column\n",
    "\n",
    "df_pyspark = df_pyspark.withColumnRenamed('Name','New Name')"
   ]
  },
  {
   "cell_type": "code",
   "execution_count": 42,
   "id": "3dd689b5",
   "metadata": {},
   "outputs": [
    {
     "name": "stdout",
     "output_type": "stream",
     "text": [
      "+---+--------+---+\n",
      "|Id |New Name|Age|\n",
      "+---+--------+---+\n",
      "|  1|    john| 22|\n",
      "|  2| Stephen| 22|\n",
      "|  3|   Stacy| 24|\n",
      "|  4|    paul| 23|\n",
      "+---+--------+---+\n",
      "\n"
     ]
    }
   ],
   "source": [
    "df_pyspark.show()"
   ]
  },
  {
   "cell_type": "code",
   "execution_count": null,
   "id": "1f09affd",
   "metadata": {},
   "outputs": [],
   "source": []
  }
 ],
 "metadata": {
  "kernelspec": {
   "display_name": "Python 3 (ipykernel)",
   "language": "python",
   "name": "python3"
  },
  "language_info": {
   "codemirror_mode": {
    "name": "ipython",
    "version": 3
   },
   "file_extension": ".py",
   "mimetype": "text/x-python",
   "name": "python",
   "nbconvert_exporter": "python",
   "pygments_lexer": "ipython3",
   "version": "3.10.9"
  }
 },
 "nbformat": 4,
 "nbformat_minor": 5
}
