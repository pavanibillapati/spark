{
 "cells": [
  {
   "cell_type": "code",
   "execution_count": 0,
   "metadata": {
    "application/vnd.databricks.v1+cell": {
     "cellMetadata": {
      "byteLimit": 2048000,
      "rowLimit": 10000
     },
     "inputWidgets": {},
     "nuid": "02cb2771-4ce3-428f-a14a-b66b26148e47",
     "showTitle": false,
     "title": ""
    }
   },
   "outputs": [],
   "source": [
    "data = [(1, 'this is my 1st comment'),\n",
    "        (2, 'this is my 2nd comment'),\n",
    "        (3, 'this is my 3rd comment'),\n",
    "        (4, 'this is my 4th comment')]"
   ]
  },
  {
   "cell_type": "code",
   "execution_count": 0,
   "metadata": {
    "application/vnd.databricks.v1+cell": {
     "cellMetadata": {
      "byteLimit": 2048000,
      "rowLimit": 10000
     },
     "inputWidgets": {},
     "nuid": "982ed93a-d3dc-429d-a457-f9fb5fb12cfe",
     "showTitle": false,
     "title": ""
    }
   },
   "outputs": [],
   "source": [
    "schema = ('id', 'comment')"
   ]
  },
  {
   "cell_type": "code",
   "execution_count": 0,
   "metadata": {
    "application/vnd.databricks.v1+cell": {
     "cellMetadata": {
      "byteLimit": 2048000,
      "rowLimit": 10000
     },
     "inputWidgets": {},
     "nuid": "eff9e492-5f96-4fd0-a011-f0651e31cb36",
     "showTitle": false,
     "title": ""
    }
   },
   "outputs": [
    {
     "output_type": "stream",
     "name": "stdout",
     "output_type": "stream",
     "text": [
      "+---+--------------------+\n| id|             comment|\n+---+--------------------+\n|  1|this is my 1st co...|\n|  2|this is my 2nd co...|\n|  3|this is my 3rd co...|\n|  4|this is my 4th co...|\n+---+--------------------+\n\n"
     ]
    }
   ],
   "source": [
    "df = spark.createDataFrame(data = data, schema = schema)\n",
    "\n",
    "df.show()"
   ]
  },
  {
   "cell_type": "code",
   "execution_count": 0,
   "metadata": {
    "application/vnd.databricks.v1+cell": {
     "cellMetadata": {
      "byteLimit": 2048000,
      "rowLimit": 10000
     },
     "inputWidgets": {},
     "nuid": "08046f2a-e9a3-40c4-b8c6-80836694b5f4",
     "showTitle": false,
     "title": ""
    }
   },
   "outputs": [
    {
     "output_type": "stream",
     "name": "stdout",
     "output_type": "stream",
     "text": [
      "+---+--------------------+\n| id|             comment|\n+---+--------------------+\n|  1|this is my 1st co...|\n+---+--------------------+\nonly showing top 1 row\n\n"
     ]
    }
   ],
   "source": [
    "df.show(n=1)"
   ]
  },
  {
   "cell_type": "code",
   "execution_count": 0,
   "metadata": {
    "application/vnd.databricks.v1+cell": {
     "cellMetadata": {
      "byteLimit": 2048000,
      "rowLimit": 10000
     },
     "inputWidgets": {},
     "nuid": "fb50b941-10c3-4ce6-b4f0-99e66c4b1fe6",
     "showTitle": false,
     "title": ""
    }
   },
   "outputs": [
    {
     "output_type": "stream",
     "name": "stdout",
     "output_type": "stream",
     "text": [
      "+---+--------------------+\n| id|             comment|\n+---+--------------------+\n|  1|this is my 1st co...|\n+---+--------------------+\nonly showing top 1 row\n\n"
     ]
    }
   ],
   "source": [
    "df.show(n=1, truncate= True)"
   ]
  },
  {
   "cell_type": "code",
   "execution_count": 0,
   "metadata": {
    "application/vnd.databricks.v1+cell": {
     "cellMetadata": {
      "byteLimit": 2048000,
      "rowLimit": 10000
     },
     "inputWidgets": {},
     "nuid": "39ac29e8-8049-465d-8236-ed26aa995768",
     "showTitle": false,
     "title": ""
    }
   },
   "outputs": [
    {
     "output_type": "stream",
     "name": "stdout",
     "output_type": "stream",
     "text": [
      "+---+----------------------+\n|id |comment               |\n+---+----------------------+\n|1  |this is my 1st comment|\n+---+----------------------+\nonly showing top 1 row\n\n"
     ]
    }
   ],
   "source": [
    "df.show(n=1, truncate= False)"
   ]
  },
  {
   "cell_type": "code",
   "execution_count": 0,
   "metadata": {
    "application/vnd.databricks.v1+cell": {
     "cellMetadata": {
      "byteLimit": 2048000,
      "rowLimit": 10000
     },
     "inputWidgets": {},
     "nuid": "507c082c-1777-41c6-ba00-ff868bed3c1a",
     "showTitle": false,
     "title": ""
    }
   },
   "outputs": [
    {
     "output_type": "stream",
     "name": "stdout",
     "output_type": "stream",
     "text": [
      "+---+----------+\n| id|   comment|\n+---+----------+\n|  1|this is...|\n+---+----------+\nonly showing top 1 row\n\n"
     ]
    }
   ],
   "source": [
    "df.show(n=1, truncate= 10)"
   ]
  },
  {
   "cell_type": "code",
   "execution_count": 0,
   "metadata": {
    "application/vnd.databricks.v1+cell": {
     "cellMetadata": {
      "byteLimit": 2048000,
      "rowLimit": 10000
     },
     "inputWidgets": {},
     "nuid": "4031dcc7-2558-4264-a900-68518e39632e",
     "showTitle": false,
     "title": ""
    }
   },
   "outputs": [
    {
     "output_type": "stream",
     "name": "stdout",
     "output_type": "stream",
     "text": [
      "-RECORD 0-------------\n id      | 1          \n comment | this is... \n-RECORD 1-------------\n id      | 2          \n comment | this is... \nonly showing top 2 rows\n\n"
     ]
    }
   ],
   "source": [
    "df.show(n=2, truncate= 10, vertical = True)"
   ]
  },
  {
   "cell_type": "code",
   "execution_count": 0,
   "metadata": {
    "application/vnd.databricks.v1+cell": {
     "cellMetadata": {},
     "inputWidgets": {},
     "nuid": "1cf9a679-3449-4355-8dba-c4198e1ff423",
     "showTitle": false,
     "title": ""
    }
   },
   "outputs": [],
   "source": []
  }
 ],
 "metadata": {
  "application/vnd.databricks.v1+notebook": {
   "dashboards": [],
   "language": "python",
   "notebookMetadata": {
    "pythonIndentUnit": 4
   },
   "notebookName": "show",
   "widgets": {}
  }
 },
 "nbformat": 4,
 "nbformat_minor": 0
}
