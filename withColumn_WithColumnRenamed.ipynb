{
 "cells": [
  {
   "cell_type": "code",
   "execution_count": 0,
   "metadata": {
    "application/vnd.databricks.v1+cell": {
     "cellMetadata": {
      "byteLimit": 2048000,
      "rowLimit": 10000
     },
     "inputWidgets": {},
     "nuid": "1a01fa48-e4b1-4243-903f-13a61c1460ba",
     "showTitle": false,
     "title": ""
    }
   },
   "outputs": [
    {
     "output_type": "stream",
     "name": "stdout",
     "output_type": "stream",
     "text": [
      "+---+------+-----+\n| id|  name|  sal|\n+---+------+-----+\n|  1|pavani|23000|\n|  2|  john|26000|\n|  3|  Beck|20000|\n|  4|   Leo|33000|\n+---+------+-----+\n\nroot\n |-- id: long (nullable = true)\n |-- name: string (nullable = true)\n |-- sal: string (nullable = true)\n\n"
     ]
    }
   ],
   "source": [
    "df = spark.createDataFrame(data = [(1, 'pavani', '23000'), (2,'john', '26000'),(3, 'Beck', '20000'),(4,'Leo','33000')], schema = ('id','name', 'sal'))\n",
    "\n",
    "df.show()\n",
    "df.printSchema()"
   ]
  },
  {
   "cell_type": "code",
   "execution_count": 0,
   "metadata": {
    "application/vnd.databricks.v1+cell": {
     "cellMetadata": {
      "byteLimit": 2048000,
      "rowLimit": 10000
     },
     "inputWidgets": {},
     "nuid": "7fadc6bc-aac6-4930-b971-0561cf335bc1",
     "showTitle": false,
     "title": ""
    }
   },
   "outputs": [
    {
     "output_type": "stream",
     "name": "stdout",
     "output_type": "stream",
     "text": [
      "+---+------+-------+\n| id|  name|    sal|\n+---+------+-------+\n|  1|pavani|46000.0|\n|  2|  john|52000.0|\n|  3|  Beck|40000.0|\n|  4|   Leo|66000.0|\n+---+------+-------+\n\nroot\n |-- id: long (nullable = true)\n |-- name: string (nullable = true)\n |-- sal: double (nullable = true)\n\n"
     ]
    }
   ],
   "source": [
    "from pyspark.sql.functions import col, lit\n",
    "\n",
    "df = df.withColumn('sal',col('sal')*2)\n",
    "\n",
    "df.show()\n",
    "df.printSchema()"
   ]
  },
  {
   "cell_type": "code",
   "execution_count": 0,
   "metadata": {
    "application/vnd.databricks.v1+cell": {
     "cellMetadata": {
      "byteLimit": 2048000,
      "rowLimit": 10000
     },
     "inputWidgets": {},
     "nuid": "efec6993-78cd-45b6-ba50-d3de15d55a10",
     "showTitle": false,
     "title": ""
    }
   },
   "outputs": [
    {
     "output_type": "stream",
     "name": "stdout",
     "output_type": "stream",
     "text": [
      "Help on method withColumn in module pyspark.sql.dataframe:\n\nwithColumn(colName: str, col: pyspark.sql.column.Column) -> 'DataFrame' method of pyspark.sql.dataframe.DataFrame instance\n    Returns a new :class:`DataFrame` by adding a column or replacing the\n    existing column that has the same name.\n    \n    The column expression must be an expression over this :class:`DataFrame`; attempting to add\n    a column from some other :class:`DataFrame` will raise an error.\n    \n    .. versionadded:: 1.3.0\n    \n    .. versionchanged:: 3.4.0\n        Support Spark Connect.\n    \n    Parameters\n    ----------\n    colName : str\n        string, name of the new column.\n    col : :class:`Column`\n        a :class:`Column` expression for the new column.\n    \n    Returns\n    -------\n    :class:`DataFrame`\n        DataFrame with new or replaced column.\n    \n    Notes\n    -----\n    This method introduces a projection internally. Therefore, calling it multiple\n    times, for instance, via loops in order to add multiple columns can generate big\n    plans which can cause performance issues and even `StackOverflowException`.\n    To avoid this, use :func:`select` with multiple columns at once.\n    \n    Examples\n    --------\n    >>> df = spark.createDataFrame([(2, \"Alice\"), (5, \"Bob\")], schema=[\"age\", \"name\"])\n    >>> df.withColumn('age2', df.age + 2).show()\n    +---+-----+----+\n    |age| name|age2|\n    +---+-----+----+\n    |  2|Alice|   4|\n    |  5|  Bob|   7|\n    +---+-----+----+\n\n"
     ]
    }
   ],
   "source": [
    "help(df.withColumn)"
   ]
  },
  {
   "cell_type": "code",
   "execution_count": 0,
   "metadata": {
    "application/vnd.databricks.v1+cell": {
     "cellMetadata": {
      "byteLimit": 2048000,
      "rowLimit": 10000
     },
     "inputWidgets": {},
     "nuid": "e4144d4c-a2c6-4e54-a977-73cb3bc8c493",
     "showTitle": false,
     "title": ""
    }
   },
   "outputs": [],
   "source": [
    "df = df.withColumn('sal',col('sal').cast('Integer'))"
   ]
  },
  {
   "cell_type": "code",
   "execution_count": 0,
   "metadata": {
    "application/vnd.databricks.v1+cell": {
     "cellMetadata": {
      "byteLimit": 2048000,
      "rowLimit": 10000
     },
     "inputWidgets": {},
     "nuid": "36a0b369-c2dd-4905-a1cc-f51420ae2fbf",
     "showTitle": false,
     "title": ""
    }
   },
   "outputs": [
    {
     "output_type": "stream",
     "name": "stdout",
     "output_type": "stream",
     "text": [
      "+---+------+-----+\n| id|  name|  sal|\n+---+------+-----+\n|  1|pavani|46000|\n|  2|  john|52000|\n|  3|  Beck|40000|\n|  4|   Leo|66000|\n+---+------+-----+\n\nroot\n |-- id: long (nullable = true)\n |-- name: string (nullable = true)\n |-- sal: integer (nullable = true)\n\n"
     ]
    }
   ],
   "source": [
    "df.show()\n",
    "df.printSchema()"
   ]
  },
  {
   "cell_type": "code",
   "execution_count": 0,
   "metadata": {
    "application/vnd.databricks.v1+cell": {
     "cellMetadata": {
      "byteLimit": 2048000,
      "rowLimit": 10000
     },
     "inputWidgets": {},
     "nuid": "c3666124-f01d-49ff-b78b-fbba080221de",
     "showTitle": false,
     "title": ""
    }
   },
   "outputs": [],
   "source": [
    "df = df.withColumn('country', lit('India'))"
   ]
  },
  {
   "cell_type": "code",
   "execution_count": 0,
   "metadata": {
    "application/vnd.databricks.v1+cell": {
     "cellMetadata": {
      "byteLimit": 2048000,
      "rowLimit": 10000
     },
     "inputWidgets": {},
     "nuid": "8a70e2ba-13eb-43b2-9bd4-1e5eddb7c804",
     "showTitle": false,
     "title": ""
    }
   },
   "outputs": [
    {
     "output_type": "stream",
     "name": "stdout",
     "output_type": "stream",
     "text": [
      "+---+------+-----+-------+\n| id|  name|  sal|country|\n+---+------+-----+-------+\n|  1|pavani|46000|  India|\n|  2|  john|52000|  India|\n|  3|  Beck|40000|  India|\n|  4|   Leo|66000|  India|\n+---+------+-----+-------+\n\n"
     ]
    }
   ],
   "source": [
    "df.show()"
   ]
  },
  {
   "cell_type": "code",
   "execution_count": 0,
   "metadata": {
    "application/vnd.databricks.v1+cell": {
     "cellMetadata": {
      "byteLimit": 2048000,
      "rowLimit": 10000
     },
     "inputWidgets": {},
     "nuid": "24c0bb15-628d-4624-971d-2917e38ed826",
     "showTitle": false,
     "title": ""
    }
   },
   "outputs": [
    {
     "output_type": "stream",
     "name": "stdout",
     "output_type": "stream",
     "text": [
      "+---+------+-----+-------+----------+\n| id|  name|  sal|country|copied_sal|\n+---+------+-----+-------+----------+\n|  1|pavani|46000|  India|     46000|\n|  2|  john|52000|  India|     52000|\n|  3|  Beck|40000|  India|     40000|\n|  4|   Leo|66000|  India|     66000|\n+---+------+-----+-------+----------+\n\n"
     ]
    }
   ],
   "source": [
    "df = df.withColumn('copied_sal',col('sal'))\n",
    "\n",
    "df.show()"
   ]
  },
  {
   "cell_type": "code",
   "execution_count": 0,
   "metadata": {
    "application/vnd.databricks.v1+cell": {
     "cellMetadata": {
      "byteLimit": 2048000,
      "rowLimit": 10000
     },
     "inputWidgets": {},
     "nuid": "5f00f2c0-be4b-46a7-aed0-5e6ee1d3101d",
     "showTitle": false,
     "title": ""
    }
   },
   "outputs": [
    {
     "output_type": "stream",
     "name": "stdout",
     "output_type": "stream",
     "text": [
      "+---+------+------+-------+----------+\n| id|  name|Salary|country|copied_sal|\n+---+------+------+-------+----------+\n|  1|pavani| 46000|  India|     46000|\n|  2|  john| 52000|  India|     52000|\n|  3|  Beck| 40000|  India|     40000|\n|  4|   Leo| 66000|  India|     66000|\n+---+------+------+-------+----------+\n\n"
     ]
    }
   ],
   "source": [
    "df = df.withColumnRenamed('sal', 'Salary')\n",
    "\n",
    "df.show()"
   ]
  },
  {
   "cell_type": "code",
   "execution_count": 0,
   "metadata": {
    "application/vnd.databricks.v1+cell": {
     "cellMetadata": {},
     "inputWidgets": {},
     "nuid": "ec44631a-adad-42b5-b7d3-24d43e823027",
     "showTitle": false,
     "title": ""
    }
   },
   "outputs": [],
   "source": []
  }
 ],
 "metadata": {
  "application/vnd.databricks.v1+notebook": {
   "dashboards": [],
   "language": "python",
   "notebookMetadata": {
    "pythonIndentUnit": 4
   },
   "notebookName": "withColumn_WithColumnRenamed",
   "widgets": {}
  }
 },
 "nbformat": 4,
 "nbformat_minor": 0
}
